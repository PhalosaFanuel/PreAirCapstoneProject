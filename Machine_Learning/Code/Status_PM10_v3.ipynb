{
  "nbformat": 4,
  "nbformat_minor": 0,
  "metadata": {
    "colab": {
      "name": "Status_PM10_Fanuel.ipynb",
      "provenance": [],
      "collapsed_sections": []
    },
    "kernelspec": {
      "name": "python3",
      "display_name": "Python 3"
    },
    "language_info": {
      "name": "python"
    }
  },
  "cells": [
    {
      "cell_type": "code",
      "execution_count": 1,
      "metadata": {
        "id": "27TfQPs6qDxC"
      },
      "outputs": [],
      "source": [
        "import os\n",
        "import zipfile\n",
        "import matplotlib.pyplot as plt\n",
        "import tensorflow as tf\n",
        "import numpy as np\n",
        "import PIL\n",
        "from PIL import Image, ImageOps\n",
        "import pandas as pd\n",
        "from pathlib import Path\n",
        "from sklearn.preprocessing import MinMaxScaler\n",
        "from tensorflow.keras import layers\n",
        "from tensorflow.keras import Model\n",
        "from tensorflow.keras.optimizers import RMSprop\n",
        "from tensorflow.keras.preprocessing.image import ImageDataGenerator\n",
        "from tensorflow.keras.preprocessing.image import img_to_array, load_img\n",
        "from sklearn.preprocessing import MinMaxScaler"
      ]
    },
    {
      "cell_type": "code",
      "source": [
        "!pip install PyDrive"
      ],
      "metadata": {
        "colab": {
          "base_uri": "https://localhost:8080/"
        },
        "id": "0NhIUk2pbKto",
        "outputId": "0ab54586-cce8-4de0-d20c-6735030018bf"
      },
      "execution_count": 2,
      "outputs": [
        {
          "output_type": "stream",
          "name": "stdout",
          "text": [
            "Looking in indexes: https://pypi.org/simple, https://us-python.pkg.dev/colab-wheels/public/simple/\n",
            "Requirement already satisfied: PyDrive in /usr/local/lib/python3.7/dist-packages (1.3.1)\n",
            "Requirement already satisfied: PyYAML>=3.0 in /usr/local/lib/python3.7/dist-packages (from PyDrive) (3.13)\n",
            "Requirement already satisfied: google-api-python-client>=1.2 in /usr/local/lib/python3.7/dist-packages (from PyDrive) (1.12.11)\n",
            "Requirement already satisfied: oauth2client>=4.0.0 in /usr/local/lib/python3.7/dist-packages (from PyDrive) (4.1.3)\n",
            "Requirement already satisfied: httplib2<1dev,>=0.15.0 in /usr/local/lib/python3.7/dist-packages (from google-api-python-client>=1.2->PyDrive) (0.17.4)\n",
            "Requirement already satisfied: google-auth-httplib2>=0.0.3 in /usr/local/lib/python3.7/dist-packages (from google-api-python-client>=1.2->PyDrive) (0.0.4)\n",
            "Requirement already satisfied: google-api-core<3dev,>=1.21.0 in /usr/local/lib/python3.7/dist-packages (from google-api-python-client>=1.2->PyDrive) (1.31.6)\n",
            "Requirement already satisfied: google-auth<3dev,>=1.16.0 in /usr/local/lib/python3.7/dist-packages (from google-api-python-client>=1.2->PyDrive) (1.35.0)\n",
            "Requirement already satisfied: six<2dev,>=1.13.0 in /usr/local/lib/python3.7/dist-packages (from google-api-python-client>=1.2->PyDrive) (1.15.0)\n",
            "Requirement already satisfied: uritemplate<4dev,>=3.0.0 in /usr/local/lib/python3.7/dist-packages (from google-api-python-client>=1.2->PyDrive) (3.0.1)\n",
            "Requirement already satisfied: protobuf<4.0.0dev,>=3.12.0 in /usr/local/lib/python3.7/dist-packages (from google-api-core<3dev,>=1.21.0->google-api-python-client>=1.2->PyDrive) (3.17.3)\n",
            "Requirement already satisfied: googleapis-common-protos<2.0dev,>=1.6.0 in /usr/local/lib/python3.7/dist-packages (from google-api-core<3dev,>=1.21.0->google-api-python-client>=1.2->PyDrive) (1.56.2)\n",
            "Requirement already satisfied: setuptools>=40.3.0 in /usr/local/lib/python3.7/dist-packages (from google-api-core<3dev,>=1.21.0->google-api-python-client>=1.2->PyDrive) (57.4.0)\n",
            "Requirement already satisfied: packaging>=14.3 in /usr/local/lib/python3.7/dist-packages (from google-api-core<3dev,>=1.21.0->google-api-python-client>=1.2->PyDrive) (21.3)\n",
            "Requirement already satisfied: requests<3.0.0dev,>=2.18.0 in /usr/local/lib/python3.7/dist-packages (from google-api-core<3dev,>=1.21.0->google-api-python-client>=1.2->PyDrive) (2.23.0)\n",
            "Requirement already satisfied: pytz in /usr/local/lib/python3.7/dist-packages (from google-api-core<3dev,>=1.21.0->google-api-python-client>=1.2->PyDrive) (2022.1)\n",
            "Requirement already satisfied: pyasn1-modules>=0.2.1 in /usr/local/lib/python3.7/dist-packages (from google-auth<3dev,>=1.16.0->google-api-python-client>=1.2->PyDrive) (0.2.8)\n",
            "Requirement already satisfied: rsa<5,>=3.1.4 in /usr/local/lib/python3.7/dist-packages (from google-auth<3dev,>=1.16.0->google-api-python-client>=1.2->PyDrive) (4.8)\n",
            "Requirement already satisfied: cachetools<5.0,>=2.0.0 in /usr/local/lib/python3.7/dist-packages (from google-auth<3dev,>=1.16.0->google-api-python-client>=1.2->PyDrive) (4.2.4)\n",
            "Requirement already satisfied: pyasn1>=0.1.7 in /usr/local/lib/python3.7/dist-packages (from oauth2client>=4.0.0->PyDrive) (0.4.8)\n",
            "Requirement already satisfied: pyparsing!=3.0.5,>=2.0.2 in /usr/local/lib/python3.7/dist-packages (from packaging>=14.3->google-api-core<3dev,>=1.21.0->google-api-python-client>=1.2->PyDrive) (3.0.9)\n",
            "Requirement already satisfied: certifi>=2017.4.17 in /usr/local/lib/python3.7/dist-packages (from requests<3.0.0dev,>=2.18.0->google-api-core<3dev,>=1.21.0->google-api-python-client>=1.2->PyDrive) (2022.5.18.1)\n",
            "Requirement already satisfied: idna<3,>=2.5 in /usr/local/lib/python3.7/dist-packages (from requests<3.0.0dev,>=2.18.0->google-api-core<3dev,>=1.21.0->google-api-python-client>=1.2->PyDrive) (2.10)\n",
            "Requirement already satisfied: chardet<4,>=3.0.2 in /usr/local/lib/python3.7/dist-packages (from requests<3.0.0dev,>=2.18.0->google-api-core<3dev,>=1.21.0->google-api-python-client>=1.2->PyDrive) (3.0.4)\n",
            "Requirement already satisfied: urllib3!=1.25.0,!=1.25.1,<1.26,>=1.21.1 in /usr/local/lib/python3.7/dist-packages (from requests<3.0.0dev,>=2.18.0->google-api-core<3dev,>=1.21.0->google-api-python-client>=1.2->PyDrive) (1.24.3)\n"
          ]
        }
      ]
    },
    {
      "cell_type": "code",
      "source": [
        "from pydrive.auth import GoogleAuth\n",
        "from pydrive.drive import GoogleDrive\n",
        "from google.colab import auth\n",
        "from oauth2client.client import GoogleCredentials"
      ],
      "metadata": {
        "id": "2WHwkynGbTyB"
      },
      "execution_count": 3,
      "outputs": []
    },
    {
      "cell_type": "code",
      "source": [
        "auth.authenticate_user()\n",
        "gauth = GoogleAuth()\n",
        "gauth.credentials = GoogleCredentials.get_application_default()\n",
        "drive = GoogleDrive(gauth)"
      ],
      "metadata": {
        "id": "fGrn5u2xbf5C"
      },
      "execution_count": 4,
      "outputs": []
    },
    {
      "cell_type": "markdown",
      "source": [
        "**Fanuel**"
      ],
      "metadata": {
        "id": "bW2YcmHQVi6g"
      }
    },
    {
      "cell_type": "code",
      "source": [
        "# Download image zip\n",
        "downloaded = drive.CreateFile({'id':\"10K44l5A__7DrNTZStVP6-vebBbWp9f4Y\"})\n",
        "downloaded.GetContentFile('Dataset.zip') \n",
        "\n",
        "# Download CSV data\n",
        "downloaded = drive.CreateFile({'id':\"1apu6N1IwVWtTTVkqacqO91HeXkAP_WYU\"})\n",
        "downloaded.GetContentFile('PM10_Data.csv') "
      ],
      "metadata": {
        "id": "Wh2jkjCAhdMW"
      },
      "execution_count": 5,
      "outputs": []
    },
    {
      "cell_type": "code",
      "source": [
        "# Unzip File\n",
        "dataset_path_zip = \"/content/Dataset.zip\"\n",
        "zip_ref = zipfile.ZipFile(dataset_path_zip, 'r')\n",
        "zip_ref.extractall('/content/dataset')\n",
        "\n",
        "zip_ref.close()"
      ],
      "metadata": {
        "id": "ZHPHPb1hVsrG"
      },
      "execution_count": 6,
      "outputs": []
    },
    {
      "cell_type": "code",
      "source": [
        "# Checking image inside folder\n",
        "dataset_path = \"/content/dataset\"\n",
        "# Directory with training Good pictures\n",
        "Good_dir = os.path.join(dataset_path, 'Good')\n",
        "# Directory with training Moderate pictures\n",
        "Moderate_dir = os.path.join(dataset_path, 'Moderate')\n",
        "# Directory with training Dangerous pictures\n",
        "Dangerous_dir = os.path.join(dataset_path, 'Dangerous')\n",
        "\n",
        "# Check the number of images for each class and set\n",
        "print(f\"There are {len(os.listdir(Good_dir))} images in good directory.\\n\")\n",
        "print(f\"There are {len(os.listdir(Moderate_dir))} images in moderate directory.\\n\")\n",
        "print(f\"There are {len(os.listdir(Dangerous_dir))} images in dangerous directory.\\n\")"
      ],
      "metadata": {
        "colab": {
          "base_uri": "https://localhost:8080/"
        },
        "id": "KkeQ_yGzDb6j",
        "outputId": "a3552ef3-426f-4e94-a6fe-ece3b5f0736b"
      },
      "execution_count": 7,
      "outputs": [
        {
          "output_type": "stream",
          "name": "stdout",
          "text": [
            "There are 390 images in good directory.\n",
            "\n",
            "There are 176 images in moderate directory.\n",
            "\n",
            "There are 35 images in dangerous directory.\n",
            "\n"
          ]
        }
      ]
    },
    {
      "cell_type": "code",
      "source": [
        "def turn_to_jpg(image_path):\n",
        "  for i in os.listdir(image_path):\n",
        "    if not i.endswith(\".jpg\"):\n",
        "      im = Image.open(os.path.join(image_path, i))\n",
        "      im = im.convert(\"RGB\")\n",
        "      im = im.resize((150, 150))\n",
        "      im.save(image_path + \"/\" + Path(i).stem + \".jpg\")\n",
        "  for i in os.listdir(image_path):\n",
        "    if not i.endswith(\".jpg\"):\n",
        "      os.remove(os.path.join(image_path, i))"
      ],
      "metadata": {
        "id": "ukSWWVr28fsM"
      },
      "execution_count": 8,
      "outputs": []
    },
    {
      "cell_type": "code",
      "source": [
        "# Turn all image to jpg\n",
        "turn_to_jpg(Good_dir)\n",
        "turn_to_jpg(Moderate_dir)\n",
        "turn_to_jpg(Dangerous_dir)"
      ],
      "metadata": {
        "id": "e-G_-by88T01"
      },
      "execution_count": 9,
      "outputs": []
    },
    {
      "cell_type": "code",
      "source": [
        "# Read CSV File\n",
        "csv_path = \"/content/PM10_Data.csv\"\n",
        "df = pd.read_csv(csv_path)\n",
        "df.head(30)"
      ],
      "metadata": {
        "colab": {
          "base_uri": "https://localhost:8080/",
          "height": 990
        },
        "id": "oog73NERIci5",
        "outputId": "99218324-37f8-4d5b-ad0f-7e138ac90a7a"
      },
      "execution_count": 10,
      "outputs": [
        {
          "output_type": "execute_result",
          "data": {
            "text/plain": [
              "     Image  PM10 Status\n",
              "0    Good1    27   Good\n",
              "1    Good2    27   Good\n",
              "2    Good3    27   Good\n",
              "3    Good4    27   Good\n",
              "4    Good5    27   Good\n",
              "5    Good6    27   Good\n",
              "6    Good7    27   Good\n",
              "7    Good8    59   Good\n",
              "8    Good9    59   Good\n",
              "9   Good10    59   Good\n",
              "10  Good11    59   Good\n",
              "11  Good12    59   Good\n",
              "12  Good13    59   Good\n",
              "13  Good14    29   Good\n",
              "14  Good15    29   Good\n",
              "15  Good16    29   Good\n",
              "16  Good17    29   Good\n",
              "17  Good18    29   Good\n",
              "18  Good19    29   Good\n",
              "19  Good20    29   Good\n",
              "20  Good21    29   Good\n",
              "21  Good22    29   Good\n",
              "22  Good23    29   Good\n",
              "23  Good24    29   Good\n",
              "24  Good25    29   Good\n",
              "25  Good26    58   Good\n",
              "26  Good27    58   Good\n",
              "27  Good28    58   Good\n",
              "28  Good29    58   Good\n",
              "29  Good30    58   Good"
            ],
            "text/html": [
              "\n",
              "  <div id=\"df-d1c13e0f-50af-446a-86c5-835b3b8f4678\">\n",
              "    <div class=\"colab-df-container\">\n",
              "      <div>\n",
              "<style scoped>\n",
              "    .dataframe tbody tr th:only-of-type {\n",
              "        vertical-align: middle;\n",
              "    }\n",
              "\n",
              "    .dataframe tbody tr th {\n",
              "        vertical-align: top;\n",
              "    }\n",
              "\n",
              "    .dataframe thead th {\n",
              "        text-align: right;\n",
              "    }\n",
              "</style>\n",
              "<table border=\"1\" class=\"dataframe\">\n",
              "  <thead>\n",
              "    <tr style=\"text-align: right;\">\n",
              "      <th></th>\n",
              "      <th>Image</th>\n",
              "      <th>PM10</th>\n",
              "      <th>Status</th>\n",
              "    </tr>\n",
              "  </thead>\n",
              "  <tbody>\n",
              "    <tr>\n",
              "      <th>0</th>\n",
              "      <td>Good1</td>\n",
              "      <td>27</td>\n",
              "      <td>Good</td>\n",
              "    </tr>\n",
              "    <tr>\n",
              "      <th>1</th>\n",
              "      <td>Good2</td>\n",
              "      <td>27</td>\n",
              "      <td>Good</td>\n",
              "    </tr>\n",
              "    <tr>\n",
              "      <th>2</th>\n",
              "      <td>Good3</td>\n",
              "      <td>27</td>\n",
              "      <td>Good</td>\n",
              "    </tr>\n",
              "    <tr>\n",
              "      <th>3</th>\n",
              "      <td>Good4</td>\n",
              "      <td>27</td>\n",
              "      <td>Good</td>\n",
              "    </tr>\n",
              "    <tr>\n",
              "      <th>4</th>\n",
              "      <td>Good5</td>\n",
              "      <td>27</td>\n",
              "      <td>Good</td>\n",
              "    </tr>\n",
              "    <tr>\n",
              "      <th>5</th>\n",
              "      <td>Good6</td>\n",
              "      <td>27</td>\n",
              "      <td>Good</td>\n",
              "    </tr>\n",
              "    <tr>\n",
              "      <th>6</th>\n",
              "      <td>Good7</td>\n",
              "      <td>27</td>\n",
              "      <td>Good</td>\n",
              "    </tr>\n",
              "    <tr>\n",
              "      <th>7</th>\n",
              "      <td>Good8</td>\n",
              "      <td>59</td>\n",
              "      <td>Good</td>\n",
              "    </tr>\n",
              "    <tr>\n",
              "      <th>8</th>\n",
              "      <td>Good9</td>\n",
              "      <td>59</td>\n",
              "      <td>Good</td>\n",
              "    </tr>\n",
              "    <tr>\n",
              "      <th>9</th>\n",
              "      <td>Good10</td>\n",
              "      <td>59</td>\n",
              "      <td>Good</td>\n",
              "    </tr>\n",
              "    <tr>\n",
              "      <th>10</th>\n",
              "      <td>Good11</td>\n",
              "      <td>59</td>\n",
              "      <td>Good</td>\n",
              "    </tr>\n",
              "    <tr>\n",
              "      <th>11</th>\n",
              "      <td>Good12</td>\n",
              "      <td>59</td>\n",
              "      <td>Good</td>\n",
              "    </tr>\n",
              "    <tr>\n",
              "      <th>12</th>\n",
              "      <td>Good13</td>\n",
              "      <td>59</td>\n",
              "      <td>Good</td>\n",
              "    </tr>\n",
              "    <tr>\n",
              "      <th>13</th>\n",
              "      <td>Good14</td>\n",
              "      <td>29</td>\n",
              "      <td>Good</td>\n",
              "    </tr>\n",
              "    <tr>\n",
              "      <th>14</th>\n",
              "      <td>Good15</td>\n",
              "      <td>29</td>\n",
              "      <td>Good</td>\n",
              "    </tr>\n",
              "    <tr>\n",
              "      <th>15</th>\n",
              "      <td>Good16</td>\n",
              "      <td>29</td>\n",
              "      <td>Good</td>\n",
              "    </tr>\n",
              "    <tr>\n",
              "      <th>16</th>\n",
              "      <td>Good17</td>\n",
              "      <td>29</td>\n",
              "      <td>Good</td>\n",
              "    </tr>\n",
              "    <tr>\n",
              "      <th>17</th>\n",
              "      <td>Good18</td>\n",
              "      <td>29</td>\n",
              "      <td>Good</td>\n",
              "    </tr>\n",
              "    <tr>\n",
              "      <th>18</th>\n",
              "      <td>Good19</td>\n",
              "      <td>29</td>\n",
              "      <td>Good</td>\n",
              "    </tr>\n",
              "    <tr>\n",
              "      <th>19</th>\n",
              "      <td>Good20</td>\n",
              "      <td>29</td>\n",
              "      <td>Good</td>\n",
              "    </tr>\n",
              "    <tr>\n",
              "      <th>20</th>\n",
              "      <td>Good21</td>\n",
              "      <td>29</td>\n",
              "      <td>Good</td>\n",
              "    </tr>\n",
              "    <tr>\n",
              "      <th>21</th>\n",
              "      <td>Good22</td>\n",
              "      <td>29</td>\n",
              "      <td>Good</td>\n",
              "    </tr>\n",
              "    <tr>\n",
              "      <th>22</th>\n",
              "      <td>Good23</td>\n",
              "      <td>29</td>\n",
              "      <td>Good</td>\n",
              "    </tr>\n",
              "    <tr>\n",
              "      <th>23</th>\n",
              "      <td>Good24</td>\n",
              "      <td>29</td>\n",
              "      <td>Good</td>\n",
              "    </tr>\n",
              "    <tr>\n",
              "      <th>24</th>\n",
              "      <td>Good25</td>\n",
              "      <td>29</td>\n",
              "      <td>Good</td>\n",
              "    </tr>\n",
              "    <tr>\n",
              "      <th>25</th>\n",
              "      <td>Good26</td>\n",
              "      <td>58</td>\n",
              "      <td>Good</td>\n",
              "    </tr>\n",
              "    <tr>\n",
              "      <th>26</th>\n",
              "      <td>Good27</td>\n",
              "      <td>58</td>\n",
              "      <td>Good</td>\n",
              "    </tr>\n",
              "    <tr>\n",
              "      <th>27</th>\n",
              "      <td>Good28</td>\n",
              "      <td>58</td>\n",
              "      <td>Good</td>\n",
              "    </tr>\n",
              "    <tr>\n",
              "      <th>28</th>\n",
              "      <td>Good29</td>\n",
              "      <td>58</td>\n",
              "      <td>Good</td>\n",
              "    </tr>\n",
              "    <tr>\n",
              "      <th>29</th>\n",
              "      <td>Good30</td>\n",
              "      <td>58</td>\n",
              "      <td>Good</td>\n",
              "    </tr>\n",
              "  </tbody>\n",
              "</table>\n",
              "</div>\n",
              "      <button class=\"colab-df-convert\" onclick=\"convertToInteractive('df-d1c13e0f-50af-446a-86c5-835b3b8f4678')\"\n",
              "              title=\"Convert this dataframe to an interactive table.\"\n",
              "              style=\"display:none;\">\n",
              "        \n",
              "  <svg xmlns=\"http://www.w3.org/2000/svg\" height=\"24px\"viewBox=\"0 0 24 24\"\n",
              "       width=\"24px\">\n",
              "    <path d=\"M0 0h24v24H0V0z\" fill=\"none\"/>\n",
              "    <path d=\"M18.56 5.44l.94 2.06.94-2.06 2.06-.94-2.06-.94-.94-2.06-.94 2.06-2.06.94zm-11 1L8.5 8.5l.94-2.06 2.06-.94-2.06-.94L8.5 2.5l-.94 2.06-2.06.94zm10 10l.94 2.06.94-2.06 2.06-.94-2.06-.94-.94-2.06-.94 2.06-2.06.94z\"/><path d=\"M17.41 7.96l-1.37-1.37c-.4-.4-.92-.59-1.43-.59-.52 0-1.04.2-1.43.59L10.3 9.45l-7.72 7.72c-.78.78-.78 2.05 0 2.83L4 21.41c.39.39.9.59 1.41.59.51 0 1.02-.2 1.41-.59l7.78-7.78 2.81-2.81c.8-.78.8-2.07 0-2.86zM5.41 20L4 18.59l7.72-7.72 1.47 1.35L5.41 20z\"/>\n",
              "  </svg>\n",
              "      </button>\n",
              "      \n",
              "  <style>\n",
              "    .colab-df-container {\n",
              "      display:flex;\n",
              "      flex-wrap:wrap;\n",
              "      gap: 12px;\n",
              "    }\n",
              "\n",
              "    .colab-df-convert {\n",
              "      background-color: #E8F0FE;\n",
              "      border: none;\n",
              "      border-radius: 50%;\n",
              "      cursor: pointer;\n",
              "      display: none;\n",
              "      fill: #1967D2;\n",
              "      height: 32px;\n",
              "      padding: 0 0 0 0;\n",
              "      width: 32px;\n",
              "    }\n",
              "\n",
              "    .colab-df-convert:hover {\n",
              "      background-color: #E2EBFA;\n",
              "      box-shadow: 0px 1px 2px rgba(60, 64, 67, 0.3), 0px 1px 3px 1px rgba(60, 64, 67, 0.15);\n",
              "      fill: #174EA6;\n",
              "    }\n",
              "\n",
              "    [theme=dark] .colab-df-convert {\n",
              "      background-color: #3B4455;\n",
              "      fill: #D2E3FC;\n",
              "    }\n",
              "\n",
              "    [theme=dark] .colab-df-convert:hover {\n",
              "      background-color: #434B5C;\n",
              "      box-shadow: 0px 1px 3px 1px rgba(0, 0, 0, 0.15);\n",
              "      filter: drop-shadow(0px 1px 2px rgba(0, 0, 0, 0.3));\n",
              "      fill: #FFFFFF;\n",
              "    }\n",
              "  </style>\n",
              "\n",
              "      <script>\n",
              "        const buttonEl =\n",
              "          document.querySelector('#df-d1c13e0f-50af-446a-86c5-835b3b8f4678 button.colab-df-convert');\n",
              "        buttonEl.style.display =\n",
              "          google.colab.kernel.accessAllowed ? 'block' : 'none';\n",
              "\n",
              "        async function convertToInteractive(key) {\n",
              "          const element = document.querySelector('#df-d1c13e0f-50af-446a-86c5-835b3b8f4678');\n",
              "          const dataTable =\n",
              "            await google.colab.kernel.invokeFunction('convertToInteractive',\n",
              "                                                     [key], {});\n",
              "          if (!dataTable) return;\n",
              "\n",
              "          const docLinkHtml = 'Like what you see? Visit the ' +\n",
              "            '<a target=\"_blank\" href=https://colab.research.google.com/notebooks/data_table.ipynb>data table notebook</a>'\n",
              "            + ' to learn more about interactive tables.';\n",
              "          element.innerHTML = '';\n",
              "          dataTable['output_type'] = 'display_data';\n",
              "          await google.colab.output.renderOutput(dataTable, element);\n",
              "          const docLink = document.createElement('div');\n",
              "          docLink.innerHTML = docLinkHtml;\n",
              "          element.appendChild(docLink);\n",
              "        }\n",
              "      </script>\n",
              "    </div>\n",
              "  </div>\n",
              "  "
            ]
          },
          "metadata": {},
          "execution_count": 10
        }
      ]
    },
    {
      "cell_type": "code",
      "source": [
        "def remove_missing_image(dataset, image_path):\n",
        "    dataset = np.array(dataset)\n",
        "    # image_name = np.array(dataset[[\"Image\"]])\n",
        "    # pm10_image = np.array(dataset[[\"PM10\"]])\n",
        "    # image_status = np.array(dataset[[\"image_status\"]])\n",
        "    result = []\n",
        "    data_index = 0\n",
        "    for i in dataset:\n",
        "      if os.path.join(i[0] + \".jpg\") not in os.listdir(os.path.join(image_path, i[2])):\n",
        "        # print(os.path.join(image_path, i[2] + \"/\" + i[0] + \".jpg\"))\n",
        "        # print(\"=\"*3)\n",
        "        # # print(os.listdir(os.path.join(image_path, i[2])))\n",
        "        # numpy.delete(dataset, data_index)\n",
        "        result.append(data_index)\n",
        "      data_index += 1\n",
        "    return result"
      ],
      "metadata": {
        "id": "JfD5WDP2TRNK"
      },
      "execution_count": 361,
      "outputs": []
    },
    {
      "cell_type": "code",
      "source": [
        "# Split data with ratio train 90% and validation 10%\n",
        "randomize_train = df.sample(frac = 0.9)\n",
        "randomize_val = df.drop(randomize_train.index)\n",
        "# image_name = randomize_train[[\"Image\"]]\n",
        "# pm10_image = randomize_train[[\"PM10\"]]\n",
        "# image_status = randomize_train[[\"Status\"]]\n",
        "not_found_image = remove_missing_image(randomize_train, dataset_path)\n",
        "train_image = np.delete(np.array(randomize_train), not_found_image, axis=0)\n",
        "\n",
        "not_found_image = remove_missing_image(randomize_val, dataset_path)\n",
        "val_image = np.delete(np.array(randomize_val), not_found_image, axis=0)"
      ],
      "metadata": {
        "id": "-Cy0upIpKEpC"
      },
      "execution_count": 362,
      "outputs": []
    },
    {
      "cell_type": "markdown",
      "source": [
        "GLCM Feature Extraction"
      ],
      "metadata": {
        "id": "SYDjiD5Wj6KA"
      }
    },
    {
      "cell_type": "code",
      "source": [
        "from skimage.feature import greycomatrix, greycoprops"
      ],
      "metadata": {
        "id": "KgNky8LCj9gs"
      },
      "execution_count": 363,
      "outputs": []
    },
    {
      "cell_type": "code",
      "source": [
        "# glcm = greycomatrix(matrix, \n",
        "#                     distances=[1], \n",
        "#                     angles=[0], \n",
        "#                     levels=4,\n",
        "#                     symmetric=True, \n",
        "#                     normed=True)\n",
        "def process_image(image_path, image_list):\n",
        "    # ori_image = Image.open(image_path + \"/\" + image_name + \".jpg\")\n",
        "    ori_image = Image.open(os.path.join(image_path, image_list[2] + \"/\" + image_list[0] + \".jpg\"))\n",
        "    # ori_image = ori_image.resize((150, 150))\n",
        "    gray_image = ImageOps.grayscale(ori_image)\n",
        "    glcm = greycomatrix(np.array(gray_image), \n",
        "                distances=[1], \n",
        "                angles=[0, np.pi/2])\n",
        "    g = greycoprops(glcm, 'dissimilarity')\n",
        "    return g.flatten()\n",
        "    # return np.array(ori_image)"
      ],
      "metadata": {
        "id": "kEMii6Ez2jm5"
      },
      "execution_count": 364,
      "outputs": []
    },
    {
      "cell_type": "code",
      "source": [
        "# Open image and put it in array\n",
        "image_array = []\n",
        "for i in train_image:\n",
        "  image_array.append(process_image(dataset_path, i))\n",
        "image_array = np.array(image_array)\n",
        "\n",
        "val_array = []\n",
        "for i in val_image:\n",
        "  val_array.append(process_image(dataset_path, i))\n",
        "val_array = np.array(val_array)"
      ],
      "metadata": {
        "id": "YA8a5VDtmPqH"
      },
      "execution_count": 365,
      "outputs": []
    },
    {
      "cell_type": "code",
      "source": [
        "image_array.shape"
      ],
      "metadata": {
        "colab": {
          "base_uri": "https://localhost:8080/"
        },
        "id": "LI8WEv6D2KcM",
        "outputId": "d7dd2de7-604a-4107-d9b5-d121b3e26566"
      },
      "execution_count": 366,
      "outputs": [
        {
          "output_type": "execute_result",
          "data": {
            "text/plain": [
              "(536, 2)"
            ]
          },
          "metadata": {},
          "execution_count": 366
        }
      ]
    },
    {
      "cell_type": "code",
      "source": [
        "image_array"
      ],
      "metadata": {
        "colab": {
          "base_uri": "https://localhost:8080/"
        },
        "id": "t2eO7bz2m36y",
        "outputId": "a0d6127b-a123-42ad-fedd-8870acae0165"
      },
      "execution_count": 367,
      "outputs": [
        {
          "output_type": "execute_result",
          "data": {
            "text/plain": [
              "array([[13.91117709, 11.39301402],\n",
              "       [13.21271837, 14.38553011],\n",
              "       [ 6.75418345,  7.35355705],\n",
              "       ...,\n",
              "       [12.54116331, 10.52599553],\n",
              "       [ 7.54483096,  7.69116693],\n",
              "       [ 7.61597315,  6.89230425]])"
            ]
          },
          "metadata": {},
          "execution_count": 367
        }
      ]
    },
    {
      "cell_type": "code",
      "source": [
        "train_labels = np.delete(train_image, 0, 1)\n",
        "train_labels = np.delete(train_labels, 1, 1)\n",
        "\n",
        "val_labels = np.delete(val_image, 0, 1)\n",
        "val_labels = np.delete(val_labels, 1, 1)"
      ],
      "metadata": {
        "id": "o61X0CzieuDS"
      },
      "execution_count": 368,
      "outputs": []
    },
    {
      "cell_type": "code",
      "source": [
        "scale = MinMaxScaler(feature_range=(0,1))\n",
        "arr = np.concatenate((train_labels, val_labels))\n",
        "arr = scale.fit_transform(arr)\n",
        "train_labels = arr[:train_labels.shape[0]]\n",
        "val_labels = arr[train_labels.shape[0]:]"
      ],
      "metadata": {
        "id": "sWcEOHN7zL3v"
      },
      "execution_count": 369,
      "outputs": []
    },
    {
      "cell_type": "code",
      "source": [
        "image_array = np.reshape(image_array, (image_array.shape[0], image_array.shape[1], 1))\n",
        "val_array = np.reshape(val_array, (val_array.shape[0], val_array.shape[1], 1))"
      ],
      "metadata": {
        "id": "EVWP7gVugKE9"
      },
      "execution_count": 370,
      "outputs": []
    },
    {
      "cell_type": "code",
      "source": [
        "# image_array = image_array/255.0\n",
        "# val_array = val_array/255.0"
      ],
      "metadata": {
        "id": "UTiNeGXnN8Jk"
      },
      "execution_count": 371,
      "outputs": []
    },
    {
      "cell_type": "code",
      "source": [
        "train_labels = train_labels.astype(float)\n",
        "val_labels = val_labels.astype(float)"
      ],
      "metadata": {
        "id": "MEpQwx2XOw6s"
      },
      "execution_count": 372,
      "outputs": []
    },
    {
      "cell_type": "code",
      "source": [
        "# scale = MinMaxScaler(feature_range=(0,1))\n",
        "# train_labels = scale.fit_transform(train_labels)\n",
        "# val_labels = scale.fit_transform(val_labels)"
      ],
      "metadata": {
        "id": "YBS1jkTShOJY"
      },
      "execution_count": 373,
      "outputs": []
    },
    {
      "cell_type": "code",
      "source": [
        "image_array.shape"
      ],
      "metadata": {
        "colab": {
          "base_uri": "https://localhost:8080/"
        },
        "id": "r-tNCOMxz1bW",
        "outputId": "4bfde4eb-5a3a-4356-8f1a-72d0879cdf68"
      },
      "execution_count": 374,
      "outputs": [
        {
          "output_type": "execute_result",
          "data": {
            "text/plain": [
              "(536, 2, 1)"
            ]
          },
          "metadata": {},
          "execution_count": 374
        }
      ]
    },
    {
      "cell_type": "code",
      "source": [
        "train_labels = np.reshape(train_labels, (image_array.shape[0], 1))\n",
        "val_labels = np.reshape(val_labels, (val_array.shape[0], 1))"
      ],
      "metadata": {
        "id": "UgGtnN_uzB4d"
      },
      "execution_count": 375,
      "outputs": []
    },
    {
      "cell_type": "code",
      "source": [
        "train_labels.shape"
      ],
      "metadata": {
        "colab": {
          "base_uri": "https://localhost:8080/"
        },
        "id": "FCUN8S1b0bo1",
        "outputId": "c32af04e-911c-41c8-d8b0-ff23ea859021"
      },
      "execution_count": 376,
      "outputs": [
        {
          "output_type": "execute_result",
          "data": {
            "text/plain": [
              "(536, 1)"
            ]
          },
          "metadata": {},
          "execution_count": 376
        }
      ]
    },
    {
      "cell_type": "code",
      "source": [
        "# model = tf.keras.models.Sequential([ \n",
        "#     tf.keras.layers.Conv2D(64, (3,3), activation='relu', input_shape=(2, 2, 1)),\n",
        "#     tf.keras.layers.MaxPooling2D(2, 2),\n",
        "\n",
        "#     tf.keras.layers.Conv2D(32, (3,3), activation='relu'),\n",
        "#     tf.keras.layers.MaxPooling2D(2, 2),\n",
        "\n",
        "#     tf.keras.layers.Conv2D(32, (3,3), activation='relu'),\n",
        "#     tf.keras.layers.MaxPooling2D(2, 2),\n",
        "#     tf.keras.layers.Dense(512, activation='relu'),\n",
        "\n",
        "#     tf.keras.layers.Conv2D(16, (3,3), activation='relu'),\n",
        "#     tf.keras.layers.MaxPooling2D(2, 2),\n",
        "\n",
        "#     tf.keras.layers.Flatten(),\n",
        "#     tf.keras.layers.Dense(1, activation='sigmoid')\n",
        "#     ])\n"
      ],
      "metadata": {
        "id": "pt60zX8HXcZx"
      },
      "execution_count": 377,
      "outputs": []
    },
    {
      "cell_type": "code",
      "source": [
        "model = tf.keras.models.Sequential([\n",
        "  tf.keras.layers.SimpleRNN(450, return_sequences=True, input_shape=(image_array.shape[1], 1)),\n",
        "  tf.keras.layers.SimpleRNN(450, return_sequences=False),\n",
        "  tf.keras.layers.Dense(120),\n",
        "  tf.keras.layers.Dense(120),\n",
        "  tf.keras.layers.Dense(1),\n",
        "])"
      ],
      "metadata": {
        "id": "RlSqK7cgqrey"
      },
      "execution_count": 378,
      "outputs": []
    },
    {
      "cell_type": "code",
      "source": [
        "model.summary()"
      ],
      "metadata": {
        "colab": {
          "base_uri": "https://localhost:8080/"
        },
        "id": "yS6cjO_HTBkU",
        "outputId": "7a3557eb-b941-43ae-ed79-2833d59a27fe"
      },
      "execution_count": 379,
      "outputs": [
        {
          "output_type": "stream",
          "name": "stdout",
          "text": [
            "Model: \"sequential_20\"\n",
            "_________________________________________________________________\n",
            " Layer (type)                Output Shape              Param #   \n",
            "=================================================================\n",
            " simple_rnn_18 (SimpleRNN)   (None, 2, 450)            203400    \n",
            "                                                                 \n",
            " simple_rnn_19 (SimpleRNN)   (None, 450)               405450    \n",
            "                                                                 \n",
            " dense_45 (Dense)            (None, 120)               54120     \n",
            "                                                                 \n",
            " dense_46 (Dense)            (None, 120)               14520     \n",
            "                                                                 \n",
            " dense_47 (Dense)            (None, 1)                 121       \n",
            "                                                                 \n",
            "=================================================================\n",
            "Total params: 677,611\n",
            "Trainable params: 677,611\n",
            "Non-trainable params: 0\n",
            "_________________________________________________________________\n"
          ]
        }
      ]
    },
    {
      "cell_type": "code",
      "source": [
        "# optimizer = tf.keras.optimizers.SGD(learning_rate=1e-6, momentum=0.9)\n",
        "model.compile(optimizer=\"adam\", loss='mean_squared_error')\n",
        "# Train the model\n",
        "history = model.fit(image_array, train_labels, epochs=100)\n",
        "# x = tf.expand_dims(image_array, axis=1)\n",
        "# y = tf.expand_dims(train_labels, axis=1)\n",
        "# model.fit(x, y, epochs=5)\n",
        "# Evaluate\n",
        "# test_loss = model.evaluate(val_array, val_labels)"
      ],
      "metadata": {
        "colab": {
          "base_uri": "https://localhost:8080/"
        },
        "id": "3Sed8G5fLw3h",
        "outputId": "d56e4ab6-2dcb-470a-d19e-eed71d99eb77"
      },
      "execution_count": 380,
      "outputs": [
        {
          "output_type": "stream",
          "name": "stdout",
          "text": [
            "Epoch 1/100\n",
            "17/17 [==============================] - 2s 22ms/step - loss: 25.9199\n",
            "Epoch 2/100\n",
            "17/17 [==============================] - 0s 25ms/step - loss: 1.1064\n",
            "Epoch 3/100\n",
            "17/17 [==============================] - 0s 23ms/step - loss: 0.2026\n",
            "Epoch 4/100\n",
            "17/17 [==============================] - 0s 23ms/step - loss: 0.0776\n",
            "Epoch 5/100\n",
            "17/17 [==============================] - 0s 26ms/step - loss: 0.0390\n",
            "Epoch 6/100\n",
            "17/17 [==============================] - 0s 23ms/step - loss: 0.0375\n",
            "Epoch 7/100\n",
            "17/17 [==============================] - 0s 24ms/step - loss: 0.0367\n",
            "Epoch 8/100\n",
            "17/17 [==============================] - 0s 23ms/step - loss: 0.0367\n",
            "Epoch 9/100\n",
            "17/17 [==============================] - 0s 23ms/step - loss: 0.0378\n",
            "Epoch 10/100\n",
            "17/17 [==============================] - 0s 24ms/step - loss: 0.0376\n",
            "Epoch 11/100\n",
            "17/17 [==============================] - 0s 25ms/step - loss: 0.0367\n",
            "Epoch 12/100\n",
            "17/17 [==============================] - 0s 24ms/step - loss: 0.0360\n",
            "Epoch 13/100\n",
            "17/17 [==============================] - 0s 24ms/step - loss: 0.0375\n",
            "Epoch 14/100\n",
            "17/17 [==============================] - 0s 25ms/step - loss: 0.0372\n",
            "Epoch 15/100\n",
            "17/17 [==============================] - 0s 26ms/step - loss: 0.0383\n",
            "Epoch 16/100\n",
            "17/17 [==============================] - 0s 25ms/step - loss: 0.0367\n",
            "Epoch 17/100\n",
            "17/17 [==============================] - 0s 24ms/step - loss: 0.0373\n",
            "Epoch 18/100\n",
            "17/17 [==============================] - 0s 22ms/step - loss: 0.0388\n",
            "Epoch 19/100\n",
            "17/17 [==============================] - 0s 23ms/step - loss: 0.0370\n",
            "Epoch 20/100\n",
            "17/17 [==============================] - 0s 24ms/step - loss: 0.0391\n",
            "Epoch 21/100\n",
            "17/17 [==============================] - 0s 23ms/step - loss: 0.0390\n",
            "Epoch 22/100\n",
            "17/17 [==============================] - 0s 28ms/step - loss: 0.0374\n",
            "Epoch 23/100\n",
            "17/17 [==============================] - 0s 23ms/step - loss: 0.0363\n",
            "Epoch 24/100\n",
            "17/17 [==============================] - 0s 22ms/step - loss: 0.0366\n",
            "Epoch 25/100\n",
            "17/17 [==============================] - 0s 26ms/step - loss: 0.0369\n",
            "Epoch 26/100\n",
            "17/17 [==============================] - 0s 26ms/step - loss: 0.0373\n",
            "Epoch 27/100\n",
            "17/17 [==============================] - 0s 23ms/step - loss: 0.0378\n",
            "Epoch 28/100\n",
            "17/17 [==============================] - 0s 24ms/step - loss: 0.0384\n",
            "Epoch 29/100\n",
            "17/17 [==============================] - 0s 24ms/step - loss: 0.0387\n",
            "Epoch 30/100\n",
            "17/17 [==============================] - 0s 23ms/step - loss: 0.0369\n",
            "Epoch 31/100\n",
            "17/17 [==============================] - 0s 23ms/step - loss: 0.0371\n",
            "Epoch 32/100\n",
            "17/17 [==============================] - 0s 24ms/step - loss: 0.0371\n",
            "Epoch 33/100\n",
            "17/17 [==============================] - 0s 23ms/step - loss: 0.0363\n",
            "Epoch 34/100\n",
            "17/17 [==============================] - 0s 24ms/step - loss: 0.0378\n",
            "Epoch 35/100\n",
            "17/17 [==============================] - 0s 25ms/step - loss: 0.0368\n",
            "Epoch 36/100\n",
            "17/17 [==============================] - 0s 24ms/step - loss: 0.0383\n",
            "Epoch 37/100\n",
            "17/17 [==============================] - 0s 24ms/step - loss: 0.0360\n",
            "Epoch 38/100\n",
            "17/17 [==============================] - 0s 23ms/step - loss: 0.0369\n",
            "Epoch 39/100\n",
            "17/17 [==============================] - 0s 24ms/step - loss: 0.0396\n",
            "Epoch 40/100\n",
            "17/17 [==============================] - 0s 24ms/step - loss: 0.0371\n",
            "Epoch 41/100\n",
            "17/17 [==============================] - 0s 23ms/step - loss: 0.0367\n",
            "Epoch 42/100\n",
            "17/17 [==============================] - 0s 23ms/step - loss: 0.0385\n",
            "Epoch 43/100\n",
            "17/17 [==============================] - 0s 22ms/step - loss: 0.0368\n",
            "Epoch 44/100\n",
            "17/17 [==============================] - 0s 23ms/step - loss: 0.0383\n",
            "Epoch 45/100\n",
            "17/17 [==============================] - 0s 23ms/step - loss: 0.0399\n",
            "Epoch 46/100\n",
            "17/17 [==============================] - 0s 23ms/step - loss: 0.0381\n",
            "Epoch 47/100\n",
            "17/17 [==============================] - 0s 23ms/step - loss: 0.0386\n",
            "Epoch 48/100\n",
            "17/17 [==============================] - 0s 23ms/step - loss: 0.0366\n",
            "Epoch 49/100\n",
            "17/17 [==============================] - 0s 23ms/step - loss: 0.0387\n",
            "Epoch 50/100\n",
            "17/17 [==============================] - 0s 24ms/step - loss: 0.0378\n",
            "Epoch 51/100\n",
            "17/17 [==============================] - 0s 23ms/step - loss: 0.0369\n",
            "Epoch 52/100\n",
            "17/17 [==============================] - 0s 23ms/step - loss: 0.0364\n",
            "Epoch 53/100\n",
            "17/17 [==============================] - 0s 27ms/step - loss: 0.0387\n",
            "Epoch 54/100\n",
            "17/17 [==============================] - 0s 24ms/step - loss: 0.0365\n",
            "Epoch 55/100\n",
            "17/17 [==============================] - 0s 25ms/step - loss: 0.0388\n",
            "Epoch 56/100\n",
            "17/17 [==============================] - 0s 24ms/step - loss: 0.0391\n",
            "Epoch 57/100\n",
            "17/17 [==============================] - 0s 23ms/step - loss: 0.0378\n",
            "Epoch 58/100\n",
            "17/17 [==============================] - 0s 26ms/step - loss: 0.0370\n",
            "Epoch 59/100\n",
            "17/17 [==============================] - 0s 24ms/step - loss: 0.0369\n",
            "Epoch 60/100\n",
            "17/17 [==============================] - 0s 24ms/step - loss: 0.0400\n",
            "Epoch 61/100\n",
            "17/17 [==============================] - 0s 24ms/step - loss: 0.0376\n",
            "Epoch 62/100\n",
            "17/17 [==============================] - 0s 27ms/step - loss: 0.0378\n",
            "Epoch 63/100\n",
            "17/17 [==============================] - 0s 24ms/step - loss: 0.0426\n",
            "Epoch 64/100\n",
            "17/17 [==============================] - 0s 26ms/step - loss: 0.0380\n",
            "Epoch 65/100\n",
            "17/17 [==============================] - 0s 26ms/step - loss: 0.0379\n",
            "Epoch 66/100\n",
            "17/17 [==============================] - 0s 25ms/step - loss: 0.0407\n",
            "Epoch 67/100\n",
            "17/17 [==============================] - 0s 26ms/step - loss: 0.0377\n",
            "Epoch 68/100\n",
            "17/17 [==============================] - 0s 26ms/step - loss: 0.0385\n",
            "Epoch 69/100\n",
            "17/17 [==============================] - 0s 26ms/step - loss: 0.0404\n",
            "Epoch 70/100\n",
            "17/17 [==============================] - 0s 24ms/step - loss: 0.0379\n",
            "Epoch 71/100\n",
            "17/17 [==============================] - 0s 25ms/step - loss: 0.0374\n",
            "Epoch 72/100\n",
            "17/17 [==============================] - 0s 28ms/step - loss: 0.0391\n",
            "Epoch 73/100\n",
            "17/17 [==============================] - 0s 27ms/step - loss: 0.0374\n",
            "Epoch 74/100\n",
            "17/17 [==============================] - 0s 27ms/step - loss: 0.0436\n",
            "Epoch 75/100\n",
            "17/17 [==============================] - 0s 26ms/step - loss: 0.0394\n",
            "Epoch 76/100\n",
            "17/17 [==============================] - 0s 27ms/step - loss: 0.0384\n",
            "Epoch 77/100\n",
            "17/17 [==============================] - 0s 26ms/step - loss: 0.0374\n",
            "Epoch 78/100\n",
            "17/17 [==============================] - 0s 25ms/step - loss: 0.0373\n",
            "Epoch 79/100\n",
            "17/17 [==============================] - 0s 23ms/step - loss: 0.0371\n",
            "Epoch 80/100\n",
            "17/17 [==============================] - 0s 25ms/step - loss: 0.0391\n",
            "Epoch 81/100\n",
            "17/17 [==============================] - 0s 26ms/step - loss: 0.0388\n",
            "Epoch 82/100\n",
            "17/17 [==============================] - 0s 25ms/step - loss: 0.0447\n",
            "Epoch 83/100\n",
            "17/17 [==============================] - 0s 26ms/step - loss: 0.0383\n",
            "Epoch 84/100\n",
            "17/17 [==============================] - 0s 24ms/step - loss: 0.0380\n",
            "Epoch 85/100\n",
            "17/17 [==============================] - 0s 26ms/step - loss: 0.0406\n",
            "Epoch 86/100\n",
            "17/17 [==============================] - 0s 24ms/step - loss: 0.0390\n",
            "Epoch 87/100\n",
            "17/17 [==============================] - 0s 25ms/step - loss: 0.0407\n",
            "Epoch 88/100\n",
            "17/17 [==============================] - 0s 24ms/step - loss: 0.0385\n",
            "Epoch 89/100\n",
            "17/17 [==============================] - 0s 25ms/step - loss: 0.0365\n",
            "Epoch 90/100\n",
            "17/17 [==============================] - 0s 26ms/step - loss: 0.0370\n",
            "Epoch 91/100\n",
            "17/17 [==============================] - 0s 24ms/step - loss: 0.0368\n",
            "Epoch 92/100\n",
            "17/17 [==============================] - 0s 23ms/step - loss: 0.0411\n",
            "Epoch 93/100\n",
            "17/17 [==============================] - 0s 24ms/step - loss: 0.0389\n",
            "Epoch 94/100\n",
            "17/17 [==============================] - 0s 23ms/step - loss: 0.0370\n",
            "Epoch 95/100\n",
            "17/17 [==============================] - 0s 25ms/step - loss: 0.0389\n",
            "Epoch 96/100\n",
            "17/17 [==============================] - 0s 24ms/step - loss: 0.0390\n",
            "Epoch 97/100\n",
            "17/17 [==============================] - 0s 24ms/step - loss: 0.0405\n",
            "Epoch 98/100\n",
            "17/17 [==============================] - 0s 24ms/step - loss: 0.0366\n",
            "Epoch 99/100\n",
            "17/17 [==============================] - 0s 25ms/step - loss: 0.0419\n",
            "Epoch 100/100\n",
            "17/17 [==============================] - 0s 26ms/step - loss: 0.0461\n"
          ]
        }
      ]
    },
    {
      "cell_type": "code",
      "source": [
        "# Plot the loss accuracies for each epoch\n",
        "\n",
        "loss = history.history['loss']\n",
        "\n",
        "epochs = range(len(loss))\n",
        "\n",
        "plt.plot(epochs, loss, 'b', label='Loss accuracy')\n",
        "plt.title('Loss accuracy')\n",
        "plt.legend(loc=0)\n",
        "plt.figure()\n",
        "\n",
        "plt.show()"
      ],
      "metadata": {
        "colab": {
          "base_uri": "https://localhost:8080/",
          "height": 298
        },
        "id": "nvzXR_ZABAAN",
        "outputId": "2fe17f78-9de6-4e83-dcaf-43fcbad26028"
      },
      "execution_count": 381,
      "outputs": [
        {
          "output_type": "display_data",
          "data": {
            "text/plain": [
              "<Figure size 432x288 with 1 Axes>"
            ],
            "image/png": "[encoded data removed]"
          },
          "metadata": {
            "needs_background": "light"
          }
        },
        {
          "output_type": "display_data",
          "data": {
            "text/plain": [
              "<Figure size 432x288 with 0 Axes>"
            ]
          },
          "metadata": {}
        }
      ]
    },
    {
      "cell_type": "markdown",
      "source": [
        "Val"
      ],
      "metadata": {
        "id": "ksHDycsTwgj_"
      }
    },
    {
      "cell_type": "code",
      "source": [
        "pred = model.predict(val_array)\n",
        "test_result = scale.inverse_transform(pred)\n",
        "real = scale.inverse_transform(val_labels)"
      ],
      "metadata": {
        "id": "2QvMP6biiVI1"
      },
      "execution_count": 382,
      "outputs": []
    },
    {
      "cell_type": "code",
      "source": [
        "import math\n",
        "from sklearn.metrics import mean_squared_error\n",
        "testScore = math.sqrt(mean_squared_error(test_result, real))\n",
        "print('Test Score: %.2f RMSE' % (testScore))"
      ],
      "metadata": {
        "colab": {
          "base_uri": "https://localhost:8080/"
        },
        "id": "5CqUzy7vjSE2",
        "outputId": "b465c111-b97a-4282-85c6-3b15d97cf97d"
      },
      "execution_count": 383,
      "outputs": [
        {
          "output_type": "stream",
          "name": "stdout",
          "text": [
            "Test Score: 51.35 RMSE\n"
          ]
        }
      ]
    },
    {
      "cell_type": "code",
      "source": [
        "print(\"Prediction Result\")\n",
        "print(test_result[:30])\n",
        "print(\"Actual\")\n",
        "print(real[:30])"
      ],
      "metadata": {
        "colab": {
          "base_uri": "https://localhost:8080/"
        },
        "id": "Whs8oTpHwYUL",
        "outputId": "9c1805f6-7f05-4073-e4ce-c612c5dcd8d4"
      },
      "execution_count": 384,
      "outputs": [
        {
          "output_type": "stream",
          "name": "stdout",
          "text": [
            "Prediction Result\n",
            "[[ 87.270294]\n",
            " [ 97.25369 ]\n",
            " [ 99.22556 ]\n",
            " [ 89.19755 ]\n",
            " [ 90.4795  ]\n",
            " [ 91.89242 ]\n",
            " [ 87.81547 ]\n",
            " [ 99.206436]\n",
            " [ 99.28666 ]\n",
            " [ 93.699646]\n",
            " [ 94.05182 ]\n",
            " [ 92.01245 ]\n",
            " [ 97.943825]\n",
            " [ 87.78316 ]\n",
            " [ 99.453476]\n",
            " [ 97.943825]\n",
            " [ 98.54774 ]\n",
            " [ 93.79316 ]\n",
            " [101.56645 ]\n",
            " [ 91.08074 ]\n",
            " [ 96.51733 ]\n",
            " [ 99.77084 ]\n",
            " [ 89.728676]\n",
            " [102.3531  ]\n",
            " [101.79478 ]\n",
            " [100.68145 ]\n",
            " [ 98.07386 ]\n",
            " [100.17545 ]\n",
            " [101.38244 ]\n",
            " [ 97.31427 ]]\n",
            "Actual\n",
            "[[ 27.]\n",
            " [ 59.]\n",
            " [ 59.]\n",
            " [ 29.]\n",
            " [ 29.]\n",
            " [ 58.]\n",
            " [ 58.]\n",
            " [ 74.]\n",
            " [ 74.]\n",
            " [ 72.]\n",
            " [ 66.]\n",
            " [ 66.]\n",
            " [ 26.]\n",
            " [ 26.]\n",
            " [ 51.]\n",
            " [ 55.]\n",
            " [ 66.]\n",
            " [ 98.]\n",
            " [ 93.]\n",
            " [120.]\n",
            " [109.]\n",
            " [101.]\n",
            " [278.]\n",
            " [ 32.]\n",
            " [ 45.]\n",
            " [ 57.]\n",
            " [ 88.]\n",
            " [ 79.]\n",
            " [ 80.]\n",
            " [ 37.]]\n"
          ]
        }
      ]
    },
    {
      "cell_type": "markdown",
      "source": [
        "Train"
      ],
      "metadata": {
        "id": "6W9OUIp2wojw"
      }
    },
    {
      "cell_type": "code",
      "source": [
        "pred = model.predict(image_array)\n",
        "test_result = scale.inverse_transform(pred)\n",
        "real = scale.inverse_transform(train_labels)\n",
        "testScore = math.sqrt(mean_squared_error(test_result, real))\n",
        "print('Test Score: %.2f RMSE' % (testScore))"
      ],
      "metadata": {
        "colab": {
          "base_uri": "https://localhost:8080/"
        },
        "id": "Q9sKQd-vwBlx",
        "outputId": "67b440c9-2feb-4454-a978-aaadb44872bd"
      },
      "execution_count": 385,
      "outputs": [
        {
          "output_type": "stream",
          "name": "stdout",
          "text": [
            "Test Score: 54.49 RMSE\n"
          ]
        }
      ]
    },
    {
      "cell_type": "code",
      "source": [
        "print(\"Prediction Result\")\n",
        "print(test_result[:30])\n",
        "print(\"Actual\")\n",
        "print(real[:30])"
      ],
      "metadata": {
        "colab": {
          "base_uri": "https://localhost:8080/"
        },
        "id": "tWcjr3hPjQYt",
        "outputId": "dfdef3a7-c08c-41c8-c21c-dc609c8e2fa3"
      },
      "execution_count": 386,
      "outputs": [
        {
          "output_type": "stream",
          "name": "stdout",
          "text": [
            "Prediction Result\n",
            "[[ 91.40702 ]\n",
            " [ 86.94686 ]\n",
            " [ 97.77887 ]\n",
            " [101.532814]\n",
            " [ 93.33169 ]\n",
            " [100.73747 ]\n",
            " [101.61137 ]\n",
            " [ 87.04591 ]\n",
            " [ 94.78583 ]\n",
            " [ 90.82345 ]\n",
            " [ 85.56635 ]\n",
            " [100.58008 ]\n",
            " [ 96.32304 ]\n",
            " [113.16665 ]\n",
            " [ 91.609314]\n",
            " [101.51017 ]\n",
            " [ 86.71652 ]\n",
            " [ 98.535   ]\n",
            " [100.73831 ]\n",
            " [ 88.75731 ]\n",
            " [101.51902 ]\n",
            " [ 85.21091 ]\n",
            " [ 85.24766 ]\n",
            " [ 88.043236]\n",
            " [101.633896]\n",
            " [ 97.18962 ]\n",
            " [100.13852 ]\n",
            " [ 97.16521 ]\n",
            " [ 88.42524 ]\n",
            " [ 97.54041 ]]\n",
            "Actual\n",
            "[[ 97.]\n",
            " [ 90.]\n",
            " [ 65.]\n",
            " [ 56.]\n",
            " [ 28.]\n",
            " [ 76.]\n",
            " [193.]\n",
            " [ 58.]\n",
            " [ 58.]\n",
            " [145.]\n",
            " [ 51.]\n",
            " [ 16.]\n",
            " [ 41.]\n",
            " [128.]\n",
            " [ 31.]\n",
            " [ 16.]\n",
            " [ 61.]\n",
            " [ 74.]\n",
            " [145.]\n",
            " [ 58.]\n",
            " [128.]\n",
            " [ 31.]\n",
            " [ 28.]\n",
            " [ 61.]\n",
            " [ 87.]\n",
            " [ 56.]\n",
            " [ 49.]\n",
            " [120.]\n",
            " [ 26.]\n",
            " [108.]]\n"
          ]
        }
      ]
    }
  ]
}