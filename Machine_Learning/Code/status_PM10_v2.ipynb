{
  "nbformat": 4,
  "nbformat_minor": 0,
  "metadata": {
    "colab": {
      "name": "status_PM10_v2.ipynb",
      "provenance": [],
      "collapsed_sections": []
    },
    "kernelspec": {
      "name": "python3",
      "display_name": "Python 3"
    },
    "language_info": {
      "name": "python"
    }
  },
  "cells": [
    {
      "cell_type": "code",
      "execution_count": null,
      "metadata": {
        "id": "27TfQPs6qDxC"
      },
      "outputs": [],
      "source": [
        "import os\n",
        "import zipfile\n",
        "import matplotlib.pyplot as plt\n",
        "import tensorflow as tf\n",
        "import numpy as np\n",
        "import PIL\n",
        "from PIL import Image, ImageOps\n",
        "import pandas as pd\n",
        "from pathlib import Path\n",
        "from sklearn.preprocessing import MinMaxScaler\n",
        "from tensorflow.keras import layers\n",
        "from tensorflow.keras import Model\n",
        "from tensorflow.keras.optimizers import RMSprop\n",
        "from tensorflow.keras.preprocessing.image import ImageDataGenerator\n",
        "from tensorflow.keras.preprocessing.image import img_to_array, load_img\n",
        "from sklearn.preprocessing import MinMaxScaler"
      ]
    },
    {
      "cell_type": "code",
      "source": [
        "!pip install PyDrive"
      ],
      "metadata": {
        "colab": {
          "base_uri": "https://localhost:8080/"
        },
        "id": "0NhIUk2pbKto",
        "outputId": "8b14888d-812a-425a-c2e8-c4e94572b59b"
      },
      "execution_count": null,
      "outputs": [
        {
          "output_type": "stream",
          "name": "stdout",
          "text": [
            "Looking in indexes: https://pypi.org/simple, https://us-python.pkg.dev/colab-wheels/public/simple/\n",
            "Requirement already satisfied: PyDrive in /usr/local/lib/python3.7/dist-packages (1.3.1)\n",
            "Requirement already satisfied: oauth2client>=4.0.0 in /usr/local/lib/python3.7/dist-packages (from PyDrive) (4.1.3)\n",
            "Requirement already satisfied: PyYAML>=3.0 in /usr/local/lib/python3.7/dist-packages (from PyDrive) (3.13)\n",
            "Requirement already satisfied: google-api-python-client>=1.2 in /usr/local/lib/python3.7/dist-packages (from PyDrive) (1.12.11)\n",
            "Requirement already satisfied: google-api-core<3dev,>=1.21.0 in /usr/local/lib/python3.7/dist-packages (from google-api-python-client>=1.2->PyDrive) (1.31.6)\n",
            "Requirement already satisfied: google-auth<3dev,>=1.16.0 in /usr/local/lib/python3.7/dist-packages (from google-api-python-client>=1.2->PyDrive) (1.35.0)\n",
            "Requirement already satisfied: uritemplate<4dev,>=3.0.0 in /usr/local/lib/python3.7/dist-packages (from google-api-python-client>=1.2->PyDrive) (3.0.1)\n",
            "Requirement already satisfied: six<2dev,>=1.13.0 in /usr/local/lib/python3.7/dist-packages (from google-api-python-client>=1.2->PyDrive) (1.15.0)\n",
            "Requirement already satisfied: httplib2<1dev,>=0.15.0 in /usr/local/lib/python3.7/dist-packages (from google-api-python-client>=1.2->PyDrive) (0.17.4)\n",
            "Requirement already satisfied: google-auth-httplib2>=0.0.3 in /usr/local/lib/python3.7/dist-packages (from google-api-python-client>=1.2->PyDrive) (0.0.4)\n",
            "Requirement already satisfied: requests<3.0.0dev,>=2.18.0 in /usr/local/lib/python3.7/dist-packages (from google-api-core<3dev,>=1.21.0->google-api-python-client>=1.2->PyDrive) (2.23.0)\n",
            "Requirement already satisfied: protobuf<4.0.0dev,>=3.12.0 in /usr/local/lib/python3.7/dist-packages (from google-api-core<3dev,>=1.21.0->google-api-python-client>=1.2->PyDrive) (3.17.3)\n",
            "Requirement already satisfied: googleapis-common-protos<2.0dev,>=1.6.0 in /usr/local/lib/python3.7/dist-packages (from google-api-core<3dev,>=1.21.0->google-api-python-client>=1.2->PyDrive) (1.56.2)\n",
            "Requirement already satisfied: packaging>=14.3 in /usr/local/lib/python3.7/dist-packages (from google-api-core<3dev,>=1.21.0->google-api-python-client>=1.2->PyDrive) (21.3)\n",
            "Requirement already satisfied: pytz in /usr/local/lib/python3.7/dist-packages (from google-api-core<3dev,>=1.21.0->google-api-python-client>=1.2->PyDrive) (2022.1)\n",
            "Requirement already satisfied: setuptools>=40.3.0 in /usr/local/lib/python3.7/dist-packages (from google-api-core<3dev,>=1.21.0->google-api-python-client>=1.2->PyDrive) (57.4.0)\n",
            "Requirement already satisfied: rsa<5,>=3.1.4 in /usr/local/lib/python3.7/dist-packages (from google-auth<3dev,>=1.16.0->google-api-python-client>=1.2->PyDrive) (4.8)\n",
            "Requirement already satisfied: pyasn1-modules>=0.2.1 in /usr/local/lib/python3.7/dist-packages (from google-auth<3dev,>=1.16.0->google-api-python-client>=1.2->PyDrive) (0.2.8)\n",
            "Requirement already satisfied: cachetools<5.0,>=2.0.0 in /usr/local/lib/python3.7/dist-packages (from google-auth<3dev,>=1.16.0->google-api-python-client>=1.2->PyDrive) (4.2.4)\n",
            "Requirement already satisfied: pyasn1>=0.1.7 in /usr/local/lib/python3.7/dist-packages (from oauth2client>=4.0.0->PyDrive) (0.4.8)\n",
            "Requirement already satisfied: pyparsing!=3.0.5,>=2.0.2 in /usr/local/lib/python3.7/dist-packages (from packaging>=14.3->google-api-core<3dev,>=1.21.0->google-api-python-client>=1.2->PyDrive) (3.0.9)\n",
            "Requirement already satisfied: urllib3!=1.25.0,!=1.25.1,<1.26,>=1.21.1 in /usr/local/lib/python3.7/dist-packages (from requests<3.0.0dev,>=2.18.0->google-api-core<3dev,>=1.21.0->google-api-python-client>=1.2->PyDrive) (1.24.3)\n",
            "Requirement already satisfied: chardet<4,>=3.0.2 in /usr/local/lib/python3.7/dist-packages (from requests<3.0.0dev,>=2.18.0->google-api-core<3dev,>=1.21.0->google-api-python-client>=1.2->PyDrive) (3.0.4)\n",
            "Requirement already satisfied: idna<3,>=2.5 in /usr/local/lib/python3.7/dist-packages (from requests<3.0.0dev,>=2.18.0->google-api-core<3dev,>=1.21.0->google-api-python-client>=1.2->PyDrive) (2.10)\n",
            "Requirement already satisfied: certifi>=2017.4.17 in /usr/local/lib/python3.7/dist-packages (from requests<3.0.0dev,>=2.18.0->google-api-core<3dev,>=1.21.0->google-api-python-client>=1.2->PyDrive) (2022.5.18.1)\n"
          ]
        }
      ]
    },
    {
      "cell_type": "code",
      "source": [
        "from pydrive.auth import GoogleAuth\n",
        "from pydrive.drive import GoogleDrive\n",
        "from google.colab import auth\n",
        "from oauth2client.client import GoogleCredentials"
      ],
      "metadata": {
        "id": "2WHwkynGbTyB"
      },
      "execution_count": null,
      "outputs": []
    },
    {
      "cell_type": "code",
      "source": [
        "auth.authenticate_user()\n",
        "gauth = GoogleAuth()\n",
        "gauth.credentials = GoogleCredentials.get_application_default()\n",
        "drive = GoogleDrive(gauth)"
      ],
      "metadata": {
        "id": "fGrn5u2xbf5C"
      },
      "execution_count": null,
      "outputs": []
    },
    {
      "cell_type": "markdown",
      "source": [
        "**Fanuel**"
      ],
      "metadata": {
        "id": "bW2YcmHQVi6g"
      }
    },
    {
      "cell_type": "code",
      "source": [
        "# Download image zip\n",
        "downloaded = drive.CreateFile({'id':\"10K44l5A__7DrNTZStVP6-vebBbWp9f4Y\"})\n",
        "downloaded.GetContentFile('Dataset.zip') \n",
        "\n",
        "# Download CSV data\n",
        "downloaded = drive.CreateFile({'id':\"1apu6N1IwVWtTTVkqacqO91HeXkAP_WYU\"})\n",
        "downloaded.GetContentFile('PM10_Data.csv') "
      ],
      "metadata": {
        "id": "Wh2jkjCAhdMW"
      },
      "execution_count": 45,
      "outputs": []
    },
    {
      "cell_type": "code",
      "source": [
        "# Unzip File\n",
        "dataset_path_zip = \"/content/Dataset.zip\"\n",
        "zip_ref = zipfile.ZipFile(dataset_path_zip, 'r')\n",
        "zip_ref.extractall('/content/dataset')\n",
        "\n",
        "zip_ref.close()"
      ],
      "metadata": {
        "id": "ZHPHPb1hVsrG"
      },
      "execution_count": null,
      "outputs": []
    },
    {
      "cell_type": "code",
      "source": [
        "# Checking image inside folder\n",
        "dataset_path = \"/content/dataset\"\n",
        "# Directory with training Good pictures\n",
        "Good_dir = os.path.join(dataset_path, 'Good')\n",
        "# Directory with training Moderate pictures\n",
        "Moderate_dir = os.path.join(dataset_path, 'Moderate')\n",
        "# Directory with training Dangerous pictures\n",
        "Dangerous_dir = os.path.join(dataset_path, 'Dangerous')\n",
        "\n",
        "# Check the number of images for each class and set\n",
        "print(f\"There are {len(os.listdir(Good_dir))} images in good directory.\\n\")\n",
        "print(f\"There are {len(os.listdir(Moderate_dir))} images in moderate directory.\\n\")\n",
        "print(f\"There are {len(os.listdir(Dangerous_dir))} images in dangerous directory.\\n\")"
      ],
      "metadata": {
        "colab": {
          "base_uri": "https://localhost:8080/"
        },
        "id": "KkeQ_yGzDb6j",
        "outputId": "410b3db5-62d4-42fc-81b5-bbaac9f164a6"
      },
      "execution_count": 46,
      "outputs": [
        {
          "output_type": "stream",
          "name": "stdout",
          "text": [
            "There are 390 images in good directory.\n",
            "\n",
            "There are 176 images in moderate directory.\n",
            "\n",
            "There are 35 images in dangerous directory.\n",
            "\n"
          ]
        }
      ]
    },
    {
      "cell_type": "code",
      "source": [
        "def turn_to_jpg(image_path):\n",
        "  for i in os.listdir(image_path):\n",
        "    if not i.endswith(\".jpg\"):\n",
        "      im = Image.open(os.path.join(image_path, i))\n",
        "      im = im.convert(\"RGB\")\n",
        "      im = im.resize((150, 150))\n",
        "      im.save(image_path + \"/\" + Path(i).stem + \".jpg\")\n",
        "  for i in os.listdir(image_path):\n",
        "    if not i.endswith(\".jpg\"):\n",
        "      os.remove(os.path.join(image_path, i))"
      ],
      "metadata": {
        "id": "ukSWWVr28fsM"
      },
      "execution_count": 47,
      "outputs": []
    },
    {
      "cell_type": "code",
      "source": [
        "# Turn all image to jpg\n",
        "turn_to_jpg(Good_dir)\n",
        "turn_to_jpg(Moderate_dir)\n",
        "turn_to_jpg(Dangerous_dir)"
      ],
      "metadata": {
        "id": "e-G_-by88T01"
      },
      "execution_count": 48,
      "outputs": []
    },
    {
      "cell_type": "code",
      "source": [
        "# Read CSV File\n",
        "csv_path = \"/content/PM10_Data.csv\"\n",
        "df = pd.read_csv(csv_path)\n",
        "df.head(30)"
      ],
      "metadata": {
        "colab": {
          "base_uri": "https://localhost:8080/",
          "height": 990
        },
        "id": "oog73NERIci5",
        "outputId": "585190b7-b3ba-4ee8-c723-ce8f02bedb15"
      },
      "execution_count": 49,
      "outputs": [
        {
          "output_type": "execute_result",
          "data": {
            "text/plain": [
              "     Image  PM10 Status\n",
              "0    Good1    27   Good\n",
              "1    Good2    27   Good\n",
              "2    Good3    27   Good\n",
              "3    Good4    27   Good\n",
              "4    Good5    27   Good\n",
              "5    Good6    27   Good\n",
              "6    Good7    27   Good\n",
              "7    Good8    59   Good\n",
              "8    Good9    59   Good\n",
              "9   Good10    59   Good\n",
              "10  Good11    59   Good\n",
              "11  Good12    59   Good\n",
              "12  Good13    59   Good\n",
              "13  Good14    29   Good\n",
              "14  Good15    29   Good\n",
              "15  Good16    29   Good\n",
              "16  Good17    29   Good\n",
              "17  Good18    29   Good\n",
              "18  Good19    29   Good\n",
              "19  Good20    29   Good\n",
              "20  Good21    29   Good\n",
              "21  Good22    29   Good\n",
              "22  Good23    29   Good\n",
              "23  Good24    29   Good\n",
              "24  Good25    29   Good\n",
              "25  Good26    58   Good\n",
              "26  Good27    58   Good\n",
              "27  Good28    58   Good\n",
              "28  Good29    58   Good\n",
              "29  Good30    58   Good"
            ],
            "text/html": [
              "\n",
              "  <div id=\"df-3f6b7bfb-33d3-4eaf-a321-c4a2d20238b8\">\n",
              "    <div class=\"colab-df-container\">\n",
              "      <div>\n",
              "<style scoped>\n",
              "    .dataframe tbody tr th:only-of-type {\n",
              "        vertical-align: middle;\n",
              "    }\n",
              "\n",
              "    .dataframe tbody tr th {\n",
              "        vertical-align: top;\n",
              "    }\n",
              "\n",
              "    .dataframe thead th {\n",
              "        text-align: right;\n",
              "    }\n",
              "</style>\n",
              "<table border=\"1\" class=\"dataframe\">\n",
              "  <thead>\n",
              "    <tr style=\"text-align: right;\">\n",
              "      <th></th>\n",
              "      <th>Image</th>\n",
              "      <th>PM10</th>\n",
              "      <th>Status</th>\n",
              "    </tr>\n",
              "  </thead>\n",
              "  <tbody>\n",
              "    <tr>\n",
              "      <th>0</th>\n",
              "      <td>Good1</td>\n",
              "      <td>27</td>\n",
              "      <td>Good</td>\n",
              "    </tr>\n",
              "    <tr>\n",
              "      <th>1</th>\n",
              "      <td>Good2</td>\n",
              "      <td>27</td>\n",
              "      <td>Good</td>\n",
              "    </tr>\n",
              "    <tr>\n",
              "      <th>2</th>\n",
              "      <td>Good3</td>\n",
              "      <td>27</td>\n",
              "      <td>Good</td>\n",
              "    </tr>\n",
              "    <tr>\n",
              "      <th>3</th>\n",
              "      <td>Good4</td>\n",
              "      <td>27</td>\n",
              "      <td>Good</td>\n",
              "    </tr>\n",
              "    <tr>\n",
              "      <th>4</th>\n",
              "      <td>Good5</td>\n",
              "      <td>27</td>\n",
              "      <td>Good</td>\n",
              "    </tr>\n",
              "    <tr>\n",
              "      <th>5</th>\n",
              "      <td>Good6</td>\n",
              "      <td>27</td>\n",
              "      <td>Good</td>\n",
              "    </tr>\n",
              "    <tr>\n",
              "      <th>6</th>\n",
              "      <td>Good7</td>\n",
              "      <td>27</td>\n",
              "      <td>Good</td>\n",
              "    </tr>\n",
              "    <tr>\n",
              "      <th>7</th>\n",
              "      <td>Good8</td>\n",
              "      <td>59</td>\n",
              "      <td>Good</td>\n",
              "    </tr>\n",
              "    <tr>\n",
              "      <th>8</th>\n",
              "      <td>Good9</td>\n",
              "      <td>59</td>\n",
              "      <td>Good</td>\n",
              "    </tr>\n",
              "    <tr>\n",
              "      <th>9</th>\n",
              "      <td>Good10</td>\n",
              "      <td>59</td>\n",
              "      <td>Good</td>\n",
              "    </tr>\n",
              "    <tr>\n",
              "      <th>10</th>\n",
              "      <td>Good11</td>\n",
              "      <td>59</td>\n",
              "      <td>Good</td>\n",
              "    </tr>\n",
              "    <tr>\n",
              "      <th>11</th>\n",
              "      <td>Good12</td>\n",
              "      <td>59</td>\n",
              "      <td>Good</td>\n",
              "    </tr>\n",
              "    <tr>\n",
              "      <th>12</th>\n",
              "      <td>Good13</td>\n",
              "      <td>59</td>\n",
              "      <td>Good</td>\n",
              "    </tr>\n",
              "    <tr>\n",
              "      <th>13</th>\n",
              "      <td>Good14</td>\n",
              "      <td>29</td>\n",
              "      <td>Good</td>\n",
              "    </tr>\n",
              "    <tr>\n",
              "      <th>14</th>\n",
              "      <td>Good15</td>\n",
              "      <td>29</td>\n",
              "      <td>Good</td>\n",
              "    </tr>\n",
              "    <tr>\n",
              "      <th>15</th>\n",
              "      <td>Good16</td>\n",
              "      <td>29</td>\n",
              "      <td>Good</td>\n",
              "    </tr>\n",
              "    <tr>\n",
              "      <th>16</th>\n",
              "      <td>Good17</td>\n",
              "      <td>29</td>\n",
              "      <td>Good</td>\n",
              "    </tr>\n",
              "    <tr>\n",
              "      <th>17</th>\n",
              "      <td>Good18</td>\n",
              "      <td>29</td>\n",
              "      <td>Good</td>\n",
              "    </tr>\n",
              "    <tr>\n",
              "      <th>18</th>\n",
              "      <td>Good19</td>\n",
              "      <td>29</td>\n",
              "      <td>Good</td>\n",
              "    </tr>\n",
              "    <tr>\n",
              "      <th>19</th>\n",
              "      <td>Good20</td>\n",
              "      <td>29</td>\n",
              "      <td>Good</td>\n",
              "    </tr>\n",
              "    <tr>\n",
              "      <th>20</th>\n",
              "      <td>Good21</td>\n",
              "      <td>29</td>\n",
              "      <td>Good</td>\n",
              "    </tr>\n",
              "    <tr>\n",
              "      <th>21</th>\n",
              "      <td>Good22</td>\n",
              "      <td>29</td>\n",
              "      <td>Good</td>\n",
              "    </tr>\n",
              "    <tr>\n",
              "      <th>22</th>\n",
              "      <td>Good23</td>\n",
              "      <td>29</td>\n",
              "      <td>Good</td>\n",
              "    </tr>\n",
              "    <tr>\n",
              "      <th>23</th>\n",
              "      <td>Good24</td>\n",
              "      <td>29</td>\n",
              "      <td>Good</td>\n",
              "    </tr>\n",
              "    <tr>\n",
              "      <th>24</th>\n",
              "      <td>Good25</td>\n",
              "      <td>29</td>\n",
              "      <td>Good</td>\n",
              "    </tr>\n",
              "    <tr>\n",
              "      <th>25</th>\n",
              "      <td>Good26</td>\n",
              "      <td>58</td>\n",
              "      <td>Good</td>\n",
              "    </tr>\n",
              "    <tr>\n",
              "      <th>26</th>\n",
              "      <td>Good27</td>\n",
              "      <td>58</td>\n",
              "      <td>Good</td>\n",
              "    </tr>\n",
              "    <tr>\n",
              "      <th>27</th>\n",
              "      <td>Good28</td>\n",
              "      <td>58</td>\n",
              "      <td>Good</td>\n",
              "    </tr>\n",
              "    <tr>\n",
              "      <th>28</th>\n",
              "      <td>Good29</td>\n",
              "      <td>58</td>\n",
              "      <td>Good</td>\n",
              "    </tr>\n",
              "    <tr>\n",
              "      <th>29</th>\n",
              "      <td>Good30</td>\n",
              "      <td>58</td>\n",
              "      <td>Good</td>\n",
              "    </tr>\n",
              "  </tbody>\n",
              "</table>\n",
              "</div>\n",
              "      <button class=\"colab-df-convert\" onclick=\"convertToInteractive('df-3f6b7bfb-33d3-4eaf-a321-c4a2d20238b8')\"\n",
              "              title=\"Convert this dataframe to an interactive table.\"\n",
              "              style=\"display:none;\">\n",
              "        \n",
              "  <svg xmlns=\"http://www.w3.org/2000/svg\" height=\"24px\"viewBox=\"0 0 24 24\"\n",
              "       width=\"24px\">\n",
              "    <path d=\"M0 0h24v24H0V0z\" fill=\"none\"/>\n",
              "    <path d=\"M18.56 5.44l.94 2.06.94-2.06 2.06-.94-2.06-.94-.94-2.06-.94 2.06-2.06.94zm-11 1L8.5 8.5l.94-2.06 2.06-.94-2.06-.94L8.5 2.5l-.94 2.06-2.06.94zm10 10l.94 2.06.94-2.06 2.06-.94-2.06-.94-.94-2.06-.94 2.06-2.06.94z\"/><path d=\"M17.41 7.96l-1.37-1.37c-.4-.4-.92-.59-1.43-.59-.52 0-1.04.2-1.43.59L10.3 9.45l-7.72 7.72c-.78.78-.78 2.05 0 2.83L4 21.41c.39.39.9.59 1.41.59.51 0 1.02-.2 1.41-.59l7.78-7.78 2.81-2.81c.8-.78.8-2.07 0-2.86zM5.41 20L4 18.59l7.72-7.72 1.47 1.35L5.41 20z\"/>\n",
              "  </svg>\n",
              "      </button>\n",
              "      \n",
              "  <style>\n",
              "    .colab-df-container {\n",
              "      display:flex;\n",
              "      flex-wrap:wrap;\n",
              "      gap: 12px;\n",
              "    }\n",
              "\n",
              "    .colab-df-convert {\n",
              "      background-color: #E8F0FE;\n",
              "      border: none;\n",
              "      border-radius: 50%;\n",
              "      cursor: pointer;\n",
              "      display: none;\n",
              "      fill: #1967D2;\n",
              "      height: 32px;\n",
              "      padding: 0 0 0 0;\n",
              "      width: 32px;\n",
              "    }\n",
              "\n",
              "    .colab-df-convert:hover {\n",
              "      background-color: #E2EBFA;\n",
              "      box-shadow: 0px 1px 2px rgba(60, 64, 67, 0.3), 0px 1px 3px 1px rgba(60, 64, 67, 0.15);\n",
              "      fill: #174EA6;\n",
              "    }\n",
              "\n",
              "    [theme=dark] .colab-df-convert {\n",
              "      background-color: #3B4455;\n",
              "      fill: #D2E3FC;\n",
              "    }\n",
              "\n",
              "    [theme=dark] .colab-df-convert:hover {\n",
              "      background-color: #434B5C;\n",
              "      box-shadow: 0px 1px 3px 1px rgba(0, 0, 0, 0.15);\n",
              "      filter: drop-shadow(0px 1px 2px rgba(0, 0, 0, 0.3));\n",
              "      fill: #FFFFFF;\n",
              "    }\n",
              "  </style>\n",
              "\n",
              "      <script>\n",
              "        const buttonEl =\n",
              "          document.querySelector('#df-3f6b7bfb-33d3-4eaf-a321-c4a2d20238b8 button.colab-df-convert');\n",
              "        buttonEl.style.display =\n",
              "          google.colab.kernel.accessAllowed ? 'block' : 'none';\n",
              "\n",
              "        async function convertToInteractive(key) {\n",
              "          const element = document.querySelector('#df-3f6b7bfb-33d3-4eaf-a321-c4a2d20238b8');\n",
              "          const dataTable =\n",
              "            await google.colab.kernel.invokeFunction('convertToInteractive',\n",
              "                                                     [key], {});\n",
              "          if (!dataTable) return;\n",
              "\n",
              "          const docLinkHtml = 'Like what you see? Visit the ' +\n",
              "            '<a target=\"_blank\" href=https://colab.research.google.com/notebooks/data_table.ipynb>data table notebook</a>'\n",
              "            + ' to learn more about interactive tables.';\n",
              "          element.innerHTML = '';\n",
              "          dataTable['output_type'] = 'display_data';\n",
              "          await google.colab.output.renderOutput(dataTable, element);\n",
              "          const docLink = document.createElement('div');\n",
              "          docLink.innerHTML = docLinkHtml;\n",
              "          element.appendChild(docLink);\n",
              "        }\n",
              "      </script>\n",
              "    </div>\n",
              "  </div>\n",
              "  "
            ]
          },
          "metadata": {},
          "execution_count": 49
        }
      ]
    },
    {
      "cell_type": "code",
      "source": [
        "def remove_missing_image(dataset, image_path):\n",
        "    dataset = np.array(dataset)\n",
        "    # image_name = np.array(dataset[[\"Image\"]])\n",
        "    # pm10_image = np.array(dataset[[\"PM10\"]])\n",
        "    # image_status = np.array(dataset[[\"image_status\"]])\n",
        "    result = []\n",
        "    data_index = 0\n",
        "    for i in dataset:\n",
        "      if os.path.join(i[0] + \".jpg\") not in os.listdir(os.path.join(image_path, i[2])):\n",
        "        # print(os.path.join(image_path, i[2] + \"/\" + i[0] + \".jpg\"))\n",
        "        # print(\"=\"*3)\n",
        "        # # print(os.listdir(os.path.join(image_path, i[2])))\n",
        "        # numpy.delete(dataset, data_index)\n",
        "        result.append(data_index)\n",
        "      data_index += 1\n",
        "    return result"
      ],
      "metadata": {
        "id": "JfD5WDP2TRNK"
      },
      "execution_count": 50,
      "outputs": []
    },
    {
      "cell_type": "code",
      "source": [
        "# Split data with ratio train 90% and validation 10%\n",
        "randomize_train = df.sample(frac = 0.9)\n",
        "randomize_val = df.drop(randomize_train.index)\n",
        "# image_name = randomize_train[[\"Image\"]]\n",
        "# pm10_image = randomize_train[[\"PM10\"]]\n",
        "# image_status = randomize_train[[\"Status\"]]\n",
        "not_found_image = remove_missing_image(randomize_train, dataset_path)\n",
        "train_image = np.delete(np.array(randomize_train), not_found_image, axis=0)\n",
        "\n",
        "not_found_image = remove_missing_image(randomize_val, dataset_path)\n",
        "val_image = np.delete(np.array(randomize_val), not_found_image, axis=0)"
      ],
      "metadata": {
        "id": "-Cy0upIpKEpC"
      },
      "execution_count": 51,
      "outputs": []
    },
    {
      "cell_type": "code",
      "source": [
        "def process_image(image_path, image_list):\n",
        "    # ori_image = Image.open(image_path + \"/\" + image_name + \".jpg\")\n",
        "    ori_image = Image.open(os.path.join(image_path, image_list[2] + \"/\" + image_list[0] + \".jpg\"))\n",
        "    ori_image = ori_image.resize((150, 150))\n",
        "    gray_image = ImageOps.grayscale(ori_image)\n",
        "    return np.array(gray_image)\n",
        "    # return np.array(ori_image)"
      ],
      "metadata": {
        "id": "kEMii6Ez2jm5"
      },
      "execution_count": 52,
      "outputs": []
    },
    {
      "cell_type": "code",
      "source": [
        "# Open image and put it in array\n",
        "image_array = []\n",
        "for i in train_image:\n",
        "  image_array.append(process_image(dataset_path, i))\n",
        "image_array = np.array(image_array)\n",
        "\n",
        "val_array = []\n",
        "for i in val_image:\n",
        "  val_array.append(process_image(dataset_path, i))\n",
        "val_array = np.array(val_array)"
      ],
      "metadata": {
        "id": "YA8a5VDtmPqH"
      },
      "execution_count": 53,
      "outputs": []
    },
    {
      "cell_type": "code",
      "source": [
        "image_array.shape"
      ],
      "metadata": {
        "colab": {
          "base_uri": "https://localhost:8080/"
        },
        "id": "LI8WEv6D2KcM",
        "outputId": "89924403-960f-4207-af60-038793b9b14f"
      },
      "execution_count": 54,
      "outputs": [
        {
          "output_type": "execute_result",
          "data": {
            "text/plain": [
              "(535, 150, 150)"
            ]
          },
          "metadata": {},
          "execution_count": 54
        }
      ]
    },
    {
      "cell_type": "code",
      "source": [
        "train_labels = np.delete(train_image, 0, 1)\n",
        "train_labels = np.delete(train_labels, 1, 1)\n",
        "\n",
        "val_labels = np.delete(val_image, 0, 1)\n",
        "val_labels = np.delete(val_labels, 1, 1)"
      ],
      "metadata": {
        "id": "o61X0CzieuDS"
      },
      "execution_count": 55,
      "outputs": []
    },
    {
      "cell_type": "code",
      "source": [
        "image_array = np.reshape(image_array, (image_array.shape[0], image_array.shape[1], image_array.shape[2], 1))\n",
        "val_array = np.reshape(val_array, (val_array.shape[0], val_array.shape[1], val_array.shape[2], 1))"
      ],
      "metadata": {
        "id": "EVWP7gVugKE9"
      },
      "execution_count": 56,
      "outputs": []
    },
    {
      "cell_type": "code",
      "source": [
        "image_array = image_array/255.0\n",
        "val_array = val_array/255.0"
      ],
      "metadata": {
        "id": "UTiNeGXnN8Jk"
      },
      "execution_count": 57,
      "outputs": []
    },
    {
      "cell_type": "code",
      "source": [
        "# image_array_expand = tf.expand_dims(image_array, axis=0)\n",
        "# val_array_expand = tf.expand_dims(val_array, axis=-1)"
      ],
      "metadata": {
        "id": "RFQAyuRNTUz-"
      },
      "execution_count": null,
      "outputs": []
    },
    {
      "cell_type": "code",
      "source": [
        "train_labels = train_labels.astype(float)\n",
        "val_labels = val_labels.astype(float)"
      ],
      "metadata": {
        "id": "MEpQwx2XOw6s"
      },
      "execution_count": 58,
      "outputs": []
    },
    {
      "cell_type": "code",
      "source": [
        "scale = MinMaxScaler(feature_range=(0,1))\n",
        "train_labels = scale.fit_transform(train_labels)\n",
        "val_labels = scale.fit_transform(val_labels)"
      ],
      "metadata": {
        "id": "YBS1jkTShOJY"
      },
      "execution_count": 59,
      "outputs": []
    },
    {
      "cell_type": "code",
      "source": [
        "image_array.shape"
      ],
      "metadata": {
        "colab": {
          "base_uri": "https://localhost:8080/"
        },
        "id": "r-tNCOMxz1bW",
        "outputId": "c32ea4c1-d259-476d-f059-c132ed9832cf"
      },
      "execution_count": 60,
      "outputs": [
        {
          "output_type": "execute_result",
          "data": {
            "text/plain": [
              "(535, 150, 150, 1)"
            ]
          },
          "metadata": {},
          "execution_count": 60
        }
      ]
    },
    {
      "cell_type": "code",
      "source": [
        "train_labels = np.reshape(train_labels, (image_array.shape[0], 1))\n",
        "val_labels = np.reshape(val_labels, (val_array.shape[0], 1))"
      ],
      "metadata": {
        "id": "UgGtnN_uzB4d"
      },
      "execution_count": 61,
      "outputs": []
    },
    {
      "cell_type": "code",
      "source": [
        "train_labels.shape"
      ],
      "metadata": {
        "colab": {
          "base_uri": "https://localhost:8080/"
        },
        "id": "FCUN8S1b0bo1",
        "outputId": "2da5fc49-21c5-48e8-9a1c-10534f254baf"
      },
      "execution_count": 62,
      "outputs": [
        {
          "output_type": "execute_result",
          "data": {
            "text/plain": [
              "(535, 1)"
            ]
          },
          "metadata": {},
          "execution_count": 62
        }
      ]
    },
    {
      "cell_type": "code",
      "source": [
        "model = tf.keras.models.Sequential([ \n",
        "    tf.keras.layers.Conv2D(64, (3,3), activation='relu', input_shape=(150, 150, 1)),\n",
        "    tf.keras.layers.MaxPooling2D(2, 2),\n",
        "\n",
        "    tf.keras.layers.Conv2D(32, (3,3), activation='relu'),\n",
        "    tf.keras.layers.MaxPooling2D(2, 2),\n",
        "\n",
        "    tf.keras.layers.Conv2D(32, (3,3), activation='relu'),\n",
        "    tf.keras.layers.MaxPooling2D(2, 2),\n",
        "    tf.keras.layers.Dense(512, activation='relu'),\n",
        "\n",
        "    tf.keras.layers.Conv2D(16, (3,3), activation='relu'),\n",
        "    tf.keras.layers.MaxPooling2D(2, 2),\n",
        "\n",
        "    tf.keras.layers.Flatten(),\n",
        "    tf.keras.layers.Dense(1, activation='sigmoid')\n",
        "    ])\n"
      ],
      "metadata": {
        "id": "pt60zX8HXcZx"
      },
      "execution_count": 107,
      "outputs": []
    },
    {
      "cell_type": "code",
      "source": [
        "model.summary()"
      ],
      "metadata": {
        "colab": {
          "base_uri": "https://localhost:8080/"
        },
        "id": "yS6cjO_HTBkU",
        "outputId": "d6884835-9010-4d8a-f657-7d71ef6497cb"
      },
      "execution_count": 102,
      "outputs": [
        {
          "output_type": "stream",
          "name": "stdout",
          "text": [
            "Model: \"sequential_6\"\n",
            "_________________________________________________________________\n",
            " Layer (type)                Output Shape              Param #   \n",
            "=================================================================\n",
            " conv2d_24 (Conv2D)          (None, 148, 148, 64)      640       \n",
            "                                                                 \n",
            " max_pooling2d_24 (MaxPoolin  (None, 74, 74, 64)       0         \n",
            " g2D)                                                            \n",
            "                                                                 \n",
            " conv2d_25 (Conv2D)          (None, 72, 72, 32)        18464     \n",
            "                                                                 \n",
            " max_pooling2d_25 (MaxPoolin  (None, 36, 36, 32)       0         \n",
            " g2D)                                                            \n",
            "                                                                 \n",
            " conv2d_26 (Conv2D)          (None, 34, 34, 32)        9248      \n",
            "                                                                 \n",
            " max_pooling2d_26 (MaxPoolin  (None, 17, 17, 32)       0         \n",
            " g2D)                                                            \n",
            "                                                                 \n",
            " dense_12 (Dense)            (None, 17, 17, 512)       16896     \n",
            "                                                                 \n",
            " conv2d_27 (Conv2D)          (None, 15, 15, 16)        73744     \n",
            "                                                                 \n",
            " max_pooling2d_27 (MaxPoolin  (None, 7, 7, 16)         0         \n",
            " g2D)                                                            \n",
            "                                                                 \n",
            " flatten_6 (Flatten)         (None, 784)               0         \n",
            "                                                                 \n",
            " dense_13 (Dense)            (None, 1)                 785       \n",
            "                                                                 \n",
            "=================================================================\n",
            "Total params: 119,777\n",
            "Trainable params: 119,777\n",
            "Non-trainable params: 0\n",
            "_________________________________________________________________\n"
          ]
        }
      ]
    },
    {
      "cell_type": "code",
      "source": [
        "model.compile(optimizer='adam', loss='mean_squared_error', metrics=['accuracy'])\n",
        "# Train the model\n",
        "history = model.fit(image_array, train_labels, epochs=10)\n",
        "# x = tf.expand_dims(image_array, axis=1)\n",
        "# y = tf.expand_dims(train_labels, axis=1)\n",
        "# model.fit(x, y, epochs=5)\n",
        "# Evaluate\n",
        "test_loss = model.evaluate(val_array, val_labels)"
      ],
      "metadata": {
        "colab": {
          "base_uri": "https://localhost:8080/"
        },
        "id": "3Sed8G5fLw3h",
        "outputId": "85550d87-26ee-4f01-cce2-1116734cf65c"
      },
      "execution_count": 111,
      "outputs": [
        {
          "output_type": "stream",
          "name": "stdout",
          "text": [
            "Epoch 1/10\n",
            "17/17 [==============================] - 27s 1s/step - loss: 0.0359 - accuracy: 0.0131\n",
            "Epoch 2/10\n",
            "17/17 [==============================] - 25s 1s/step - loss: 0.0336 - accuracy: 0.0131\n",
            "Epoch 3/10\n",
            "17/17 [==============================] - 25s 1s/step - loss: 0.0329 - accuracy: 0.0131\n",
            "Epoch 4/10\n",
            "17/17 [==============================] - 25s 1s/step - loss: 0.0333 - accuracy: 0.0131\n",
            "Epoch 5/10\n",
            "17/17 [==============================] - 24s 1s/step - loss: 0.0323 - accuracy: 0.0131\n",
            "Epoch 6/10\n",
            "17/17 [==============================] - 24s 1s/step - loss: 0.0318 - accuracy: 0.0131\n",
            "Epoch 7/10\n",
            "17/17 [==============================] - 25s 1s/step - loss: 0.0315 - accuracy: 0.0131\n",
            "Epoch 8/10\n",
            "17/17 [==============================] - 26s 2s/step - loss: 0.0318 - accuracy: 0.0131\n",
            "Epoch 9/10\n",
            "17/17 [==============================] - 25s 1s/step - loss: 0.0309 - accuracy: 0.0131\n",
            "Epoch 10/10\n",
            "17/17 [==============================] - 25s 1s/step - loss: 0.0292 - accuracy: 0.0131\n",
            "2/2 [==============================] - 1s 289ms/step - loss: 0.0483 - accuracy: 0.0167\n"
          ]
        }
      ]
    },
    {
      "cell_type": "code",
      "source": [
        "# Plot the loss accuracies for each epoch\n",
        "\n",
        "loss = history.history['loss']\n",
        "\n",
        "epochs = range(len(loss))\n",
        "\n",
        "plt.plot(epochs, loss, 'b', label='Loss accuracy')\n",
        "plt.title('Loss accuracy')\n",
        "plt.legend(loc=0)\n",
        "plt.figure()\n",
        "\n",
        "plt.show()"
      ],
      "metadata": {
        "colab": {
          "base_uri": "https://localhost:8080/",
          "height": 298
        },
        "id": "nvzXR_ZABAAN",
        "outputId": "430638c8-139e-42e3-bfb7-1ec0688018f6"
      },
      "execution_count": 113,
      "outputs": [
        {
          "output_type": "display_data",
          "data": {
            "text/plain": [
              "<Figure size 432x288 with 1 Axes>"
            ],
            "image/png": "[encoded data removed]"
          },
          "metadata": {
            "needs_background": "light"
          }
        },
        {
          "output_type": "display_data",
          "data": {
            "text/plain": [
              "<Figure size 432x288 with 0 Axes>"
            ]
          },
          "metadata": {}
        }
      ]
    },
    {
      "cell_type": "code",
      "source": [
        "pred = model.predict(val_array)\n",
        "test_result = scale.inverse_transform(pred)\n",
        "real = scale.inverse_transform(val_labels)"
      ],
      "metadata": {
        "id": "2QvMP6biiVI1"
      },
      "execution_count": 114,
      "outputs": []
    },
    {
      "cell_type": "code",
      "source": [
        "import math\n",
        "from sklearn.metrics import mean_squared_error\n",
        "print(\"Prediction Result\")\n",
        "print(test_result[:20])\n",
        "print(\"Actual\")\n",
        "print(real[:20])\n",
        "# testScore = math.sqrt(mean_squared_error(test_result, real))\n",
        "# print('Test Score: %.2f RMSE' % (testScore))"
      ],
      "metadata": {
        "colab": {
          "base_uri": "https://localhost:8080/"
        },
        "id": "5CqUzy7vjSE2",
        "outputId": "a615dd31-9be1-4e6d-8735-44740d2e6cb0"
      },
      "execution_count": 116,
      "outputs": [
        {
          "output_type": "stream",
          "name": "stdout",
          "text": [
            "Prediction Result\n",
            "[[ 61.59007 ]\n",
            " [ 63.222492]\n",
            " [ 64.77699 ]\n",
            " [ 69.01393 ]\n",
            " [ 57.974953]\n",
            " [ 56.306812]\n",
            " [ 63.549427]\n",
            " [ 50.85866 ]\n",
            " [ 60.424023]\n",
            " [103.54846 ]\n",
            " [ 57.40825 ]\n",
            " [ 72.96999 ]\n",
            " [ 60.499317]\n",
            " [ 56.510864]\n",
            " [ 55.248787]\n",
            " [ 44.274178]\n",
            " [ 76.685745]\n",
            " [ 82.551834]\n",
            " [ 92.65075 ]\n",
            " [ 46.989502]]\n",
            "Actual\n",
            "[[ 59.]\n",
            " [ 29.]\n",
            " [ 29.]\n",
            " [ 74.]\n",
            " [ 74.]\n",
            " [ 52.]\n",
            " [ 39.]\n",
            " [145.]\n",
            " [138.]\n",
            " [109.]\n",
            " [101.]\n",
            " [278.]\n",
            " [ 21.]\n",
            " [ 21.]\n",
            " [ 21.]\n",
            " [ 79.]\n",
            " [ 49.]\n",
            " [ 49.]\n",
            " [ 49.]\n",
            " [ 64.]]\n"
          ]
        }
      ]
    }
  ]
}