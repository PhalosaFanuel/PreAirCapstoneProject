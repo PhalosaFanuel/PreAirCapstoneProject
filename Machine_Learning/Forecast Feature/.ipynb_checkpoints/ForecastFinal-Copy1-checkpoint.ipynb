{
 "cells": [
  {
   "cell_type": "code",
   "execution_count": null,
   "id": "4afd83d3-eaa9-4895-934f-e05632766b01",
   "metadata": {},
   "outputs": [],
   "source": [
    "# Forecasting use LSTM For AQI (AIR QUALITY INDEX) Based on PM10"
   ]
  },
  {
   "cell_type": "code",
   "execution_count": 1,
   "id": "d985003d-9bb1-4c4d-b41f-cd61d0f3da17",
   "metadata": {},
   "outputs": [],
   "source": [
    "import numpy as np\n",
    "import pandas as pd\n",
    "import matplotlib.pyplot as plt\n",
    "import datetime as dt\n",
    "from datetime import datetime\n",
    "from keras.models import Sequential\n",
    "from keras.layers import Dense\n",
    "from keras.layers import LSTM\n",
    "from keras.layers import Dropout\n",
    "from keras.optimizers import Adam\n",
    "from keras.callbacks import EarlyStopping, ReduceLROnPlateau, ModelCheckpoint, TensorBoard\n",
    "\n",
    "%matplotlib inline"
   ]
  },
  {
   "cell_type": "code",
   "execution_count": 2,
   "id": "d4da457a-5b0b-46b7-9f9c-19603a33ec3f",
   "metadata": {},
   "outputs": [
    {
     "name": "stdout",
     "output_type": "stream",
     "text": [
      "Training set shape = (1076, 10)\n",
      "All timestamp = 1076\n",
      "Columns Selected : ['pm10', 'so2', 'co']\n"
     ]
    }
   ],
   "source": [
    "# Import Dataset\n",
    "dataset = pd.read_csv('ispu_data.csv')\n",
    "\n",
    "# Select column\n",
    "cols = list(dataset)[1:4]\n",
    "\n",
    "# Extracting\n",
    "datelist = list(dataset['tanggal'])\n",
    "datelist = [dt.datetime.strptime(date, '%Y-%m-%d').date() for date in datelist]\n",
    "\n",
    "print('Training set shape = {}'.format(dataset.shape))\n",
    "print('All timestamp = {}'.format(len(datelist)))\n",
    "print('Columns Selected : {}'.format(cols))"
   ]
  },
  {
   "cell_type": "code",
   "execution_count": 3,
   "id": "e53405b8-bc7f-4d9e-98ba-1b662f683d5a",
   "metadata": {},
   "outputs": [
    {
     "name": "stdout",
     "output_type": "stream",
     "text": [
      "Shape of training set = (1076, 3).\n"
     ]
    },
    {
     "data": {
      "text/plain": [
       "array([[29., 15.,  7.],\n",
       "       [24., 17.,  6.],\n",
       "       [23., 16.,  6.],\n",
       "       ...,\n",
       "       [61., 54., 15.],\n",
       "       [60., 53., 17.],\n",
       "       [64., 52., 44.]])"
      ]
     },
     "execution_count": 3,
     "metadata": {},
     "output_type": "execute_result"
    }
   ],
   "source": [
    "# DATA PREPROCESSING\n",
    "dataset = dataset[cols].astype(str)\n",
    "for i in cols:\n",
    "    for j in range(0, len(dataset)):\n",
    "        dataset[i][j] = dataset[i][j].replace(',', '')\n",
    "\n",
    "dataset = dataset.astype(float)\n",
    "# Using feature columns\n",
    "training_set = dataset.values\n",
    "\n",
    "print('Shape of training set = {}.'.format(training_set.shape))\n",
    "training_set"
   ]
  },
  {
   "cell_type": "code",
   "execution_count": 4,
   "id": "b5462839-0c75-4241-9077-0c4c9efbf839",
   "metadata": {},
   "outputs": [
    {
     "data": {
      "text/plain": [
       "array([[-2.1921057 ],\n",
       "       [-2.52555766],\n",
       "       [-2.59224805],\n",
       "       ...,\n",
       "       [-0.0580132 ],\n",
       "       [-0.12470359],\n",
       "       [ 0.14205797]])"
      ]
     },
     "execution_count": 4,
     "metadata": {},
     "output_type": "execute_result"
    }
   ],
   "source": [
    "# Feature Scale\n",
    "from sklearn.preprocessing import StandardScaler\n",
    "\n",
    "scaler = StandardScaler()\n",
    "training_set_scaled = scaler.fit_transform(training_set)\n",
    "\n",
    "scaler_predict = StandardScaler()\n",
    "scaler_predict.fit_transform(training_set[:, 0:1])"
   ]
  },
  {
   "cell_type": "code",
   "execution_count": 35,
   "id": "bb6f3b2d-02c8-4e5a-9f3c-4a625780e57b",
   "metadata": {},
   "outputs": [
    {
     "name": "stdout",
     "output_type": "stream",
     "text": [
      "x_train shape = (577, 300, 2).\n",
      "y_train shape = (577, 1).\n"
     ]
    }
   ],
   "source": [
    "# Create data structure 60 timestamps and 1 output\n",
    "x_train = []\n",
    "y_train = []\n",
    "\n",
    "n_future = 200\n",
    "n_past = 300\n",
    "\n",
    "for i in range(n_past, len(training_set_scaled) - n_future + 1):\n",
    "    x_train.append(training_set_scaled[i - n_past:i, 0:dataset.shape[1] - 1])\n",
    "    y_train.append(training_set_scaled[i + n_future - 1:i + n_future, 0])\n",
    "\n",
    "x_train, y_train = np.array(x_train), np.array(y_train)\n",
    "\n",
    "print('x_train shape = {}.'.format(x_train.shape))\n",
    "print('y_train shape = {}.'.format(y_train.shape))"
   ]
  },
  {
   "cell_type": "code",
   "execution_count": 36,
   "id": "c427bb9a-67a2-4ff6-9416-b75f2de0daac",
   "metadata": {},
   "outputs": [],
   "source": [
    "# LSTM Model\n",
    "model = Sequential()\n",
    "# 1st LSTM layer\n",
    "#model.add(LSTM(units=64, return_sequences=True, input_shape=(n_past, dataset.shape[1]-1)))\n",
    "model.add(LSTM(units=4, input_shape=(n_past, dataset.shape[1]-1)))\n",
    "# 2nd LSTM layer\n",
    "#model.add(LSTM(units=10, return_sequences=False))\n",
    "# Dropout\n",
    "#model.add(Dropout(0.25))\n",
    "# Output layer\n",
    "model.add(Dense(units=1))\n",
    "\n",
    "# Compiling the Neural Network\n",
    "model.compile(optimizer = Adam(learning_rate=0.01), loss='mean_squared_error')"
   ]
  },
  {
   "cell_type": "code",
   "execution_count": 37,
   "id": "9cdfa76c-14c2-4b93-b034-8352e13f22bc",
   "metadata": {},
   "outputs": [
    {
     "name": "stdout",
     "output_type": "stream",
     "text": [
      "Model: \"sequential_3\"\n",
      "_________________________________________________________________\n",
      " Layer (type)                Output Shape              Param #   \n",
      "=================================================================\n",
      " lstm_3 (LSTM)               (None, 4)                 112       \n",
      "                                                                 \n",
      " dense_3 (Dense)             (None, 1)                 5         \n",
      "                                                                 \n",
      "=================================================================\n",
      "Total params: 117\n",
      "Trainable params: 117\n",
      "Non-trainable params: 0\n",
      "_________________________________________________________________\n"
     ]
    }
   ],
   "source": [
    "model.summary()"
   ]
  },
  {
   "cell_type": "code",
   "execution_count": 38,
   "id": "1970b542-320a-4ec2-be1a-eab73f1998a5",
   "metadata": {},
   "outputs": [
    {
     "name": "stdout",
     "output_type": "stream",
     "text": [
      "Epoch 1/100\n",
      "2/2 [==============================] - ETA: 0s - loss: 1.0015 \n",
      "Epoch 1: val_loss improved from inf to 1.32510, saving model to weights.h5\n",
      "2/2 [==============================] - 14s 3s/step - loss: 1.0015 - val_loss: 1.3251 - lr: 0.0100\n",
      "Epoch 2/100\n",
      "2/2 [==============================] - ETA: 0s - loss: 0.9521\n",
      "Epoch 2: val_loss did not improve from 1.32510\n",
      "2/2 [==============================] - 1s 1s/step - loss: 0.9521 - val_loss: 1.3619 - lr: 0.0100\n",
      "Epoch 3/100\n",
      "2/2 [==============================] - ETA: 0s - loss: 0.9297\n",
      "Epoch 3: val_loss did not improve from 1.32510\n",
      "2/2 [==============================] - 1s 738ms/step - loss: 0.9297 - val_loss: 1.4130 - lr: 0.0100\n",
      "Epoch 4/100\n",
      "2/2 [==============================] - ETA: 0s - loss: 0.9191\n",
      "Epoch 4: val_loss did not improve from 1.32510\n",
      "2/2 [==============================] - 1s 657ms/step - loss: 0.9191 - val_loss: 1.4643 - lr: 0.0100\n",
      "Epoch 5/100\n",
      "2/2 [==============================] - ETA: 0s - loss: 0.9076\n",
      "Epoch 5: val_loss did not improve from 1.32510\n",
      "2/2 [==============================] - 1s 766ms/step - loss: 0.9076 - val_loss: 1.5114 - lr: 0.0100\n",
      "Epoch 6/100\n",
      "2/2 [==============================] - ETA: 0s - loss: 0.8950\n",
      "Epoch 6: val_loss did not improve from 1.32510\n",
      "2/2 [==============================] - 1s 654ms/step - loss: 0.8950 - val_loss: 1.5477 - lr: 0.0100\n",
      "Epoch 7/100\n",
      "2/2 [==============================] - ETA: 0s - loss: 0.8814\n",
      "Epoch 7: val_loss did not improve from 1.32510\n",
      "2/2 [==============================] - 1s 695ms/step - loss: 0.8814 - val_loss: 1.5791 - lr: 0.0100\n",
      "Epoch 8/100\n",
      "2/2 [==============================] - ETA: 0s - loss: 0.8699\n",
      "Epoch 8: val_loss did not improve from 1.32510\n",
      "2/2 [==============================] - 1s 839ms/step - loss: 0.8699 - val_loss: 1.6094 - lr: 0.0100\n",
      "Epoch 9/100\n",
      "2/2 [==============================] - ETA: 0s - loss: 0.8631\n",
      "Epoch 9: val_loss did not improve from 1.32510\n",
      "2/2 [==============================] - 1s 714ms/step - loss: 0.8631 - val_loss: 1.6364 - lr: 0.0100\n",
      "Epoch 10/100\n",
      "2/2 [==============================] - ETA: 0s - loss: 0.8557\n",
      "Epoch 10: val_loss did not improve from 1.32510\n",
      "2/2 [==============================] - 1s 659ms/step - loss: 0.8557 - val_loss: 1.6668 - lr: 0.0100\n",
      "Epoch 11/100\n",
      "2/2 [==============================] - ETA: 0s - loss: 0.8490\n",
      "Epoch 11: ReduceLROnPlateau reducing learning rate to 0.004999999888241291.\n",
      "\n",
      "Epoch 11: val_loss did not improve from 1.32510\n",
      "2/2 [==============================] - 1s 720ms/step - loss: 0.8490 - val_loss: 1.7006 - lr: 0.0100\n",
      "Epoch 11: early stopping\n"
     ]
    }
   ],
   "source": [
    "# Training Model\n",
    "\n",
    "es = EarlyStopping(monitor='val_loss', min_delta=1e-10, patience=10, verbose=1)\n",
    "rlr = ReduceLROnPlateau(monitor='val_loss', factor=0.5, patience=10, verbose=1)\n",
    "mcp = ModelCheckpoint(filepath='weights.h5', monitor='val_loss', verbose=1, save_best_only=True, save_weights_only=True)\n",
    "\n",
    "tb = TensorBoard('logs')\n",
    "\n",
    "history = model.fit(x_train, y_train, shuffle=True, epochs=100, callbacks=[es, rlr, mcp, tb], validation_split=0.2, verbose=1, batch_size=256)"
   ]
  },
  {
   "cell_type": "code",
   "execution_count": 39,
   "id": "f5b82f2b-b670-46bb-84b9-3ae237ecc28c",
   "metadata": {},
   "outputs": [],
   "source": [
    "# Future Prediction\n",
    "datelist_future = pd.date_range(datelist[-1], periods=n_future, freq='1d').tolist()\n",
    "datelist_future_ = []\n",
    "for present_timestamp in datelist_future:\n",
    "    datelist_future_.append(present_timestamp.date())"
   ]
  },
  {
   "cell_type": "code",
   "execution_count": 40,
   "id": "29590b15-61d8-4020-b2bf-c96b564e5a6f",
   "metadata": {},
   "outputs": [
    {
     "name": "stdout",
     "output_type": "stream",
     "text": [
      "7/7 [==============================] - 3s 63ms/step\n",
      "9/9 [==============================] - 1s 58ms/step\n"
     ]
    }
   ],
   "source": [
    "# Predictions\n",
    "predictions_future = model.predict(x_train[-n_future:])\n",
    "predictions_train = model.predict(x_train[n_past:])"
   ]
  },
  {
   "cell_type": "code",
   "execution_count": 41,
   "id": "52a1ad5d-dd5d-4af9-aad1-d05805b840b7",
   "metadata": {},
   "outputs": [
    {
     "data": {
      "text/html": [
       "<div>\n",
       "<style scoped>\n",
       "    .dataframe tbody tr th:only-of-type {\n",
       "        vertical-align: middle;\n",
       "    }\n",
       "\n",
       "    .dataframe tbody tr th {\n",
       "        vertical-align: top;\n",
       "    }\n",
       "\n",
       "    .dataframe thead th {\n",
       "        text-align: right;\n",
       "    }\n",
       "</style>\n",
       "<table border=\"1\" class=\"dataframe\">\n",
       "  <thead>\n",
       "    <tr style=\"text-align: right;\">\n",
       "      <th></th>\n",
       "      <th>pm10</th>\n",
       "    </tr>\n",
       "  </thead>\n",
       "  <tbody>\n",
       "    <tr>\n",
       "      <th>2021-03-30</th>\n",
       "      <td>59.654797</td>\n",
       "    </tr>\n",
       "    <tr>\n",
       "      <th>2021-03-31</th>\n",
       "      <td>59.128521</td>\n",
       "    </tr>\n",
       "    <tr>\n",
       "      <th>2021-04-01</th>\n",
       "      <td>60.038086</td>\n",
       "    </tr>\n",
       "    <tr>\n",
       "      <th>2021-04-02</th>\n",
       "      <td>59.380844</td>\n",
       "    </tr>\n",
       "    <tr>\n",
       "      <th>2021-04-03</th>\n",
       "      <td>61.564121</td>\n",
       "    </tr>\n",
       "    <tr>\n",
       "      <th>2021-04-04</th>\n",
       "      <td>61.547749</td>\n",
       "    </tr>\n",
       "    <tr>\n",
       "      <th>2021-04-05</th>\n",
       "      <td>62.712696</td>\n",
       "    </tr>\n",
       "    <tr>\n",
       "      <th>2021-04-06</th>\n",
       "      <td>60.915672</td>\n",
       "    </tr>\n",
       "    <tr>\n",
       "      <th>2021-04-07</th>\n",
       "      <td>60.363659</td>\n",
       "    </tr>\n",
       "    <tr>\n",
       "      <th>2021-04-08</th>\n",
       "      <td>60.482914</td>\n",
       "    </tr>\n",
       "  </tbody>\n",
       "</table>\n",
       "</div>"
      ],
      "text/plain": [
       "                 pm10\n",
       "2021-03-30  59.654797\n",
       "2021-03-31  59.128521\n",
       "2021-04-01  60.038086\n",
       "2021-04-02  59.380844\n",
       "2021-04-03  61.564121\n",
       "2021-04-04  61.547749\n",
       "2021-04-05  62.712696\n",
       "2021-04-06  60.915672\n",
       "2021-04-07  60.363659\n",
       "2021-04-08  60.482914"
      ]
     },
     "execution_count": 41,
     "metadata": {},
     "output_type": "execute_result"
    }
   ],
   "source": [
    "# Inverse Pred\n",
    "def datetime_to_timestamp(x):\n",
    "    return datetime.strptime(x.strftime('%Y%m%d'), '%Y%m%d')\n",
    "\n",
    "y_pred_future = scaler_predict.inverse_transform(predictions_future)\n",
    "y_pred_train = scaler_predict.inverse_transform(predictions_train)\n",
    "\n",
    "PRED_FUTURE = pd.DataFrame(y_pred_future, columns=['pm10']).set_index(pd.Series(datelist_future))\n",
    "PRED_TRAIN = pd.DataFrame(y_pred_train, columns=['pm10']).set_index(pd.Series(datelist[2 * n_past + n_future -1:]))\n",
    "\n",
    "# Convert <datetime.date> to <Timestamp> for PREDCITION_TRAIN\n",
    "PRED_TRAIN.index = PRED_TRAIN.index.to_series().apply(datetime_to_timestamp)\n",
    "\n",
    "PRED_TRAIN.head(10)"
   ]
  },
  {
   "cell_type": "code",
   "execution_count": 42,
   "id": "1f2fa954-0e5c-47dc-8b5a-6b667d45ecaf",
   "metadata": {},
   "outputs": [
    {
     "data": {
      "image/png": "[encoded data removed]",
      "text/plain": [
       "<Figure size 1008x360 with 1 Axes>"
      ]
     },
     "metadata": {
      "needs_background": "light"
     },
     "output_type": "display_data"
    }
   ],
   "source": [
    "# Plotting\n",
    "\n",
    "# Set plot size \n",
    "from pylab import rcParams\n",
    "rcParams['figure.figsize'] = 14, 5\n",
    "\n",
    "# Plot parameters\n",
    "START_DATE_FOR_PLOTTING = '2020-01-01'\n",
    "\n",
    "plt.plot(PRED_FUTURE.index, PRED_FUTURE['pm10'], color='r', label='Predicted PM10')\n",
    "plt.plot(PRED_TRAIN.loc[START_DATE_FOR_PLOTTING:].index, PRED_TRAIN.loc[START_DATE_FOR_PLOTTING:]['pm10'], color='orange', label='Training predictions')\n",
    "plt.plot(dataset.loc[START_DATE_FOR_PLOTTING:].index, dataset.loc[START_DATE_FOR_PLOTTING:]['pm10'], color='b', label='Actual PM10')\n",
    "\n",
    "plt.axvline(x = min(PRED_FUTURE.index), color='green', linewidth=2, linestyle='--')\n",
    "\n",
    "plt.grid(which='major', color='#cccccc', alpha=0.5)\n",
    "\n",
    "plt.legend(shadow=True)\n",
    "plt.title('Predcitions and Actual PM10', family='Arial', fontsize=12)\n",
    "plt.xlabel('Timeline', family='Arial', fontsize=10)\n",
    "plt.ylabel('PM10 Value', family='Arial', fontsize=10)\n",
    "plt.xticks(rotation=45, fontsize=8)\n",
    "plt.show()"
   ]
  },
  {
   "cell_type": "code",
   "execution_count": 33,
   "id": "b96c95c5-b5a0-4bd3-8d7d-9b11e1981146",
   "metadata": {},
   "outputs": [],
   "source": [
    "dataset = pd.DataFrame(dataset, columns=cols)\n",
    "dataset.index = datelist\n",
    "dataset.index = pd.to_datetime(dataset.index)\n"
   ]
  },
  {
   "cell_type": "code",
   "execution_count": 49,
   "id": "9e99667d-006b-4d2b-b52b-2f20cd8a5a30",
   "metadata": {},
   "outputs": [
    {
     "data": {
      "text/plain": [
       "2021-12-31    67.969872\n",
       "2022-01-01    67.807434\n",
       "2022-01-02    72.086662\n",
       "2022-01-03    74.408821\n",
       "2022-01-04    72.874298\n",
       "                ...    \n",
       "2022-07-14    65.517685\n",
       "2022-07-15    66.819031\n",
       "2022-07-16    66.770462\n",
       "2022-07-17    69.519730\n",
       "2022-07-18    67.757736\n",
       "Name: pm10, Length: 200, dtype: float32"
      ]
     },
     "execution_count": 49,
     "metadata": {},
     "output_type": "execute_result"
    }
   ],
   "source": [
    "PRED_FUTURE['pm10']"
   ]
  },
  {
   "cell_type": "code",
   "execution_count": null,
   "id": "c643a77c-5cc3-418c-9bbf-572830fe0806",
   "metadata": {},
   "outputs": [],
   "source": []
  }
 ],
 "metadata": {
  "kernelspec": {
   "display_name": "Python 3 (ipykernel)",
   "language": "python",
   "name": "python3"
  },
  "language_info": {
   "codemirror_mode": {
    "name": "ipython",
    "version": 3
   },
   "file_extension": ".py",
   "mimetype": "text/x-python",
   "name": "python",
   "nbconvert_exporter": "python",
   "pygments_lexer": "ipython3",
   "version": "3.10.2"
  }
 },
 "nbformat": 4,
 "nbformat_minor": 5
}
