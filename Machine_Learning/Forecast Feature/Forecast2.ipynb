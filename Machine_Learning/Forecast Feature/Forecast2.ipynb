{
 "cells": [
  {
   "cell_type": "code",
   "execution_count": 26,
   "id": "e14ae313-d156-4048-be3f-b9beac4be6c7",
   "metadata": {},
   "outputs": [],
   "source": [
    "import pandas as pd\n",
    "import pandas as pandasForSortingCSV\n",
    "import matplotlib.pyplot as plt\n",
    "import numpy as np\n",
    "import tensorflow as tf\n",
    "import math\n",
    "from datetime import datetime \n",
    "from sklearn.preprocessing import MinMaxScaler\n",
    "from keras.models import Sequential\n",
    "from keras.layers import Dense, LSTM, Activation, Dropout\n",
    "\n"
   ]
  },
  {
   "cell_type": "code",
   "execution_count": 2,
   "id": "4c9bd52d-1958-4174-a756-ca23d906758a",
   "metadata": {},
   "outputs": [],
   "source": [
    "def parse(x):\n",
    "    return datetime.strptime(x, '%Y %m %d %H')"
   ]
  },
  {
   "cell_type": "code",
   "execution_count": 7,
   "id": "91d9e6c5-cba5-42be-939d-678d24e5ad18",
   "metadata": {},
   "outputs": [
    {
     "data": {
      "text/html": [
       "<div>\n",
       "<style scoped>\n",
       "    .dataframe tbody tr th:only-of-type {\n",
       "        vertical-align: middle;\n",
       "    }\n",
       "\n",
       "    .dataframe tbody tr th {\n",
       "        vertical-align: top;\n",
       "    }\n",
       "\n",
       "    .dataframe thead th {\n",
       "        text-align: right;\n",
       "    }\n",
       "</style>\n",
       "<table border=\"1\" class=\"dataframe\">\n",
       "  <thead>\n",
       "    <tr style=\"text-align: right;\">\n",
       "      <th></th>\n",
       "      <th>pm10</th>\n",
       "      <th>so2</th>\n",
       "      <th>co</th>\n",
       "      <th>o3</th>\n",
       "      <th>no2</th>\n",
       "      <th>max</th>\n",
       "      <th>critical</th>\n",
       "      <th>categori</th>\n",
       "      <th>lokasi_spku</th>\n",
       "    </tr>\n",
       "    <tr>\n",
       "      <th>tanggal</th>\n",
       "      <th></th>\n",
       "      <th></th>\n",
       "      <th></th>\n",
       "      <th></th>\n",
       "      <th></th>\n",
       "      <th></th>\n",
       "      <th></th>\n",
       "      <th></th>\n",
       "      <th></th>\n",
       "    </tr>\n",
       "  </thead>\n",
       "  <tbody>\n",
       "    <tr>\n",
       "      <th>2019-01-01</th>\n",
       "      <td>29</td>\n",
       "      <td>15</td>\n",
       "      <td>7</td>\n",
       "      <td>71</td>\n",
       "      <td>13</td>\n",
       "      <td>71</td>\n",
       "      <td>O3</td>\n",
       "      <td>SEDANG</td>\n",
       "      <td>DKI2</td>\n",
       "    </tr>\n",
       "    <tr>\n",
       "      <th>2019-01-02</th>\n",
       "      <td>24</td>\n",
       "      <td>17</td>\n",
       "      <td>6</td>\n",
       "      <td>79</td>\n",
       "      <td>6</td>\n",
       "      <td>79</td>\n",
       "      <td>O3</td>\n",
       "      <td>SEDANG</td>\n",
       "      <td>DKI2</td>\n",
       "    </tr>\n",
       "    <tr>\n",
       "      <th>2019-01-03</th>\n",
       "      <td>23</td>\n",
       "      <td>16</td>\n",
       "      <td>6</td>\n",
       "      <td>65</td>\n",
       "      <td>4</td>\n",
       "      <td>65</td>\n",
       "      <td>O3</td>\n",
       "      <td>SEDANG</td>\n",
       "      <td>DKI2</td>\n",
       "    </tr>\n",
       "    <tr>\n",
       "      <th>2019-01-04</th>\n",
       "      <td>42</td>\n",
       "      <td>18</td>\n",
       "      <td>10</td>\n",
       "      <td>64</td>\n",
       "      <td>11</td>\n",
       "      <td>64</td>\n",
       "      <td>O3</td>\n",
       "      <td>SEDANG</td>\n",
       "      <td>DKI2</td>\n",
       "    </tr>\n",
       "    <tr>\n",
       "      <th>2019-01-05</th>\n",
       "      <td>54</td>\n",
       "      <td>29</td>\n",
       "      <td>16</td>\n",
       "      <td>51</td>\n",
       "      <td>20</td>\n",
       "      <td>54</td>\n",
       "      <td>PM10</td>\n",
       "      <td>SEDANG</td>\n",
       "      <td>DKI3</td>\n",
       "    </tr>\n",
       "  </tbody>\n",
       "</table>\n",
       "</div>"
      ],
      "text/plain": [
       "            pm10 so2  co  o3  no2  max critical categori lokasi_spku\n",
       "tanggal                                                             \n",
       "2019-01-01    29  15   7  71   13   71       O3   SEDANG        DKI2\n",
       "2019-01-02    24  17   6  79    6   79       O3   SEDANG        DKI2\n",
       "2019-01-03    23  16   6  65    4   65       O3   SEDANG        DKI2\n",
       "2019-01-04    42  18  10  64   11   64       O3   SEDANG        DKI2\n",
       "2019-01-05    54  29  16  51   20   54     PM10   SEDANG        DKI3"
      ]
     },
     "execution_count": 7,
     "metadata": {},
     "output_type": "execute_result"
    }
   ],
   "source": [
    "df = pd.read_csv(\"ispu_data.csv\", index_col=0)\n",
    "df.head()"
   ]
  },
  {
   "cell_type": "code",
   "execution_count": 9,
   "id": "79d091e7-7463-4628-bd78-bc53b3293100",
   "metadata": {},
   "outputs": [
    {
     "data": {
      "text/html": [
       "<div>\n",
       "<style scoped>\n",
       "    .dataframe tbody tr th:only-of-type {\n",
       "        vertical-align: middle;\n",
       "    }\n",
       "\n",
       "    .dataframe tbody tr th {\n",
       "        vertical-align: top;\n",
       "    }\n",
       "\n",
       "    .dataframe thead th {\n",
       "        text-align: right;\n",
       "    }\n",
       "</style>\n",
       "<table border=\"1\" class=\"dataframe\">\n",
       "  <thead>\n",
       "    <tr style=\"text-align: right;\">\n",
       "      <th></th>\n",
       "      <th>pm10</th>\n",
       "      <th>o3</th>\n",
       "      <th>no2</th>\n",
       "      <th>max</th>\n",
       "    </tr>\n",
       "  </thead>\n",
       "  <tbody>\n",
       "    <tr>\n",
       "      <th>count</th>\n",
       "      <td>1076.000000</td>\n",
       "      <td>1076.000000</td>\n",
       "      <td>1076.000000</td>\n",
       "      <td>1076.000000</td>\n",
       "    </tr>\n",
       "    <tr>\n",
       "      <th>mean</th>\n",
       "      <td>61.869888</td>\n",
       "      <td>81.512082</td>\n",
       "      <td>25.739777</td>\n",
       "      <td>98.025093</td>\n",
       "    </tr>\n",
       "    <tr>\n",
       "      <th>std</th>\n",
       "      <td>15.001637</td>\n",
       "      <td>38.504181</td>\n",
       "      <td>22.025802</td>\n",
       "      <td>32.307251</td>\n",
       "    </tr>\n",
       "    <tr>\n",
       "      <th>min</th>\n",
       "      <td>0.000000</td>\n",
       "      <td>18.000000</td>\n",
       "      <td>3.000000</td>\n",
       "      <td>41.000000</td>\n",
       "    </tr>\n",
       "    <tr>\n",
       "      <th>25%</th>\n",
       "      <td>54.000000</td>\n",
       "      <td>53.000000</td>\n",
       "      <td>13.000000</td>\n",
       "      <td>76.000000</td>\n",
       "    </tr>\n",
       "    <tr>\n",
       "      <th>50%</th>\n",
       "      <td>63.000000</td>\n",
       "      <td>73.000000</td>\n",
       "      <td>17.000000</td>\n",
       "      <td>92.000000</td>\n",
       "    </tr>\n",
       "    <tr>\n",
       "      <th>75%</th>\n",
       "      <td>71.000000</td>\n",
       "      <td>100.000000</td>\n",
       "      <td>32.000000</td>\n",
       "      <td>114.000000</td>\n",
       "    </tr>\n",
       "    <tr>\n",
       "      <th>max</th>\n",
       "      <td>179.000000</td>\n",
       "      <td>243.000000</td>\n",
       "      <td>148.000000</td>\n",
       "      <td>243.000000</td>\n",
       "    </tr>\n",
       "  </tbody>\n",
       "</table>\n",
       "</div>"
      ],
      "text/plain": [
       "              pm10           o3          no2          max\n",
       "count  1076.000000  1076.000000  1076.000000  1076.000000\n",
       "mean     61.869888    81.512082    25.739777    98.025093\n",
       "std      15.001637    38.504181    22.025802    32.307251\n",
       "min       0.000000    18.000000     3.000000    41.000000\n",
       "25%      54.000000    53.000000    13.000000    76.000000\n",
       "50%      63.000000    73.000000    17.000000    92.000000\n",
       "75%      71.000000   100.000000    32.000000   114.000000\n",
       "max     179.000000   243.000000   148.000000   243.000000"
      ]
     },
     "execution_count": 9,
     "metadata": {},
     "output_type": "execute_result"
    }
   ],
   "source": [
    "df.describe()"
   ]
  },
  {
   "cell_type": "code",
   "execution_count": 11,
   "id": "a191bf1a-0120-4b3c-9f01-bd77bf7f39bc",
   "metadata": {},
   "outputs": [
    {
     "data": {
      "text/plain": [
       "['pm10',\n",
       " 'so2',\n",
       " 'co',\n",
       " 'o3',\n",
       " 'no2',\n",
       " 'max',\n",
       " 'critical',\n",
       " 'categori',\n",
       " 'lokasi_spku']"
      ]
     },
     "execution_count": 11,
     "metadata": {},
     "output_type": "execute_result"
    }
   ],
   "source": [
    "df_columns = df.columns.tolist()\n",
    "df_columns"
   ]
  },
  {
   "cell_type": "code",
   "execution_count": 13,
   "id": "5958663b-5962-41a7-a51e-711568e93499",
   "metadata": {},
   "outputs": [
    {
     "data": {
      "text/html": [
       "<div>\n",
       "<style scoped>\n",
       "    .dataframe tbody tr th:only-of-type {\n",
       "        vertical-align: middle;\n",
       "    }\n",
       "\n",
       "    .dataframe tbody tr th {\n",
       "        vertical-align: top;\n",
       "    }\n",
       "\n",
       "    .dataframe thead th {\n",
       "        text-align: right;\n",
       "    }\n",
       "</style>\n",
       "<table border=\"1\" class=\"dataframe\">\n",
       "  <thead>\n",
       "    <tr style=\"text-align: right;\">\n",
       "      <th></th>\n",
       "      <th>pm10</th>\n",
       "    </tr>\n",
       "    <tr>\n",
       "      <th>tanggal</th>\n",
       "      <th></th>\n",
       "    </tr>\n",
       "  </thead>\n",
       "  <tbody>\n",
       "    <tr>\n",
       "      <th>2019-01-01</th>\n",
       "      <td>29</td>\n",
       "    </tr>\n",
       "    <tr>\n",
       "      <th>2019-01-02</th>\n",
       "      <td>24</td>\n",
       "    </tr>\n",
       "    <tr>\n",
       "      <th>2019-01-03</th>\n",
       "      <td>23</td>\n",
       "    </tr>\n",
       "    <tr>\n",
       "      <th>2019-01-04</th>\n",
       "      <td>42</td>\n",
       "    </tr>\n",
       "    <tr>\n",
       "      <th>2019-01-05</th>\n",
       "      <td>54</td>\n",
       "    </tr>\n",
       "  </tbody>\n",
       "</table>\n",
       "</div>"
      ],
      "text/plain": [
       "            pm10\n",
       "tanggal         \n",
       "2019-01-01    29\n",
       "2019-01-02    24\n",
       "2019-01-03    23\n",
       "2019-01-04    42\n",
       "2019-01-05    54"
      ]
     },
     "execution_count": 13,
     "metadata": {},
     "output_type": "execute_result"
    }
   ],
   "source": [
    "df = df.drop(['so2','co','o3','no2','max','critical','categori','lokasi_spku'], axis=1)\n",
    "df.head()"
   ]
  },
  {
   "cell_type": "code",
   "execution_count": 14,
   "id": "8d6d940c-17fe-495c-a817-8978d50744e9",
   "metadata": {},
   "outputs": [
    {
     "data": {
      "text/plain": [
       "<AxesSubplot:>"
      ]
     },
     "execution_count": 14,
     "metadata": {},
     "output_type": "execute_result"
    },
    {
     "data": {
      "image/png": "[encoded data removed]",
      "text/plain": [
       "<Figure size 432x288 with 1 Axes>"
      ]
     },
     "metadata": {
      "needs_background": "light"
     },
     "output_type": "display_data"
    }
   ],
   "source": [
    "df.boxplot()"
   ]
  },
  {
   "cell_type": "code",
   "execution_count": 16,
   "id": "793fb8bd-2d20-409c-a598-ef00c25ee09f",
   "metadata": {},
   "outputs": [],
   "source": [
    "# Data Normalization\n",
    "val = df.values\n",
    "scale = MinMaxScaler(feature_range=(0,1))\n",
    "data_norm = scale.fit_transform(val)"
   ]
  },
  {
   "cell_type": "code",
   "execution_count": 20,
   "id": "13ee4395-fa49-429a-a015-2aa942976061",
   "metadata": {},
   "outputs": [
    {
     "data": {
      "text/plain": [
       "array([[0.16201117],\n",
       "       [0.13407821]])"
      ]
     },
     "execution_count": 20,
     "metadata": {},
     "output_type": "execute_result"
    }
   ],
   "source": [
    "data_norm[:2,:]"
   ]
  },
  {
   "cell_type": "code",
   "execution_count": 22,
   "id": "51c770c7-e616-4f14-9309-9a6248994c91",
   "metadata": {},
   "outputs": [],
   "source": [
    "# Window for time serie graph\n",
    "def win_supervised(train):\n",
    "    size_window = 4\n",
    "    x = []\n",
    "    y = []\n",
    "    for i in range(size_window, len(train)):\n",
    "        x.append(train[i - size_window:i, :])\n",
    "        y.append(train[i, 0:1])\n",
    "    return x, y"
   ]
  },
  {
   "cell_type": "code",
   "execution_count": 23,
   "id": "49c2a007-cafd-4553-a827-875aa16fcb0d",
   "metadata": {},
   "outputs": [
    {
     "name": "stdout",
     "output_type": "stream",
     "text": [
      "X (1072, 4, 1)\n",
      "Y (1072, 1)\n"
     ]
    }
   ],
   "source": [
    "x, y = win_supervised(data_norm)\n",
    "x = np.array(x)\n",
    "y = np.array(y)\n",
    "print('X', x.shape)\n",
    "print('Y', y.shape)"
   ]
  },
  {
   "cell_type": "code",
   "execution_count": 30,
   "id": "590401d0-d0a2-492e-8f1b-63991d240bc2",
   "metadata": {},
   "outputs": [
    {
     "name": "stdout",
     "output_type": "stream",
     "text": [
      "X_train (861, 4, 1)\n",
      "X_test (211, 4, 1)\n",
      "Y_train (861, 1)\n",
      "Y_test (211, 1)\n"
     ]
    }
   ],
   "source": [
    "# Split dataset\n",
    "n_train = math.ceil(len(data_norm) * 0.8)\n",
    "x_train, x_test = x[:n_train,], x[n_train:,]\n",
    "print('X_train', x_train.shape)\n",
    "print('X_test', x_test.shape)\n",
    "\n",
    "y_train, y_test = y[:n_train,], y[n_train:,]\n",
    "print('Y_train', y_train.shape)\n",
    "print('Y_test', y_test.shape)\n"
   ]
  },
  {
   "cell_type": "code",
   "execution_count": 31,
   "id": "f54c3a15-1845-4dbf-a2c2-dab90fdf0970",
   "metadata": {},
   "outputs": [],
   "source": [
    "# Model\n",
    "model = Sequential()\n",
    "\n",
    "model.add(LSTM(units = 50, return_sequences = True, input_shape=(x_train.shape[1], x_train.shape[2])))\n",
    "model.add(Dropout(0.2))\n",
    "\n",
    "model.add(LSTM(units = 50, return_sequences = True))\n",
    "model.add(Dropout(0.2))\n",
    "\n",
    "model.add(LSTM(units = 50))\n",
    "model.add(Dropout(0.2))\n",
    "\n",
    "model.add(Dense(units = 1))\n",
    "\n",
    "model.compile(optimizer='adam', loss='mean_squared_error')  "
   ]
  },
  {
   "cell_type": "code",
   "execution_count": 32,
   "id": "6cd8a459-36e1-4514-994f-7f5f6c22f852",
   "metadata": {},
   "outputs": [
    {
     "name": "stdout",
     "output_type": "stream",
     "text": [
      "Epoch 1/20\n",
      "27/27 [==============================] - 30s 73ms/step - loss: 0.0385\n",
      "Epoch 2/20\n",
      "27/27 [==============================] - 2s 66ms/step - loss: 0.0076\n",
      "Epoch 3/20\n",
      "27/27 [==============================] - 2s 69ms/step - loss: 0.0064\n",
      "Epoch 4/20\n",
      "27/27 [==============================] - 2s 65ms/step - loss: 0.0065\n",
      "Epoch 5/20\n",
      "27/27 [==============================] - 2s 66ms/step - loss: 0.0063\n",
      "Epoch 6/20\n",
      "27/27 [==============================] - 2s 70ms/step - loss: 0.0061\n",
      "Epoch 7/20\n",
      "27/27 [==============================] - 2s 71ms/step - loss: 0.0059\n",
      "Epoch 8/20\n",
      "27/27 [==============================] - 2s 71ms/step - loss: 0.0060\n",
      "Epoch 9/20\n",
      "27/27 [==============================] - 2s 67ms/step - loss: 0.0061\n",
      "Epoch 10/20\n",
      "27/27 [==============================] - 2s 71ms/step - loss: 0.0062\n",
      "Epoch 11/20\n",
      "27/27 [==============================] - 2s 68ms/step - loss: 0.0058\n",
      "Epoch 12/20\n",
      "27/27 [==============================] - 2s 85ms/step - loss: 0.0058\n",
      "Epoch 13/20\n",
      "27/27 [==============================] - 2s 86ms/step - loss: 0.0059\n",
      "Epoch 14/20\n",
      "27/27 [==============================] - 3s 96ms/step - loss: 0.0057\n",
      "Epoch 15/20\n",
      "27/27 [==============================] - 2s 86ms/step - loss: 0.0057\n",
      "Epoch 16/20\n",
      "27/27 [==============================] - 2s 91ms/step - loss: 0.0058\n",
      "Epoch 17/20\n",
      "27/27 [==============================] - 2s 87ms/step - loss: 0.0058\n",
      "Epoch 18/20\n",
      "27/27 [==============================] - 2s 79ms/step - loss: 0.0054\n",
      "Epoch 19/20\n",
      "27/27 [==============================] - 2s 82ms/step - loss: 0.0058\n",
      "Epoch 20/20\n",
      "27/27 [==============================] - 2s 88ms/step - loss: 0.0058\n"
     ]
    },
    {
     "data": {
      "text/plain": [
       "<keras.callbacks.History at 0xe2921d0af0>"
      ]
     },
     "execution_count": 32,
     "metadata": {},
     "output_type": "execute_result"
    }
   ],
   "source": [
    "#Train Model\n",
    "model.fit(x_train, y_train, epochs=20, batch_size=32)"
   ]
  },
  {
   "cell_type": "code",
   "execution_count": 47,
   "id": "f8cdebc9-f40c-4fcd-a82a-e6793ce64e08",
   "metadata": {},
   "outputs": [
    {
     "name": "stdout",
     "output_type": "stream",
     "text": [
      "7/7 [==============================] - 0s 27ms/step\n"
     ]
    },
    {
     "data": {
      "text/plain": [
       "0.08600083144288283"
      ]
     },
     "execution_count": 47,
     "metadata": {},
     "output_type": "execute_result"
    }
   ],
   "source": [
    "# Try for Prediction\n",
    "y_pred = model.predict(x_test)\n",
    "\n",
    "from sklearn.metrics import mean_squared_error\n",
    "mse = mean_squared_error(y_test, y_pred)\n",
    "rmse = np.sqrt(mse)\n",
    "rmse"
   ]
  },
  {
   "cell_type": "code",
   "execution_count": 48,
   "id": "b8187d76-2385-44b9-9815-c853ae3a7bd1",
   "metadata": {},
   "outputs": [
    {
     "name": "stdout",
     "output_type": "stream",
     "text": [
      "Y_Predicted (211, 1)\n",
      "X_Test (211, 4, 1)\n",
      "Scaled Values(Normalization Data) (1076, 1)\n"
     ]
    }
   ],
   "source": [
    "# Shape each\n",
    "print('Y_Predicted', y_pred.shape)\n",
    "print('X_Test', x_test.shape)\n",
    "print('Scaled Values(Normalization Data)', data_norm.shape)"
   ]
  },
  {
   "cell_type": "code",
   "execution_count": 49,
   "id": "8e8f850a-8198-4c7d-9c9c-a9852d8b288a",
   "metadata": {},
   "outputs": [
    {
     "name": "stdout",
     "output_type": "stream",
     "text": [
      "Shape org (211, 1)\n",
      "y_pred (211, 1)\n",
      "concat y_pred (211, 1)\n",
      "concat y_test (211, 1)\n"
     ]
    }
   ],
   "source": [
    "# Scale back to original\n",
    "org = data_norm[:211,:]\n",
    "print('Shape org', org.shape)\n",
    "print('y_pred', y_pred.shape)\n",
    "y_pred = np.concatenate((y_pred, org[:211,1:]), axis=1)\n",
    "print('concat y_pred', y_pred.shape)\n",
    "y_tested = np.concatenate((y_test, org[:211,1:]), axis=1)\n",
    "print('concat y_test', y_test.shape)"
   ]
  },
  {
   "cell_type": "code",
   "execution_count": 50,
   "id": "1699f8a6-c1a1-4282-b2a7-c408269bd9a4",
   "metadata": {},
   "outputs": [
    {
     "name": "stdout",
     "output_type": "stream",
     "text": [
      "y_tested (211, 1)\n",
      "y_predicted (211, 1)\n"
     ]
    }
   ],
   "source": [
    "# Inverse data\n",
    "y_pred = scale.inverse_transform(y_pred)\n",
    "y_tested = scale.inverse_transform(y_tested)\n",
    "y_pred = y_pred[:,0:1]\n",
    "y_tested = y_tested[:,0:1]\n",
    "print('y_tested', y_tested.shape)\n",
    "print('y_predicted', y_pred.shape)"
   ]
  },
  {
   "cell_type": "code",
   "execution_count": 51,
   "id": "c03c09e5-8ebf-41d1-ae6e-492e9f82089a",
   "metadata": {},
   "outputs": [
    {
     "data": {
      "text/plain": [
       "15.394148828276025"
      ]
     },
     "execution_count": 51,
     "metadata": {},
     "output_type": "execute_result"
    }
   ],
   "source": [
    "# Calculate Error\n",
    "mse = mean_squared_error(y_tested, y_pred)\n",
    "rmse = np.sqrt(mse)\n",
    "rmse"
   ]
  },
  {
   "cell_type": "code",
   "execution_count": 54,
   "id": "0b013914-52c8-4d8e-85d4-70af4ac440be",
   "metadata": {},
   "outputs": [
    {
     "data": {
      "image/png": "[encoded data removed]",
      "text/plain": [
       "<Figure size 640x480 with 1 Axes>"
      ]
     },
     "metadata": {},
     "output_type": "display_data"
    }
   ],
   "source": [
    "# Plot Prediction vs Original Data\n",
    "plt.plot(y_pred[:50,:], color= 'blue')\n",
    "plt.plot(y_tested[:50,:] , color = 'red')\n",
    "plt.title(\"AQI Univariate PM10\")\n",
    "plt.xlabel(\"Tanggal\")\n",
    "plt.ylabel(\"PM10\")\n",
    "plt.show()"
   ]
  },
  {
   "cell_type": "code",
   "execution_count": 63,
   "id": "2bb19091-84a7-43fd-912c-1476fdb17360",
   "metadata": {},
   "outputs": [
    {
     "name": "stdout",
     "output_type": "stream",
     "text": [
      "861\n"
     ]
    },
    {
     "ename": "IndexError",
     "evalue": "only integers, slices (`:`), ellipsis (`...`), numpy.newaxis (`None`) and integer or boolean arrays are valid indices",
     "output_type": "error",
     "traceback": [
      "\u001b[1;31m---------------------------------------------------------------------------\u001b[0m",
      "\u001b[1;31mIndexError\u001b[0m                                Traceback (most recent call last)",
      "Input \u001b[1;32mIn [63]\u001b[0m, in \u001b[0;36m<cell line: 4>\u001b[1;34m()\u001b[0m\n\u001b[0;32m      2\u001b[0m \u001b[38;5;28mprint\u001b[39m(n_train)\n\u001b[0;32m      3\u001b[0m validation \u001b[38;5;241m=\u001b[39m y_tested\n\u001b[1;32m----> 4\u001b[0m validation[\u001b[38;5;124m'\u001b[39m\u001b[38;5;124mPredictions\u001b[39m\u001b[38;5;124m'\u001b[39m] \u001b[38;5;241m=\u001b[39m y_pred\n\u001b[0;32m      6\u001b[0m plt\u001b[38;5;241m.\u001b[39mfigure(figsize\u001b[38;5;241m=\u001b[39m(\u001b[38;5;241m12\u001b[39m,\u001b[38;5;241m8\u001b[39m))\n\u001b[0;32m      7\u001b[0m plt\u001b[38;5;241m.\u001b[39mtitle(\u001b[38;5;124m'\u001b[39m\u001b[38;5;124mModel\u001b[39m\u001b[38;5;124m'\u001b[39m)\n",
      "\u001b[1;31mIndexError\u001b[0m: only integers, slices (`:`), ellipsis (`...`), numpy.newaxis (`None`) and integer or boolean arrays are valid indices"
     ]
    }
   ],
   "source": [
    "train = df[:n_train]\n",
    "print(n_train)\n",
    "validation = y_tested\n",
    "validation['Predictions'] = y_pred\n",
    "\n",
    "plt.figure(figsize=(12,8))\n",
    "plt.title('Model')\n",
    "plt.xlabel('Tanggal', fontsize=18)\n",
    "plt.ylabel('Tingkat PM10', fontsize=18)\n",
    "plt.plot(train['pm10'])\n",
    "plt.plot(validation[['pm10', 'Predictions']])\n",
    "plt.legend(['Train', 'Val', 'Prediction'], loc='lower right')\n",
    "plt.show()"
   ]
  },
  {
   "cell_type": "code",
   "execution_count": null,
   "id": "0f55dde7-f8be-4e46-b86a-0250dc345c67",
   "metadata": {},
   "outputs": [],
   "source": []
  }
 ],
 "metadata": {
  "kernelspec": {
   "display_name": "Python 3 (ipykernel)",
   "language": "python",
   "name": "python3"
  },
  "language_info": {
   "codemirror_mode": {
    "name": "ipython",
    "version": 3
   },
   "file_extension": ".py",
   "mimetype": "text/x-python",
   "name": "python",
   "nbconvert_exporter": "python",
   "pygments_lexer": "ipython3",
   "version": "3.10.2"
  }
 },
 "nbformat": 4,
 "nbformat_minor": 5
}
