{
 "cells": [
  {
   "cell_type": "code",
   "execution_count": null,
   "id": "4afd83d3-eaa9-4895-934f-e05632766b01",
   "metadata": {},
   "outputs": [],
   "source": [
    "# Forecasting use LSTM For AQI (AIR QUALITY INDEX) Based on PM10"
   ]
  },
  {
   "cell_type": "code",
   "execution_count": 2,
   "id": "d985003d-9bb1-4c4d-b41f-cd61d0f3da17",
   "metadata": {},
   "outputs": [],
   "source": [
    "import numpy as np\n",
    "import pandas as pd\n",
    "import matplotlib.pyplot as plt\n",
    "import datetime as dt\n",
    "from datetime import datetime\n",
    "from keras.models import Sequential\n",
    "from keras.layers import Dense\n",
    "from keras.layers import LSTM\n",
    "from keras.layers import Dropout\n",
    "from keras.optimizers import Adam\n",
    "from keras.callbacks import EarlyStopping, ReduceLROnPlateau, ModelCheckpoint, TensorBoard\n",
    "\n",
    "%matplotlib inline"
   ]
  },
  {
   "cell_type": "code",
   "execution_count": 3,
   "id": "d4da457a-5b0b-46b7-9f9c-19603a33ec3f",
   "metadata": {},
   "outputs": [
    {
     "name": "stdout",
     "output_type": "stream",
     "text": [
      "Training set shape = (1076, 10)\n",
      "All timestamp = 1076\n",
      "Columns Selected : ['pm10', 'so2', 'co']\n"
     ]
    }
   ],
   "source": [
    "# Import Dataset\n",
    "dataset = pd.read_csv('ispu_data.csv')\n",
    "\n",
    "# Select column\n",
    "cols = list(dataset)[1:4]\n",
    "\n",
    "# Extracting\n",
    "datelist = list(dataset['tanggal'])\n",
    "datelist = [dt.datetime.strptime(date, '%Y-%m-%d').date() for date in datelist]\n",
    "\n",
    "print('Training set shape = {}'.format(dataset.shape))\n",
    "print('All timestamp = {}'.format(len(datelist)))\n",
    "print('Columns Selected : {}'.format(cols))"
   ]
  },
  {
   "cell_type": "code",
   "execution_count": 4,
   "id": "e53405b8-bc7f-4d9e-98ba-1b662f683d5a",
   "metadata": {},
   "outputs": [
    {
     "name": "stdout",
     "output_type": "stream",
     "text": [
      "Shape of training set = (1076, 3).\n"
     ]
    },
    {
     "data": {
      "text/plain": [
       "array([[29., 15.,  7.],\n",
       "       [24., 17.,  6.],\n",
       "       [23., 16.,  6.],\n",
       "       ...,\n",
       "       [61., 54., 15.],\n",
       "       [60., 53., 17.],\n",
       "       [64., 52., 44.]])"
      ]
     },
     "execution_count": 4,
     "metadata": {},
     "output_type": "execute_result"
    }
   ],
   "source": [
    "# DATA PREPROCESSING\n",
    "dataset = dataset[cols].astype(str)\n",
    "for i in cols:\n",
    "    for j in range(0, len(dataset)):\n",
    "        dataset[i][j] = dataset[i][j].replace(',', '')\n",
    "\n",
    "dataset = dataset.astype(float)\n",
    "# Using feature columns\n",
    "training_set = dataset.values\n",
    "\n",
    "print('Shape of training set = {}.'.format(training_set.shape))\n",
    "training_set"
   ]
  },
  {
   "cell_type": "code",
   "execution_count": 5,
   "id": "b5462839-0c75-4241-9077-0c4c9efbf839",
   "metadata": {},
   "outputs": [
    {
     "data": {
      "text/plain": [
       "array([[-2.1921057 ],\n",
       "       [-2.52555766],\n",
       "       [-2.59224805],\n",
       "       ...,\n",
       "       [-0.0580132 ],\n",
       "       [-0.12470359],\n",
       "       [ 0.14205797]])"
      ]
     },
     "execution_count": 5,
     "metadata": {},
     "output_type": "execute_result"
    }
   ],
   "source": [
    "# Feature Scale\n",
    "from sklearn.preprocessing import StandardScaler\n",
    "\n",
    "scaler = StandardScaler()\n",
    "training_set_scaled = scaler.fit_transform(training_set)\n",
    "\n",
    "scaler_predict = StandardScaler()\n",
    "scaler_predict.fit_transform(training_set[:, 0:1])"
   ]
  },
  {
   "cell_type": "code",
   "execution_count": 31,
   "id": "bb6f3b2d-02c8-4e5a-9f3c-4a625780e57b",
   "metadata": {},
   "outputs": [
    {
     "name": "stdout",
     "output_type": "stream",
     "text": [
      "x_train shape = (427, 400, 2).\n",
      "y_train shape = (427, 1).\n"
     ]
    }
   ],
   "source": [
    "# Create data structure 60 timestamps and 1 output\n",
    "x_train = []\n",
    "y_train = []\n",
    "\n",
    "n_future = 250\n",
    "n_past = 400\n",
    "\n",
    "for i in range(n_past, len(training_set_scaled) - n_future + 1):\n",
    "    x_train.append(training_set_scaled[i - n_past:i, 0:dataset.shape[1] - 1])\n",
    "    y_train.append(training_set_scaled[i + n_future - 1:i + n_future, 0])\n",
    "\n",
    "x_train, y_train = np.array(x_train), np.array(y_train)\n",
    "\n",
    "print('x_train shape = {}.'.format(x_train.shape))\n",
    "print('y_train shape = {}.'.format(y_train.shape))"
   ]
  },
  {
   "cell_type": "code",
   "execution_count": 32,
   "id": "c427bb9a-67a2-4ff6-9416-b75f2de0daac",
   "metadata": {},
   "outputs": [],
   "source": [
    "# LSTM Model\n",
    "model = Sequential()\n",
    "# 1st LSTM layer\n",
    "#model.add(LSTM(units=64, return_sequences=True, input_shape=(n_past, dataset.shape[1]-1)))\n",
    "model.add(LSTM(units=4, input_shape=(n_past, dataset.shape[1]-1)))\n",
    "# 2nd LSTM layer\n",
    "#model.add(LSTM(units=10, return_sequences=False))\n",
    "# Dropout\n",
    "#model.add(Dropout(0.25))\n",
    "# Output layer\n",
    "model.add(Dense(units=1))\n",
    "\n",
    "# Compiling the Neural Network\n",
    "model.compile(optimizer = Adam(learning_rate=0.01), loss='mean_squared_error')"
   ]
  },
  {
   "cell_type": "code",
   "execution_count": 33,
   "id": "9cdfa76c-14c2-4b93-b034-8352e13f22bc",
   "metadata": {},
   "outputs": [
    {
     "name": "stdout",
     "output_type": "stream",
     "text": [
      "Model: \"sequential_3\"\n",
      "_________________________________________________________________\n",
      " Layer (type)                Output Shape              Param #   \n",
      "=================================================================\n",
      " lstm_3 (LSTM)               (None, 4)                 112       \n",
      "                                                                 \n",
      " dense_3 (Dense)             (None, 1)                 5         \n",
      "                                                                 \n",
      "=================================================================\n",
      "Total params: 117\n",
      "Trainable params: 117\n",
      "Non-trainable params: 0\n",
      "_________________________________________________________________\n"
     ]
    }
   ],
   "source": [
    "model.summary()"
   ]
  },
  {
   "cell_type": "code",
   "execution_count": 34,
   "id": "1970b542-320a-4ec2-be1a-eab73f1998a5",
   "metadata": {},
   "outputs": [
    {
     "name": "stdout",
     "output_type": "stream",
     "text": [
      "Epoch 1/100\n",
      "2/2 [==============================] - ETA: 0s - loss: 0.9131\n",
      "Epoch 1: val_loss improved from inf to 1.75050, saving model to weights.h5\n",
      "2/2 [==============================] - 12s 3s/step - loss: 0.9131 - val_loss: 1.7505 - lr: 0.0100\n",
      "Epoch 2/100\n",
      "2/2 [==============================] - ETA: 0s - loss: 0.8771\n",
      "Epoch 2: val_loss did not improve from 1.75050\n",
      "2/2 [==============================] - 1s 714ms/step - loss: 0.8771 - val_loss: 1.7606 - lr: 0.0100\n",
      "Epoch 3/100\n",
      "2/2 [==============================] - ETA: 0s - loss: 0.8548\n",
      "Epoch 3: val_loss did not improve from 1.75050\n",
      "2/2 [==============================] - 1s 638ms/step - loss: 0.8548 - val_loss: 1.7794 - lr: 0.0100\n",
      "Epoch 4/100\n",
      "2/2 [==============================] - ETA: 0s - loss: 0.8442\n",
      "Epoch 4: val_loss did not improve from 1.75050\n",
      "2/2 [==============================] - 1s 616ms/step - loss: 0.8442 - val_loss: 1.7939 - lr: 0.0100\n",
      "Epoch 5/100\n",
      "2/2 [==============================] - ETA: 0s - loss: 0.8383\n",
      "Epoch 5: val_loss did not improve from 1.75050\n",
      "2/2 [==============================] - 1s 720ms/step - loss: 0.8383 - val_loss: 1.8053 - lr: 0.0100\n",
      "Epoch 6/100\n",
      "2/2 [==============================] - ETA: 0s - loss: 0.8331\n",
      "Epoch 6: val_loss did not improve from 1.75050\n",
      "2/2 [==============================] - 1s 668ms/step - loss: 0.8331 - val_loss: 1.8103 - lr: 0.0100\n",
      "Epoch 7/100\n",
      "2/2 [==============================] - ETA: 0s - loss: 0.8285\n",
      "Epoch 7: val_loss did not improve from 1.75050\n",
      "2/2 [==============================] - 1s 676ms/step - loss: 0.8285 - val_loss: 1.8016 - lr: 0.0100\n",
      "Epoch 8/100\n",
      "2/2 [==============================] - ETA: 0s - loss: 0.8242\n",
      "Epoch 8: val_loss did not improve from 1.75050\n",
      "2/2 [==============================] - 1s 688ms/step - loss: 0.8242 - val_loss: 1.7826 - lr: 0.0100\n",
      "Epoch 9/100\n",
      "2/2 [==============================] - ETA: 0s - loss: 0.8187\n",
      "Epoch 9: val_loss did not improve from 1.75050\n",
      "2/2 [==============================] - 1s 703ms/step - loss: 0.8187 - val_loss: 1.7593 - lr: 0.0100\n",
      "Epoch 10/100\n",
      "2/2 [==============================] - ETA: 0s - loss: 0.8123\n",
      "Epoch 10: val_loss improved from 1.75050 to 1.73473, saving model to weights.h5\n",
      "2/2 [==============================] - 1s 840ms/step - loss: 0.8123 - val_loss: 1.7347 - lr: 0.0100\n",
      "Epoch 11/100\n",
      "2/2 [==============================] - ETA: 0s - loss: 0.8043\n",
      "Epoch 11: val_loss improved from 1.73473 to 1.71177, saving model to weights.h5\n",
      "2/2 [==============================] - 1s 704ms/step - loss: 0.8043 - val_loss: 1.7118 - lr: 0.0100\n",
      "Epoch 12/100\n",
      "2/2 [==============================] - ETA: 0s - loss: 0.7957\n",
      "Epoch 12: val_loss improved from 1.71177 to 1.69021, saving model to weights.h5\n",
      "2/2 [==============================] - 1s 714ms/step - loss: 0.7957 - val_loss: 1.6902 - lr: 0.0100\n",
      "Epoch 13/100\n",
      "2/2 [==============================] - ETA: 0s - loss: 0.7871\n",
      "Epoch 13: val_loss improved from 1.69021 to 1.67415, saving model to weights.h5\n",
      "2/2 [==============================] - 1s 739ms/step - loss: 0.7871 - val_loss: 1.6741 - lr: 0.0100\n",
      "Epoch 14/100\n",
      "2/2 [==============================] - ETA: 0s - loss: 0.7778\n",
      "Epoch 14: val_loss improved from 1.67415 to 1.66289, saving model to weights.h5\n",
      "2/2 [==============================] - 1s 695ms/step - loss: 0.7778 - val_loss: 1.6629 - lr: 0.0100\n",
      "Epoch 15/100\n",
      "2/2 [==============================] - ETA: 0s - loss: 0.7677\n",
      "Epoch 15: val_loss improved from 1.66289 to 1.65162, saving model to weights.h5\n",
      "2/2 [==============================] - 1s 714ms/step - loss: 0.7677 - val_loss: 1.6516 - lr: 0.0100\n",
      "Epoch 16/100\n",
      "2/2 [==============================] - ETA: 0s - loss: 0.7569\n",
      "Epoch 16: val_loss improved from 1.65162 to 1.63649, saving model to weights.h5\n",
      "2/2 [==============================] - 1s 747ms/step - loss: 0.7569 - val_loss: 1.6365 - lr: 0.0100\n",
      "Epoch 17/100\n",
      "2/2 [==============================] - ETA: 0s - loss: 0.7477\n",
      "Epoch 17: val_loss improved from 1.63649 to 1.62144, saving model to weights.h5\n",
      "2/2 [==============================] - 1s 779ms/step - loss: 0.7477 - val_loss: 1.6214 - lr: 0.0100\n",
      "Epoch 18/100\n",
      "2/2 [==============================] - ETA: 0s - loss: 0.7362\n",
      "Epoch 18: val_loss improved from 1.62144 to 1.61782, saving model to weights.h5\n",
      "2/2 [==============================] - 1s 719ms/step - loss: 0.7362 - val_loss: 1.6178 - lr: 0.0100\n",
      "Epoch 19/100\n",
      "2/2 [==============================] - ETA: 0s - loss: 0.7244\n",
      "Epoch 19: val_loss did not improve from 1.61782\n",
      "2/2 [==============================] - 1s 705ms/step - loss: 0.7244 - val_loss: 1.6186 - lr: 0.0100\n",
      "Epoch 20/100\n",
      "2/2 [==============================] - ETA: 0s - loss: 0.7117\n",
      "Epoch 20: val_loss improved from 1.61782 to 1.61687, saving model to weights.h5\n",
      "2/2 [==============================] - 1s 755ms/step - loss: 0.7117 - val_loss: 1.6169 - lr: 0.0100\n",
      "Epoch 21/100\n",
      "2/2 [==============================] - ETA: 0s - loss: 0.6968\n",
      "Epoch 21: val_loss improved from 1.61687 to 1.61115, saving model to weights.h5\n",
      "2/2 [==============================] - 1s 714ms/step - loss: 0.6968 - val_loss: 1.6112 - lr: 0.0100\n",
      "Epoch 22/100\n",
      "2/2 [==============================] - ETA: 0s - loss: 0.6819\n",
      "Epoch 22: val_loss improved from 1.61115 to 1.60421, saving model to weights.h5\n",
      "2/2 [==============================] - 1s 789ms/step - loss: 0.6819 - val_loss: 1.6042 - lr: 0.0100\n",
      "Epoch 23/100\n",
      "2/2 [==============================] - ETA: 0s - loss: 0.6650\n",
      "Epoch 23: val_loss improved from 1.60421 to 1.59848, saving model to weights.h5\n",
      "2/2 [==============================] - 1s 676ms/step - loss: 0.6650 - val_loss: 1.5985 - lr: 0.0100\n",
      "Epoch 24/100\n",
      "2/2 [==============================] - ETA: 0s - loss: 0.6481\n",
      "Epoch 24: val_loss improved from 1.59848 to 1.59389, saving model to weights.h5\n",
      "2/2 [==============================] - 1s 812ms/step - loss: 0.6481 - val_loss: 1.5939 - lr: 0.0100\n",
      "Epoch 25/100\n",
      "2/2 [==============================] - ETA: 0s - loss: 0.6329\n",
      "Epoch 25: val_loss improved from 1.59389 to 1.58874, saving model to weights.h5\n",
      "2/2 [==============================] - 1s 651ms/step - loss: 0.6329 - val_loss: 1.5887 - lr: 0.0100\n",
      "Epoch 26/100\n",
      "2/2 [==============================] - ETA: 0s - loss: 0.6227\n",
      "Epoch 26: val_loss improved from 1.58874 to 1.58008, saving model to weights.h5\n",
      "2/2 [==============================] - 1s 855ms/step - loss: 0.6227 - val_loss: 1.5801 - lr: 0.0100\n",
      "Epoch 27/100\n",
      "2/2 [==============================] - ETA: 0s - loss: 0.6190\n",
      "Epoch 27: val_loss improved from 1.58008 to 1.57001, saving model to weights.h5\n",
      "2/2 [==============================] - 1s 758ms/step - loss: 0.6190 - val_loss: 1.5700 - lr: 0.0100\n",
      "Epoch 28/100\n",
      "2/2 [==============================] - ETA: 0s - loss: 0.6192\n",
      "Epoch 28: val_loss improved from 1.57001 to 1.56434, saving model to weights.h5\n",
      "2/2 [==============================] - 1s 720ms/step - loss: 0.6192 - val_loss: 1.5643 - lr: 0.0100\n",
      "Epoch 29/100\n",
      "2/2 [==============================] - ETA: 0s - loss: 0.6172\n",
      "Epoch 29: val_loss improved from 1.56434 to 1.55975, saving model to weights.h5\n",
      "2/2 [==============================] - 1s 741ms/step - loss: 0.6172 - val_loss: 1.5597 - lr: 0.0100\n",
      "Epoch 30/100\n",
      "2/2 [==============================] - ETA: 0s - loss: 0.6112\n",
      "Epoch 30: val_loss improved from 1.55975 to 1.55414, saving model to weights.h5\n",
      "2/2 [==============================] - 1s 708ms/step - loss: 0.6112 - val_loss: 1.5541 - lr: 0.0100\n",
      "Epoch 31/100\n",
      "2/2 [==============================] - ETA: 0s - loss: 0.6080\n",
      "Epoch 31: val_loss improved from 1.55414 to 1.54951, saving model to weights.h5\n",
      "2/2 [==============================] - 1s 700ms/step - loss: 0.6080 - val_loss: 1.5495 - lr: 0.0100\n",
      "Epoch 32/100\n",
      "2/2 [==============================] - ETA: 0s - loss: 0.6039\n",
      "Epoch 32: val_loss did not improve from 1.54951\n",
      "2/2 [==============================] - 1s 638ms/step - loss: 0.6039 - val_loss: 1.5502 - lr: 0.0100\n",
      "Epoch 33/100\n",
      "2/2 [==============================] - ETA: 0s - loss: 0.5967\n",
      "Epoch 33: val_loss did not improve from 1.54951\n",
      "2/2 [==============================] - 1s 680ms/step - loss: 0.5967 - val_loss: 1.5548 - lr: 0.0100\n",
      "Epoch 34/100\n",
      "2/2 [==============================] - ETA: 0s - loss: 0.5939\n",
      "Epoch 34: val_loss did not improve from 1.54951\n",
      "2/2 [==============================] - 1s 606ms/step - loss: 0.5939 - val_loss: 1.5557 - lr: 0.0100\n",
      "Epoch 35/100\n",
      "2/2 [==============================] - ETA: 0s - loss: 0.5951\n",
      "Epoch 35: val_loss did not improve from 1.54951\n",
      "2/2 [==============================] - 1s 706ms/step - loss: 0.5951 - val_loss: 1.5538 - lr: 0.0100\n",
      "Epoch 36/100\n",
      "2/2 [==============================] - ETA: 0s - loss: 0.5893\n",
      "Epoch 36: val_loss did not improve from 1.54951\n",
      "2/2 [==============================] - 1s 804ms/step - loss: 0.5893 - val_loss: 1.5545 - lr: 0.0100\n",
      "Epoch 37/100\n",
      "2/2 [==============================] - ETA: 0s - loss: 0.5827\n",
      "Epoch 37: val_loss did not improve from 1.54951\n",
      "2/2 [==============================] - 1s 696ms/step - loss: 0.5827 - val_loss: 1.5521 - lr: 0.0100\n",
      "Epoch 38/100\n",
      "2/2 [==============================] - ETA: 0s - loss: 0.5812\n",
      "Epoch 38: val_loss improved from 1.54951 to 1.54623, saving model to weights.h5\n",
      "2/2 [==============================] - 1s 825ms/step - loss: 0.5812 - val_loss: 1.5462 - lr: 0.0100\n",
      "Epoch 39/100\n",
      "2/2 [==============================] - ETA: 0s - loss: 0.5831\n",
      "Epoch 39: val_loss improved from 1.54623 to 1.54408, saving model to weights.h5\n",
      "2/2 [==============================] - 1s 766ms/step - loss: 0.5831 - val_loss: 1.5441 - lr: 0.0100\n",
      "Epoch 40/100\n",
      "2/2 [==============================] - ETA: 0s - loss: 0.5817\n",
      "Epoch 40: val_loss did not improve from 1.54408\n",
      "2/2 [==============================] - 1s 607ms/step - loss: 0.5817 - val_loss: 1.5529 - lr: 0.0100\n",
      "Epoch 41/100\n",
      "2/2 [==============================] - ETA: 0s - loss: 0.5774\n",
      "Epoch 41: val_loss did not improve from 1.54408\n",
      "2/2 [==============================] - 1s 663ms/step - loss: 0.5774 - val_loss: 1.5680 - lr: 0.0100\n",
      "Epoch 42/100\n",
      "2/2 [==============================] - ETA: 0s - loss: 0.5780\n",
      "Epoch 42: val_loss did not improve from 1.54408\n",
      "2/2 [==============================] - 1s 634ms/step - loss: 0.5780 - val_loss: 1.5823 - lr: 0.0100\n",
      "Epoch 43/100\n",
      "2/2 [==============================] - ETA: 0s - loss: 0.5733\n",
      "Epoch 43: val_loss did not improve from 1.54408\n",
      "2/2 [==============================] - 1s 688ms/step - loss: 0.5733 - val_loss: 1.5959 - lr: 0.0100\n",
      "Epoch 44/100\n",
      "2/2 [==============================] - ETA: 0s - loss: 0.5726\n",
      "Epoch 44: val_loss did not improve from 1.54408\n",
      "2/2 [==============================] - 1s 881ms/step - loss: 0.5726 - val_loss: 1.6020 - lr: 0.0100\n",
      "Epoch 45/100\n",
      "2/2 [==============================] - ETA: 0s - loss: 0.5708\n",
      "Epoch 45: val_loss did not improve from 1.54408\n",
      "2/2 [==============================] - 1s 602ms/step - loss: 0.5708 - val_loss: 1.6026 - lr: 0.0100\n",
      "Epoch 46/100\n",
      "2/2 [==============================] - ETA: 0s - loss: 0.5677\n",
      "Epoch 46: val_loss did not improve from 1.54408\n",
      "2/2 [==============================] - 1s 984ms/step - loss: 0.5677 - val_loss: 1.6069 - lr: 0.0100\n",
      "Epoch 47/100\n",
      "2/2 [==============================] - ETA: 0s - loss: 0.5681\n",
      "Epoch 47: val_loss did not improve from 1.54408\n",
      "2/2 [==============================] - 1s 662ms/step - loss: 0.5681 - val_loss: 1.6186 - lr: 0.0100\n",
      "Epoch 48/100\n",
      "2/2 [==============================] - ETA: 0s - loss: 0.5593\n",
      "Epoch 48: val_loss did not improve from 1.54408\n",
      "2/2 [==============================] - 1s 676ms/step - loss: 0.5593 - val_loss: 1.6362 - lr: 0.0100\n",
      "Epoch 49/100\n",
      "2/2 [==============================] - ETA: 0s - loss: 0.5612\n",
      "Epoch 49: ReduceLROnPlateau reducing learning rate to 0.004999999888241291.\n",
      "\n",
      "Epoch 49: val_loss did not improve from 1.54408\n",
      "2/2 [==============================] - 1s 695ms/step - loss: 0.5612 - val_loss: 1.6480 - lr: 0.0100\n",
      "Epoch 49: early stopping\n"
     ]
    }
   ],
   "source": [
    "# Training Model\n",
    "\n",
    "es = EarlyStopping(monitor='val_loss', min_delta=1e-10, patience=10, verbose=1)\n",
    "rlr = ReduceLROnPlateau(monitor='val_loss', factor=0.5, patience=10, verbose=1)\n",
    "mcp = ModelCheckpoint(filepath='weights.h5', monitor='val_loss', verbose=1, save_best_only=True, save_weights_only=True)\n",
    "\n",
    "tb = TensorBoard('logs')\n",
    "\n",
    "history = model.fit(x_train, y_train, shuffle=True, epochs=100, callbacks=[es, rlr, mcp, tb], validation_split=0.2, verbose=1, batch_size=256)"
   ]
  },
  {
   "cell_type": "code",
   "execution_count": 35,
   "id": "f5b82f2b-b670-46bb-84b9-3ae237ecc28c",
   "metadata": {},
   "outputs": [],
   "source": [
    "# Future Prediction\n",
    "datelist_future = pd.date_range(datelist[-1], periods=n_future, freq='1d').tolist()\n",
    "datelist_future_ = []\n",
    "for present_timestamp in datelist_future:\n",
    "    datelist_future_.append(present_timestamp.date())"
   ]
  },
  {
   "cell_type": "code",
   "execution_count": 36,
   "id": "29590b15-61d8-4020-b2bf-c96b564e5a6f",
   "metadata": {},
   "outputs": [
    {
     "name": "stdout",
     "output_type": "stream",
     "text": [
      "8/8 [==============================] - 2s 75ms/step\n",
      "1/1 [==============================] - 0s 113ms/step\n"
     ]
    }
   ],
   "source": [
    "# Predictions\n",
    "predictions_future = model.predict(x_train[-n_future:])\n",
    "predictions_train = model.predict(x_train[n_past:])"
   ]
  },
  {
   "cell_type": "code",
   "execution_count": 37,
   "id": "52a1ad5d-dd5d-4af9-aad1-d05805b840b7",
   "metadata": {},
   "outputs": [
    {
     "data": {
      "text/html": [
       "<div>\n",
       "<style scoped>\n",
       "    .dataframe tbody tr th:only-of-type {\n",
       "        vertical-align: middle;\n",
       "    }\n",
       "\n",
       "    .dataframe tbody tr th {\n",
       "        vertical-align: top;\n",
       "    }\n",
       "\n",
       "    .dataframe thead th {\n",
       "        text-align: right;\n",
       "    }\n",
       "</style>\n",
       "<table border=\"1\" class=\"dataframe\">\n",
       "  <thead>\n",
       "    <tr style=\"text-align: right;\">\n",
       "      <th></th>\n",
       "      <th>pm10</th>\n",
       "    </tr>\n",
       "  </thead>\n",
       "  <tbody>\n",
       "    <tr>\n",
       "      <th>2021-12-05</th>\n",
       "      <td>61.345890</td>\n",
       "    </tr>\n",
       "    <tr>\n",
       "      <th>2021-12-06</th>\n",
       "      <td>60.797276</td>\n",
       "    </tr>\n",
       "    <tr>\n",
       "      <th>2021-12-07</th>\n",
       "      <td>60.425049</td>\n",
       "    </tr>\n",
       "    <tr>\n",
       "      <th>2021-12-08</th>\n",
       "      <td>59.384174</td>\n",
       "    </tr>\n",
       "    <tr>\n",
       "      <th>2021-12-09</th>\n",
       "      <td>59.262241</td>\n",
       "    </tr>\n",
       "    <tr>\n",
       "      <th>2021-12-10</th>\n",
       "      <td>59.060661</td>\n",
       "    </tr>\n",
       "    <tr>\n",
       "      <th>2021-12-11</th>\n",
       "      <td>59.370705</td>\n",
       "    </tr>\n",
       "    <tr>\n",
       "      <th>2021-12-12</th>\n",
       "      <td>59.073898</td>\n",
       "    </tr>\n",
       "    <tr>\n",
       "      <th>2021-12-13</th>\n",
       "      <td>58.939175</td>\n",
       "    </tr>\n",
       "    <tr>\n",
       "      <th>2021-12-14</th>\n",
       "      <td>57.312096</td>\n",
       "    </tr>\n",
       "  </tbody>\n",
       "</table>\n",
       "</div>"
      ],
      "text/plain": [
       "                 pm10\n",
       "2021-12-05  61.345890\n",
       "2021-12-06  60.797276\n",
       "2021-12-07  60.425049\n",
       "2021-12-08  59.384174\n",
       "2021-12-09  59.262241\n",
       "2021-12-10  59.060661\n",
       "2021-12-11  59.370705\n",
       "2021-12-12  59.073898\n",
       "2021-12-13  58.939175\n",
       "2021-12-14  57.312096"
      ]
     },
     "execution_count": 37,
     "metadata": {},
     "output_type": "execute_result"
    }
   ],
   "source": [
    "# Inverse Pred\n",
    "def datetime_to_timestamp(x):\n",
    "    return datetime.strptime(x.strftime('%Y%m%d'), '%Y%m%d')\n",
    "\n",
    "y_pred_future = scaler_predict.inverse_transform(predictions_future)\n",
    "y_pred_train = scaler_predict.inverse_transform(predictions_train)\n",
    "\n",
    "PRED_FUTURE = pd.DataFrame(y_pred_future, columns=['pm10']).set_index(pd.Series(datelist_future))\n",
    "PRED_TRAIN = pd.DataFrame(y_pred_train, columns=['pm10']).set_index(pd.Series(datelist[2 * n_past + n_future -1:]))\n",
    "\n",
    "# Convert <datetime.date> to <Timestamp> for PREDCITION_TRAIN\n",
    "PRED_TRAIN.index = PRED_TRAIN.index.to_series().apply(datetime_to_timestamp)\n",
    "\n",
    "PRED_TRAIN.head(10)"
   ]
  },
  {
   "cell_type": "code",
   "execution_count": 40,
   "id": "1f2fa954-0e5c-47dc-8b5a-6b667d45ecaf",
   "metadata": {},
   "outputs": [
    {
     "data": {
      "image/png": "[encoded data removed]",
      "text/plain": [
       "<Figure size 1008x360 with 1 Axes>"
      ]
     },
     "metadata": {
      "needs_background": "light"
     },
     "output_type": "display_data"
    }
   ],
   "source": [
    "# Plotting\n",
    "\n",
    "# Set plot size \n",
    "from pylab import rcParams\n",
    "rcParams['figure.figsize'] = 14, 5\n",
    "\n",
    "# Plot parameters\n",
    "START_DATE_FOR_PLOTTING = '2020-01-01'\n",
    "\n",
    "plt.plot(PRED_FUTURE.index, PRED_FUTURE['pm10'], color='r', label='Predicted PM10')\n",
    "plt.plot(PRED_TRAIN.loc[START_DATE_FOR_PLOTTING:].index, PRED_TRAIN.loc[START_DATE_FOR_PLOTTING:]['pm10'], color='orange', label='Training predictions')\n",
    "plt.plot(dataset.loc[START_DATE_FOR_PLOTTING:].index, dataset.loc[START_DATE_FOR_PLOTTING:]['pm10'], color='b', label='Actual PM10')\n",
    "\n",
    "plt.axvline(x = min(PRED_FUTURE.index), color='green', linewidth=2, linestyle='--')\n",
    "\n",
    "plt.grid(which='major', color='#cccccc', alpha=0.5)\n",
    "\n",
    "plt.legend(shadow=True)\n",
    "plt.title('Predcitions and Actual PM10', family='Arial', fontsize=12)\n",
    "plt.xlabel('Timeline', family='Arial', fontsize=10)\n",
    "plt.ylabel('PM10 Value', family='Arial', fontsize=10)\n",
    "plt.xticks(rotation=45, fontsize=8)\n",
    "plt.show()"
   ]
  },
  {
   "cell_type": "code",
   "execution_count": 39,
   "id": "b96c95c5-b5a0-4bd3-8d7d-9b11e1981146",
   "metadata": {},
   "outputs": [],
   "source": [
    "dataset = pd.DataFrame(dataset, columns=cols)\n",
    "dataset.index = datelist\n",
    "dataset.index = pd.to_datetime(dataset.index)\n"
   ]
  },
  {
   "cell_type": "code",
   "execution_count": 41,
   "id": "9e99667d-006b-4d2b-b52b-2f20cd8a5a30",
   "metadata": {},
   "outputs": [
    {
     "data": {
      "text/plain": [
       "2021-12-31    62.842209\n",
       "2022-01-01    62.030476\n",
       "2022-01-02    62.291878\n",
       "2022-01-03    63.252262\n",
       "2022-01-04    62.114658\n",
       "                ...    \n",
       "2022-09-02    63.028492\n",
       "2022-09-03    63.347496\n",
       "2022-09-04    64.162727\n",
       "2022-09-05    63.808189\n",
       "2022-09-06    64.985497\n",
       "Name: pm10, Length: 250, dtype: float32"
      ]
     },
     "execution_count": 41,
     "metadata": {},
     "output_type": "execute_result"
    }
   ],
   "source": [
    "PRED_FUTURE['pm10']"
   ]
  },
  {
   "cell_type": "code",
   "execution_count": null,
   "id": "d5bc6f7e-c9a9-4599-98bb-48a6f30a676b",
   "metadata": {},
   "outputs": [],
   "source": []
  },
  {
   "cell_type": "code",
   "execution_count": 42,
   "id": "c643a77c-5cc3-418c-9bbf-572830fe0806",
   "metadata": {},
   "outputs": [],
   "source": [
    "PRED_FUTURE['pm10'].to_csv(\"pm10prediction.csv\")"
   ]
  },
  {
   "cell_type": "code",
   "execution_count": null,
   "id": "6c15fe1a-d2ae-4ace-a467-1745481bbed2",
   "metadata": {},
   "outputs": [],
   "source": []
  }
 ],
 "metadata": {
  "kernelspec": {
   "display_name": "Python 3 (ipykernel)",
   "language": "python",
   "name": "python3"
  },
  "language_info": {
   "codemirror_mode": {
    "name": "ipython",
    "version": 3
   },
   "file_extension": ".py",
   "mimetype": "text/x-python",
   "name": "python",
   "nbconvert_exporter": "python",
   "pygments_lexer": "ipython3",
   "version": "3.10.2"
  }
 },
 "nbformat": 4,
 "nbformat_minor": 5
}
