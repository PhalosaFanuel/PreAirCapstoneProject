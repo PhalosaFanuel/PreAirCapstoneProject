{
 "cells": [
  {
   "cell_type": "code",
   "execution_count": 1,
   "id": "f537e4e5-751b-40c1-8d99-69d0e0f7d551",
   "metadata": {},
   "outputs": [],
   "source": [
    "# Forecasting for PM10 and CO in AQI"
   ]
  },
  {
   "cell_type": "code",
   "execution_count": 1,
   "id": "cf872474-21d7-45e9-aa6c-8d38952a9ede",
   "metadata": {},
   "outputs": [],
   "source": [
    "# Libraries\n",
    "import pandas as pd\n",
    "import pandas as pandasForSortingCSV\n",
    "import matplotlib.pyplot as plt\n",
    "import numpy as np\n",
    "import tensorflow as tf\n",
    "from sklearn.preprocessing import MinMaxScaler\n",
    "from keras.models import Sequential\n",
    "from keras.layers import Dense, LSTM, Activation, Dropout\n",
    "\n",
    "import math\n",
    "import glob\n",
    "import os\n",
    "\n"
   ]
  },
  {
   "cell_type": "code",
   "execution_count": 2,
   "id": "6c7973fc-17d5-4ee0-87d5-805f9e8a7d33",
   "metadata": {},
   "outputs": [
    {
     "data": {
      "text/html": [
       "<div>\n",
       "<style scoped>\n",
       "    .dataframe tbody tr th:only-of-type {\n",
       "        vertical-align: middle;\n",
       "    }\n",
       "\n",
       "    .dataframe tbody tr th {\n",
       "        vertical-align: top;\n",
       "    }\n",
       "\n",
       "    .dataframe thead th {\n",
       "        text-align: right;\n",
       "    }\n",
       "</style>\n",
       "<table border=\"1\" class=\"dataframe\">\n",
       "  <thead>\n",
       "    <tr style=\"text-align: right;\">\n",
       "      <th></th>\n",
       "      <th>pm10</th>\n",
       "      <th>so2</th>\n",
       "      <th>co</th>\n",
       "      <th>o3</th>\n",
       "      <th>no2</th>\n",
       "      <th>max</th>\n",
       "      <th>critical</th>\n",
       "      <th>categori</th>\n",
       "      <th>lokasi_spku</th>\n",
       "    </tr>\n",
       "    <tr>\n",
       "      <th>tanggal</th>\n",
       "      <th></th>\n",
       "      <th></th>\n",
       "      <th></th>\n",
       "      <th></th>\n",
       "      <th></th>\n",
       "      <th></th>\n",
       "      <th></th>\n",
       "      <th></th>\n",
       "      <th></th>\n",
       "    </tr>\n",
       "  </thead>\n",
       "  <tbody>\n",
       "    <tr>\n",
       "      <th>2019-01-01</th>\n",
       "      <td>29</td>\n",
       "      <td>15</td>\n",
       "      <td>7</td>\n",
       "      <td>71</td>\n",
       "      <td>13</td>\n",
       "      <td>71</td>\n",
       "      <td>O3</td>\n",
       "      <td>SEDANG</td>\n",
       "      <td>DKI2</td>\n",
       "    </tr>\n",
       "    <tr>\n",
       "      <th>2019-01-02</th>\n",
       "      <td>24</td>\n",
       "      <td>17</td>\n",
       "      <td>6</td>\n",
       "      <td>79</td>\n",
       "      <td>6</td>\n",
       "      <td>79</td>\n",
       "      <td>O3</td>\n",
       "      <td>SEDANG</td>\n",
       "      <td>DKI2</td>\n",
       "    </tr>\n",
       "    <tr>\n",
       "      <th>2019-01-03</th>\n",
       "      <td>23</td>\n",
       "      <td>16</td>\n",
       "      <td>6</td>\n",
       "      <td>65</td>\n",
       "      <td>4</td>\n",
       "      <td>65</td>\n",
       "      <td>O3</td>\n",
       "      <td>SEDANG</td>\n",
       "      <td>DKI2</td>\n",
       "    </tr>\n",
       "    <tr>\n",
       "      <th>2019-01-04</th>\n",
       "      <td>42</td>\n",
       "      <td>18</td>\n",
       "      <td>10</td>\n",
       "      <td>64</td>\n",
       "      <td>11</td>\n",
       "      <td>64</td>\n",
       "      <td>O3</td>\n",
       "      <td>SEDANG</td>\n",
       "      <td>DKI2</td>\n",
       "    </tr>\n",
       "    <tr>\n",
       "      <th>2019-01-05</th>\n",
       "      <td>54</td>\n",
       "      <td>29</td>\n",
       "      <td>16</td>\n",
       "      <td>51</td>\n",
       "      <td>20</td>\n",
       "      <td>54</td>\n",
       "      <td>PM10</td>\n",
       "      <td>SEDANG</td>\n",
       "      <td>DKI3</td>\n",
       "    </tr>\n",
       "    <tr>\n",
       "      <th>2019-01-06</th>\n",
       "      <td>69</td>\n",
       "      <td>34</td>\n",
       "      <td>30</td>\n",
       "      <td>105</td>\n",
       "      <td>27</td>\n",
       "      <td>105</td>\n",
       "      <td>O3</td>\n",
       "      <td>TIDAK SEHAT</td>\n",
       "      <td>DKI2</td>\n",
       "    </tr>\n",
       "    <tr>\n",
       "      <th>2019-01-07</th>\n",
       "      <td>71</td>\n",
       "      <td>47</td>\n",
       "      <td>16</td>\n",
       "      <td>132</td>\n",
       "      <td>25</td>\n",
       "      <td>132</td>\n",
       "      <td>O3</td>\n",
       "      <td>TIDAK SEHAT</td>\n",
       "      <td>DKI3</td>\n",
       "    </tr>\n",
       "    <tr>\n",
       "      <th>2019-01-08</th>\n",
       "      <td>51</td>\n",
       "      <td>22</td>\n",
       "      <td>25</td>\n",
       "      <td>143</td>\n",
       "      <td>26</td>\n",
       "      <td>143</td>\n",
       "      <td>O3</td>\n",
       "      <td>TIDAK SEHAT</td>\n",
       "      <td>DKI3</td>\n",
       "    </tr>\n",
       "    <tr>\n",
       "      <th>2019-01-09</th>\n",
       "      <td>61</td>\n",
       "      <td>22</td>\n",
       "      <td>28</td>\n",
       "      <td>198</td>\n",
       "      <td>21</td>\n",
       "      <td>198</td>\n",
       "      <td>O3</td>\n",
       "      <td>TIDAK SEHAT</td>\n",
       "      <td>DKI1</td>\n",
       "    </tr>\n",
       "    <tr>\n",
       "      <th>2019-01-10</th>\n",
       "      <td>59</td>\n",
       "      <td>22</td>\n",
       "      <td>27</td>\n",
       "      <td>128</td>\n",
       "      <td>18</td>\n",
       "      <td>128</td>\n",
       "      <td>O3</td>\n",
       "      <td>TIDAK SEHAT</td>\n",
       "      <td>DKI1</td>\n",
       "    </tr>\n",
       "  </tbody>\n",
       "</table>\n",
       "</div>"
      ],
      "text/plain": [
       "            pm10 so2  co   o3  no2  max critical     categori lokasi_spku\n",
       "tanggal                                                                  \n",
       "2019-01-01    29  15   7   71   13   71       O3       SEDANG        DKI2\n",
       "2019-01-02    24  17   6   79    6   79       O3       SEDANG        DKI2\n",
       "2019-01-03    23  16   6   65    4   65       O3       SEDANG        DKI2\n",
       "2019-01-04    42  18  10   64   11   64       O3       SEDANG        DKI2\n",
       "2019-01-05    54  29  16   51   20   54     PM10       SEDANG        DKI3\n",
       "2019-01-06    69  34  30  105   27  105       O3  TIDAK SEHAT        DKI2\n",
       "2019-01-07    71  47  16  132   25  132       O3  TIDAK SEHAT        DKI3\n",
       "2019-01-08    51  22  25  143   26  143       O3  TIDAK SEHAT        DKI3\n",
       "2019-01-09    61  22  28  198   21  198       O3  TIDAK SEHAT        DKI1\n",
       "2019-01-10    59  22  27  128   18  128       O3  TIDAK SEHAT        DKI1"
      ]
     },
     "execution_count": 2,
     "metadata": {},
     "output_type": "execute_result"
    }
   ],
   "source": [
    "# Upload Dataset and Sort\n",
    "df = pd.read_csv('ispu_data.csv', index_col=0)\n",
    "df.head(10)"
   ]
  },
  {
   "cell_type": "code",
   "execution_count": 3,
   "id": "28c00cb5-2002-4669-9010-52095b243a2a",
   "metadata": {},
   "outputs": [
    {
     "data": {
      "text/plain": [
       "(1076, 9)"
      ]
     },
     "execution_count": 3,
     "metadata": {},
     "output_type": "execute_result"
    }
   ],
   "source": [
    "df.shape"
   ]
  },
  {
   "cell_type": "code",
   "execution_count": 4,
   "id": "409cfdbb-fdc0-4006-a2ee-d2fc52459fff",
   "metadata": {},
   "outputs": [
    {
     "data": {
      "image/png": "[encoded data removed]",
      "text/plain": [
       "<Figure size 864x576 with 1 Axes>"
      ]
     },
     "metadata": {
      "needs_background": "light"
     },
     "output_type": "display_data"
    }
   ],
   "source": [
    "# PM10 Graph\n",
    "plt.figure(figsize=(12,8))\n",
    "plt.title(\"PM10\")\n",
    "plt.plot(df['pm10'])\n",
    "plt.xlabel('tanggal', fontsize=18)\n",
    "plt.ylabel('Tingkat PM10', fontsize=18)\n",
    "plt.show()"
   ]
  },
  {
   "cell_type": "code",
   "execution_count": 13,
   "id": "157b8427-cbe3-4a04-aa61-43b6258003a0",
   "metadata": {},
   "outputs": [
    {
     "data": {
      "text/html": [
       "<div>\n",
       "<style scoped>\n",
       "    .dataframe tbody tr th:only-of-type {\n",
       "        vertical-align: middle;\n",
       "    }\n",
       "\n",
       "    .dataframe tbody tr th {\n",
       "        vertical-align: top;\n",
       "    }\n",
       "\n",
       "    .dataframe thead th {\n",
       "        text-align: right;\n",
       "    }\n",
       "</style>\n",
       "<table border=\"1\" class=\"dataframe\">\n",
       "  <thead>\n",
       "    <tr style=\"text-align: right;\">\n",
       "      <th></th>\n",
       "      <th>pm10</th>\n",
       "      <th>o3</th>\n",
       "      <th>no2</th>\n",
       "      <th>max</th>\n",
       "    </tr>\n",
       "  </thead>\n",
       "  <tbody>\n",
       "    <tr>\n",
       "      <th>count</th>\n",
       "      <td>1076.000000</td>\n",
       "      <td>1076.000000</td>\n",
       "      <td>1076.000000</td>\n",
       "      <td>1076.000000</td>\n",
       "    </tr>\n",
       "    <tr>\n",
       "      <th>mean</th>\n",
       "      <td>61.869888</td>\n",
       "      <td>81.512082</td>\n",
       "      <td>25.739777</td>\n",
       "      <td>98.025093</td>\n",
       "    </tr>\n",
       "    <tr>\n",
       "      <th>std</th>\n",
       "      <td>15.001637</td>\n",
       "      <td>38.504181</td>\n",
       "      <td>22.025802</td>\n",
       "      <td>32.307251</td>\n",
       "    </tr>\n",
       "    <tr>\n",
       "      <th>min</th>\n",
       "      <td>0.000000</td>\n",
       "      <td>18.000000</td>\n",
       "      <td>3.000000</td>\n",
       "      <td>41.000000</td>\n",
       "    </tr>\n",
       "    <tr>\n",
       "      <th>25%</th>\n",
       "      <td>54.000000</td>\n",
       "      <td>53.000000</td>\n",
       "      <td>13.000000</td>\n",
       "      <td>76.000000</td>\n",
       "    </tr>\n",
       "    <tr>\n",
       "      <th>50%</th>\n",
       "      <td>63.000000</td>\n",
       "      <td>73.000000</td>\n",
       "      <td>17.000000</td>\n",
       "      <td>92.000000</td>\n",
       "    </tr>\n",
       "    <tr>\n",
       "      <th>75%</th>\n",
       "      <td>71.000000</td>\n",
       "      <td>100.000000</td>\n",
       "      <td>32.000000</td>\n",
       "      <td>114.000000</td>\n",
       "    </tr>\n",
       "    <tr>\n",
       "      <th>max</th>\n",
       "      <td>179.000000</td>\n",
       "      <td>243.000000</td>\n",
       "      <td>148.000000</td>\n",
       "      <td>243.000000</td>\n",
       "    </tr>\n",
       "  </tbody>\n",
       "</table>\n",
       "</div>"
      ],
      "text/plain": [
       "              pm10           o3          no2          max\n",
       "count  1076.000000  1076.000000  1076.000000  1076.000000\n",
       "mean     61.869888    81.512082    25.739777    98.025093\n",
       "std      15.001637    38.504181    22.025802    32.307251\n",
       "min       0.000000    18.000000     3.000000    41.000000\n",
       "25%      54.000000    53.000000    13.000000    76.000000\n",
       "50%      63.000000    73.000000    17.000000    92.000000\n",
       "75%      71.000000   100.000000    32.000000   114.000000\n",
       "max     179.000000   243.000000   148.000000   243.000000"
      ]
     },
     "execution_count": 13,
     "metadata": {},
     "output_type": "execute_result"
    }
   ],
   "source": [
    "df.describe()"
   ]
  },
  {
   "cell_type": "code",
   "execution_count": 14,
   "id": "0ddae34b-1a4d-4945-9eff-175c00b060f4",
   "metadata": {},
   "outputs": [
    {
     "name": "stdout",
     "output_type": "stream",
     "text": [
      "            pm10\n",
      "tanggal         \n",
      "2019-01-01    29\n",
      "2019-01-02    24\n",
      "2019-01-03    23\n",
      "2019-01-04    42\n",
      "2019-01-05    54\n",
      "...          ...\n",
      "2021-12-27    75\n",
      "2021-12-28    59\n",
      "2021-12-29    61\n",
      "2021-12-30    60\n",
      "2021-12-31    64\n",
      "\n",
      "[1076 rows x 1 columns]\n"
     ]
    },
    {
     "data": {
      "text/plain": [
       "861"
      ]
     },
     "execution_count": 14,
     "metadata": {},
     "output_type": "execute_result"
    }
   ],
   "source": [
    "# Only PM10 Dataframe\n",
    "data = df.filter(['pm10'])\n",
    "print(data)\n",
    "dataset = data.values\n",
    "\n",
    "#Train Data\n",
    "training_data_len = math.ceil(len(dataset) * .8)\n",
    "\n",
    "training_data_len"
   ]
  },
  {
   "cell_type": "code",
   "execution_count": 15,
   "id": "51bfabdc-f8f1-4744-9b51-a47a4a3fa204",
   "metadata": {},
   "outputs": [
    {
     "data": {
      "text/plain": [
       "array([[0.16201117],\n",
       "       [0.13407821],\n",
       "       [0.12849162],\n",
       "       ...,\n",
       "       [0.34078212],\n",
       "       [0.33519553],\n",
       "       [0.3575419 ]])"
      ]
     },
     "execution_count": 15,
     "metadata": {},
     "output_type": "execute_result"
    }
   ],
   "source": [
    " #Data Scalling\n",
    "scale = MinMaxScaler(feature_range=(0,1))\n",
    "scaled_data = scale.fit_transform(dataset)\n",
    "\n",
    "scaled_data"
   ]
  },
  {
   "cell_type": "code",
   "execution_count": 16,
   "id": "56d0bf43-c379-4bd5-bd91-66d85c1fb0a6",
   "metadata": {},
   "outputs": [
    {
     "name": "stdout",
     "output_type": "stream",
     "text": [
      "[array([0.16201117, 0.13407821, 0.12849162, 0.23463687, 0.30167598,\n",
      "       0.38547486, 0.39664804, 0.2849162 , 0.34078212, 0.32960894,\n",
      "       0.35195531, 0.31843575, 0.36312849, 0.36312849, 0.40223464,\n",
      "       0.20670391, 0.31284916, 0.15083799, 0.24581006, 0.41340782,\n",
      "       0.34636872, 0.21787709, 0.32960894, 0.2849162 , 0.17877095,\n",
      "       0.35195531, 0.31284916, 0.29608939, 0.26815642, 0.26256983,\n",
      "       0.31284916, 0.34078212, 0.34078212, 0.3575419 , 0.31284916,\n",
      "       0.31843575, 0.29050279, 0.39106145, 0.35195531, 0.32960894,\n",
      "       0.32960894, 0.20670391, 0.31284916, 0.37430168, 0.40782123,\n",
      "       0.30167598, 0.23463687, 0.30726257, 0.2849162 , 0.40223464,\n",
      "       0.38547486, 0.38547486, 0.33519553, 0.23463687, 0.31843575,\n",
      "       0.32960894, 0.34078212, 0.3575419 , 0.31284916, 0.32402235])]\n",
      "[0.27932960893854747]\n",
      "\n"
     ]
    }
   ],
   "source": [
    "#Build Training Dataset\n",
    "\n",
    "train_data = scaled_data[0:training_data_len , :]\n",
    "\n",
    "#Split train data\n",
    "x_train = []\n",
    "y_train = []\n",
    "\n",
    "for i in range(60, len(train_data)):\n",
    "    x_train.append(train_data[i-60:i, 0])\n",
    "    y_train.append(train_data[i, 0])\n",
    "    if i <= 60:\n",
    "        print(x_train)\n",
    "        print(y_train)\n",
    "        print()"
   ]
  },
  {
   "cell_type": "code",
   "execution_count": 17,
   "id": "796a12ba-9d19-4965-ba9d-3f1b8cd8b91a",
   "metadata": {},
   "outputs": [],
   "source": [
    "# Convert x_train, y_train to numpy\n",
    "\n",
    "x_train, y_train = np.array(x_train), np.array(y_train)"
   ]
  },
  {
   "cell_type": "code",
   "execution_count": 18,
   "id": "62031d98-2b8a-4c73-81fc-261e1a57684e",
   "metadata": {},
   "outputs": [
    {
     "data": {
      "text/plain": [
       "(801, 60, 1)"
      ]
     },
     "execution_count": 18,
     "metadata": {},
     "output_type": "execute_result"
    }
   ],
   "source": [
    "# Reshape Data\n",
    "x_train = np.reshape(x_train, (x_train.shape[0], x_train.shape[1], 1))\n",
    "x_train.shape"
   ]
  },
  {
   "cell_type": "code",
   "execution_count": 29,
   "id": "88f5fdd4-5a10-4c28-bb0e-f7332121d2d3",
   "metadata": {},
   "outputs": [],
   "source": [
    "# LSTM Model\n",
    "model = Sequential()\n",
    "\n",
    "model.add(LSTM(units = 50, return_sequences = True, input_shape=(x_train.shape[1], 1)))\n",
    "model.add(Dropout(0.2))\n",
    "\n",
    "model.add(LSTM(units = 50, return_sequences = True))\n",
    "model.add(Dropout(0.2))\n",
    "\n",
    "model.add(LSTM(units = 50))\n",
    "model.add(Dropout(0.2))\n",
    "\n",
    "model.add(Dense(units = 1))\n",
    "\n",
    "model.compile(optimizer='adam', loss='mean_squared_error')  \n"
   ]
  },
  {
   "cell_type": "code",
   "execution_count": 30,
   "id": "a67ac204-c3e7-4e19-8412-077ace818e28",
   "metadata": {},
   "outputs": [
    {
     "name": "stdout",
     "output_type": "stream",
     "text": [
      "Model: \"sequential_1\"\n",
      "_________________________________________________________________\n",
      " Layer (type)                Output Shape              Param #   \n",
      "=================================================================\n",
      " lstm_3 (LSTM)               (None, 60, 50)            10400     \n",
      "                                                                 \n",
      " dropout_3 (Dropout)         (None, 60, 50)            0         \n",
      "                                                                 \n",
      " lstm_4 (LSTM)               (None, 60, 50)            20200     \n",
      "                                                                 \n",
      " dropout_4 (Dropout)         (None, 60, 50)            0         \n",
      "                                                                 \n",
      " lstm_5 (LSTM)               (None, 50)                20200     \n",
      "                                                                 \n",
      " dropout_5 (Dropout)         (None, 50)                0         \n",
      "                                                                 \n",
      " dense_1 (Dense)             (None, 1)                 51        \n",
      "                                                                 \n",
      "=================================================================\n",
      "Total params: 50,851\n",
      "Trainable params: 50,851\n",
      "Non-trainable params: 0\n",
      "_________________________________________________________________\n"
     ]
    }
   ],
   "source": [
    "# Summary\n",
    "model.summary()"
   ]
  },
  {
   "cell_type": "code",
   "execution_count": 31,
   "id": "bdddd944-c35e-4ef1-a495-034566156a51",
   "metadata": {},
   "outputs": [
    {
     "name": "stdout",
     "output_type": "stream",
     "text": [
      "Epoch 1/20\n",
      "26/26 [==============================] - 40s 628ms/step - loss: 0.0177\n",
      "Epoch 2/20\n",
      "26/26 [==============================] - 17s 638ms/step - loss: 0.0066\n",
      "Epoch 3/20\n",
      "26/26 [==============================] - 17s 636ms/step - loss: 0.0059\n",
      "Epoch 4/20\n",
      "26/26 [==============================] - 17s 639ms/step - loss: 0.0058\n",
      "Epoch 5/20\n",
      "26/26 [==============================] - 17s 637ms/step - loss: 0.0058\n",
      "Epoch 6/20\n",
      "26/26 [==============================] - 17s 641ms/step - loss: 0.0064\n",
      "Epoch 7/20\n",
      "26/26 [==============================] - 17s 641ms/step - loss: 0.0067\n",
      "Epoch 8/20\n",
      "26/26 [==============================] - 17s 639ms/step - loss: 0.0063\n",
      "Epoch 9/20\n",
      "26/26 [==============================] - 17s 637ms/step - loss: 0.0062\n",
      "Epoch 10/20\n",
      "26/26 [==============================] - 17s 639ms/step - loss: 0.0061\n",
      "Epoch 11/20\n",
      "26/26 [==============================] - 17s 636ms/step - loss: 0.0055\n",
      "Epoch 12/20\n",
      "26/26 [==============================] - 17s 641ms/step - loss: 0.0061\n",
      "Epoch 13/20\n",
      "26/26 [==============================] - 17s 656ms/step - loss: 0.0057\n",
      "Epoch 14/20\n",
      "26/26 [==============================] - 17s 644ms/step - loss: 0.0061\n",
      "Epoch 15/20\n",
      "26/26 [==============================] - 17s 646ms/step - loss: 0.0063\n",
      "Epoch 16/20\n",
      "26/26 [==============================] - 17s 657ms/step - loss: 0.0058\n",
      "Epoch 17/20\n",
      "26/26 [==============================] - 17s 648ms/step - loss: 0.0058\n",
      "Epoch 18/20\n",
      "26/26 [==============================] - 18s 675ms/step - loss: 0.0055\n",
      "Epoch 19/20\n",
      "26/26 [==============================] - 19s 719ms/step - loss: 0.0054\n",
      "Epoch 20/20\n",
      "26/26 [==============================] - 26s 1s/step - loss: 0.0062\n"
     ]
    },
    {
     "data": {
      "text/plain": [
       "<keras.callbacks.History at 0xb25b49a650>"
      ]
     },
     "execution_count": 31,
     "metadata": {},
     "output_type": "execute_result"
    }
   ],
   "source": [
    "#Training Model\n",
    "model.fit(x_train, y_train, epochs=20, batch_size=32)"
   ]
  },
  {
   "cell_type": "code",
   "execution_count": 32,
   "id": "7d8d31b6-88a4-42cf-8c3f-af1af7875f1a",
   "metadata": {},
   "outputs": [],
   "source": [
    "# Build Testing Dataset\n",
    "# Dataset containing the remainder of training_data_len\n",
    "test_data = scaled_data[training_data_len - 60: , :]\n",
    "\n",
    "# Dataset x_test, y_test\n",
    "x_test = []\n",
    "y_test = dataset[training_data_len:, :]\n",
    "\n",
    "for i in range(60, len(test_data)):\n",
    "    x_test.append(test_data[i-60:i, 0])\n"
   ]
  },
  {
   "cell_type": "code",
   "execution_count": 33,
   "id": "be556591-7da1-4da2-829a-cd5275b117c9",
   "metadata": {},
   "outputs": [],
   "source": [
    "#Convert Data to numpy (test)\n",
    "x_test = np.array(x_test)"
   ]
  },
  {
   "cell_type": "code",
   "execution_count": 34,
   "id": "772b1a83-1aff-4eab-a782-f210b4d211f2",
   "metadata": {},
   "outputs": [],
   "source": [
    "#Reshape test data\n",
    "x_test = np.reshape(x_test, (x_test.shape[0], x_test.shape[1], 1))"
   ]
  },
  {
   "cell_type": "code",
   "execution_count": 40,
   "id": "1f751ec5-b072-47d9-9d00-221f7e62a830",
   "metadata": {},
   "outputs": [
    {
     "name": "stdout",
     "output_type": "stream",
     "text": [
      "7/7 [==============================] - 3s 342ms/step\n"
     ]
    }
   ],
   "source": [
    "#Trying Predict Value\n",
    "pred = model.predict(x_test)\n",
    "pred = scale.inverse_transform(pred)"
   ]
  },
  {
   "cell_type": "code",
   "execution_count": 41,
   "id": "54053604-3fe8-44ff-8919-3433f435339e",
   "metadata": {},
   "outputs": [
    {
     "data": {
      "text/plain": [
       "4.4244795865790785"
      ]
     },
     "execution_count": 41,
     "metadata": {},
     "output_type": "execute_result"
    }
   ],
   "source": [
    "# Evaluate the Model use root mean squared error RMSE\n",
    "rmse = np.sqrt(np.mean(pred - y_test) ** 2)\n",
    "rmse"
   ]
  },
  {
   "cell_type": "code",
   "execution_count": 27,
   "id": "5a351a50-f3d2-40df-984a-781e30091b2b",
   "metadata": {},
   "outputs": [
    {
     "name": "stderr",
     "output_type": "stream",
     "text": [
      "C:\\Users\\zarek\\AppData\\Local\\Temp\\ipykernel_3968\\1435648989.py:4: SettingWithCopyWarning: \n",
      "A value is trying to be set on a copy of a slice from a DataFrame.\n",
      "Try using .loc[row_indexer,col_indexer] = value instead\n",
      "\n",
      "See the caveats in the documentation: https://pandas.pydata.org/pandas-docs/stable/user_guide/indexing.html#returning-a-view-versus-a-copy\n",
      "  validation['Predictions'] = pred\n"
     ]
    },
    {
     "data": {
      "image/png": "[encoded data removed]",
      "text/plain": [
       "<Figure size 864x576 with 1 Axes>"
      ]
     },
     "metadata": {
      "needs_background": "light"
     },
     "output_type": "display_data"
    }
   ],
   "source": [
    "#Plot Data\n",
    "train = data[:training_data_len]\n",
    "validation = data[training_data_len:]\n",
    "validation['Predictions'] = pred\n",
    "\n",
    "# Graph the Plot\n",
    "plt.figure(figsize=(12,8))\n",
    "plt.title('Model')\n",
    "plt.xlabel('Tanggal', fontsize=18)\n",
    "plt.ylabel('Tingkat PM10', fontsize=18)\n",
    "plt.plot(train['pm10'])\n",
    "plt.plot(validation[['pm10', 'Predictions']])\n",
    "plt.legend(['Train', 'Val', 'Prediction'], loc='lower right')\n",
    "plt.show()"
   ]
  },
  {
   "cell_type": "code",
   "execution_count": 28,
   "id": "76dfb3cb-a15b-43ec-a175-1cc8f936c257",
   "metadata": {},
   "outputs": [
    {
     "data": {
      "text/html": [
       "<div>\n",
       "<style scoped>\n",
       "    .dataframe tbody tr th:only-of-type {\n",
       "        vertical-align: middle;\n",
       "    }\n",
       "\n",
       "    .dataframe tbody tr th {\n",
       "        vertical-align: top;\n",
       "    }\n",
       "\n",
       "    .dataframe thead th {\n",
       "        text-align: right;\n",
       "    }\n",
       "</style>\n",
       "<table border=\"1\" class=\"dataframe\">\n",
       "  <thead>\n",
       "    <tr style=\"text-align: right;\">\n",
       "      <th></th>\n",
       "      <th>pm10</th>\n",
       "      <th>Predictions</th>\n",
       "    </tr>\n",
       "    <tr>\n",
       "      <th>tanggal</th>\n",
       "      <th></th>\n",
       "      <th></th>\n",
       "    </tr>\n",
       "  </thead>\n",
       "  <tbody>\n",
       "    <tr>\n",
       "      <th>2021-05-31</th>\n",
       "      <td>62</td>\n",
       "      <td>65.499260</td>\n",
       "    </tr>\n",
       "    <tr>\n",
       "      <th>2021-06-01</th>\n",
       "      <td>73</td>\n",
       "      <td>65.353233</td>\n",
       "    </tr>\n",
       "    <tr>\n",
       "      <th>2021-06-02</th>\n",
       "      <td>68</td>\n",
       "      <td>65.321350</td>\n",
       "    </tr>\n",
       "    <tr>\n",
       "      <th>2021-06-03</th>\n",
       "      <td>68</td>\n",
       "      <td>65.409172</td>\n",
       "    </tr>\n",
       "    <tr>\n",
       "      <th>2021-06-04</th>\n",
       "      <td>66</td>\n",
       "      <td>65.603676</td>\n",
       "    </tr>\n",
       "    <tr>\n",
       "      <th>...</th>\n",
       "      <td>...</td>\n",
       "      <td>...</td>\n",
       "    </tr>\n",
       "    <tr>\n",
       "      <th>2021-12-27</th>\n",
       "      <td>75</td>\n",
       "      <td>62.311630</td>\n",
       "    </tr>\n",
       "    <tr>\n",
       "      <th>2021-12-28</th>\n",
       "      <td>59</td>\n",
       "      <td>62.005451</td>\n",
       "    </tr>\n",
       "    <tr>\n",
       "      <th>2021-12-29</th>\n",
       "      <td>61</td>\n",
       "      <td>61.820545</td>\n",
       "    </tr>\n",
       "    <tr>\n",
       "      <th>2021-12-30</th>\n",
       "      <td>60</td>\n",
       "      <td>61.753395</td>\n",
       "    </tr>\n",
       "    <tr>\n",
       "      <th>2021-12-31</th>\n",
       "      <td>64</td>\n",
       "      <td>61.769482</td>\n",
       "    </tr>\n",
       "  </tbody>\n",
       "</table>\n",
       "<p>215 rows × 2 columns</p>\n",
       "</div>"
      ],
      "text/plain": [
       "            pm10  Predictions\n",
       "tanggal                      \n",
       "2021-05-31    62    65.499260\n",
       "2021-06-01    73    65.353233\n",
       "2021-06-02    68    65.321350\n",
       "2021-06-03    68    65.409172\n",
       "2021-06-04    66    65.603676\n",
       "...          ...          ...\n",
       "2021-12-27    75    62.311630\n",
       "2021-12-28    59    62.005451\n",
       "2021-12-29    61    61.820545\n",
       "2021-12-30    60    61.753395\n",
       "2021-12-31    64    61.769482\n",
       "\n",
       "[215 rows x 2 columns]"
      ]
     },
     "execution_count": 28,
     "metadata": {},
     "output_type": "execute_result"
    }
   ],
   "source": [
    "validation"
   ]
  },
  {
   "cell_type": "code",
   "execution_count": 45,
   "id": "98ad6a73-14fc-4eff-b38f-5f4d7dc429d2",
   "metadata": {},
   "outputs": [
    {
     "data": {
      "text/html": [
       "<div>\n",
       "<style scoped>\n",
       "    .dataframe tbody tr th:only-of-type {\n",
       "        vertical-align: middle;\n",
       "    }\n",
       "\n",
       "    .dataframe tbody tr th {\n",
       "        vertical-align: top;\n",
       "    }\n",
       "\n",
       "    .dataframe thead th {\n",
       "        text-align: right;\n",
       "    }\n",
       "</style>\n",
       "<table border=\"1\" class=\"dataframe\">\n",
       "  <thead>\n",
       "    <tr style=\"text-align: right;\">\n",
       "      <th></th>\n",
       "      <th>pm10</th>\n",
       "      <th>Predictions</th>\n",
       "    </tr>\n",
       "    <tr>\n",
       "      <th>tanggal</th>\n",
       "      <th></th>\n",
       "      <th></th>\n",
       "    </tr>\n",
       "  </thead>\n",
       "  <tbody>\n",
       "    <tr>\n",
       "      <th>2021-05-31</th>\n",
       "      <td>62</td>\n",
       "      <td>67.660362</td>\n",
       "    </tr>\n",
       "    <tr>\n",
       "      <th>2021-06-01</th>\n",
       "      <td>73</td>\n",
       "      <td>67.501152</td>\n",
       "    </tr>\n",
       "    <tr>\n",
       "      <th>2021-06-02</th>\n",
       "      <td>68</td>\n",
       "      <td>67.461510</td>\n",
       "    </tr>\n",
       "    <tr>\n",
       "      <th>2021-06-03</th>\n",
       "      <td>68</td>\n",
       "      <td>67.541252</td>\n",
       "    </tr>\n",
       "    <tr>\n",
       "      <th>2021-06-04</th>\n",
       "      <td>66</td>\n",
       "      <td>67.723007</td>\n",
       "    </tr>\n",
       "    <tr>\n",
       "      <th>...</th>\n",
       "      <td>...</td>\n",
       "      <td>...</td>\n",
       "    </tr>\n",
       "    <tr>\n",
       "      <th>2021-12-27</th>\n",
       "      <td>75</td>\n",
       "      <td>64.267288</td>\n",
       "    </tr>\n",
       "    <tr>\n",
       "      <th>2021-12-28</th>\n",
       "      <td>59</td>\n",
       "      <td>64.023857</td>\n",
       "    </tr>\n",
       "    <tr>\n",
       "      <th>2021-12-29</th>\n",
       "      <td>61</td>\n",
       "      <td>63.894474</td>\n",
       "    </tr>\n",
       "    <tr>\n",
       "      <th>2021-12-30</th>\n",
       "      <td>60</td>\n",
       "      <td>63.871044</td>\n",
       "    </tr>\n",
       "    <tr>\n",
       "      <th>2021-12-31</th>\n",
       "      <td>64</td>\n",
       "      <td>63.918747</td>\n",
       "    </tr>\n",
       "  </tbody>\n",
       "</table>\n",
       "<p>215 rows × 2 columns</p>\n",
       "</div>"
      ],
      "text/plain": [
       "            pm10  Predictions\n",
       "tanggal                      \n",
       "2021-05-31    62    67.660362\n",
       "2021-06-01    73    67.501152\n",
       "2021-06-02    68    67.461510\n",
       "2021-06-03    68    67.541252\n",
       "2021-06-04    66    67.723007\n",
       "...          ...          ...\n",
       "2021-12-27    75    64.267288\n",
       "2021-12-28    59    64.023857\n",
       "2021-12-29    61    63.894474\n",
       "2021-12-30    60    63.871044\n",
       "2021-12-31    64    63.918747\n",
       "\n",
       "[215 rows x 2 columns]"
      ]
     },
     "execution_count": 45,
     "metadata": {},
     "output_type": "execute_result"
    }
   ],
   "source": [
    "validation[['pm10','Predictions']]"
   ]
  },
  {
   "cell_type": "code",
   "execution_count": null,
   "id": "626bb3cf-9d43-41fc-8355-cc6e5bb8cc91",
   "metadata": {},
   "outputs": [],
   "source": []
  }
 ],
 "metadata": {
  "kernelspec": {
   "display_name": "Python 3 (ipykernel)",
   "language": "python",
   "name": "python3"
  },
  "language_info": {
   "codemirror_mode": {
    "name": "ipython",
    "version": 3
   },
   "file_extension": ".py",
   "mimetype": "text/x-python",
   "name": "python",
   "nbconvert_exporter": "python",
   "pygments_lexer": "ipython3",
   "version": "3.10.2"
  }
 },
 "nbformat": 4,
 "nbformat_minor": 5
}
