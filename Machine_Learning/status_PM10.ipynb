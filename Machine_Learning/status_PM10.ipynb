{
  "nbformat": 4,
  "nbformat_minor": 0,
  "metadata": {
    "colab": {
      "name": "status_PM10.ipynb",
      "provenance": [],
      "collapsed_sections": []
    },
    "kernelspec": {
      "name": "python3",
      "display_name": "Python 3"
    },
    "language_info": {
      "name": "python"
    }
  },
  "cells": [
    {
      "cell_type": "code",
      "execution_count": 1,
      "metadata": {
        "id": "27TfQPs6qDxC"
      },
      "outputs": [],
      "source": [
        "import os\n",
        "import zipfile\n",
        "import matplotlib.pyplot as plt\n",
        "import tensorflow as tf\n",
        "from tensorflow.keras import layers\n",
        "from tensorflow.keras import Model\n",
        "from tensorflow.keras.optimizers import RMSprop\n",
        "from tensorflow.keras.preprocessing.image import ImageDataGenerator\n",
        "from tensorflow.keras.preprocessing.image import img_to_array, load_img"
      ]
    },
    {
      "cell_type": "code",
      "source": [
        "test_local_zip = \"/content/Dataset.zip\"\n",
        "\n",
        "zip_ref = zipfile.ZipFile(test_local_zip, 'r')\n",
        "zip_ref.extractall('/tmp/training')\n",
        "\n",
        "val_local_zip = \"/content/Dataset.zip\"\n",
        "zip_ref = zipfile.ZipFile(val_local_zip, 'r')\n",
        "zip_ref.extractall('/tmp/validation')\n",
        "\n",
        "zip_ref.close()"
      ],
      "metadata": {
        "id": "NXt2q2porPjU"
      },
      "execution_count": 2,
      "outputs": []
    },
    {
      "cell_type": "code",
      "source": [
        "# Define the training and validation base directories\n",
        "train_dir = '/tmp/training'\n",
        "validation_dir = '/tmp/validation'\n",
        "\n",
        "# Directory with training Good pictures\n",
        "train_Good_dir = os.path.join(train_dir, 'Good')\n",
        "# Directory with training Moderate pictures\n",
        "train_Moderate_dir = os.path.join(train_dir, 'Moderate')\n",
        "# Directory with training Dangerous pictures\n",
        "train_Dangerous_dir = os.path.join(train_dir, 'Dangerous')\n",
        "\n",
        "# Directory with validation Good pictures\n",
        "validation_Good_dir = os.path.join(validation_dir, 'Good')\n",
        "# Directory with validation Moderate pictures\n",
        "validation_Moderate_dir = os.path.join(validation_dir, 'Moderate')\n",
        "# Directory with validation Dangerous pictures\n",
        "validation_Dangerous_dir = os.path.join(validation_dir, 'Dangerous')\n",
        "\n",
        "# Check the number of images for each class and set\n",
        "print(f\"There are {len(os.listdir(train_Good_dir))} images of Good for training.\\n\")\n",
        "print(f\"There are {len(os.listdir(train_Moderate_dir))} images of Moderate for training.\\n\")\n",
        "print(f\"There are {len(os.listdir(train_Dangerous_dir))} images of Dangerous for training.\\n\")\n",
        "print(f\"There are {len(os.listdir(validation_Good_dir))} images of Good for validation.\\n\")\n",
        "print(f\"There are {len(os.listdir(validation_Moderate_dir))} images of Moderate for validation.\\n\")\n",
        "print(f\"There are {len(os.listdir(validation_Dangerous_dir))} images of Dangerous for validation.\\n\")"
      ],
      "metadata": {
        "colab": {
          "base_uri": "https://localhost:8080/"
        },
        "id": "RW6oFVmgxZDV",
        "outputId": "0080393c-abb8-4689-fb35-0d4e20efc3a3"
      },
      "execution_count": 4,
      "outputs": [
        {
          "output_type": "stream",
          "name": "stdout",
          "text": [
            "There are 390 images of Good for training.\n",
            "\n",
            "There are 176 images of Moderate for training.\n",
            "\n",
            "There are 35 images of Dangerous for training.\n",
            "\n",
            "There are 390 images of Good for validation.\n",
            "\n",
            "There are 176 images of Moderate for validation.\n",
            "\n",
            "There are 35 images of Dangerous for validation.\n",
            "\n"
          ]
        }
      ]
    }
  ]
}